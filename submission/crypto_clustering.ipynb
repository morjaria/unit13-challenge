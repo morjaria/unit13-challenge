{
 "cells": [
  {
   "cell_type": "markdown",
   "metadata": {},
   "source": [
    "# Clustering Crypto"
   ]
  },
  {
   "cell_type": "code",
   "execution_count": 22,
   "metadata": {},
   "outputs": [],
   "source": [
    "# Initial imports\n",
    "import requests\n",
    "import pandas as pd\n",
    "import matplotlib.pyplot as plt\n",
    "import hvplot.pandas\n",
    "import plotly.express as px\n",
    "import numpy as np\n",
    "from sklearn.preprocessing import StandardScaler, MinMaxScaler\n",
    "from sklearn.decomposition import PCA\n",
    "from sklearn.cluster import KMeans"
   ]
  },
  {
   "cell_type": "markdown",
   "metadata": {},
   "source": [
    "### Fetching Cryptocurrency Data"
   ]
  },
  {
   "cell_type": "code",
   "execution_count": 23,
   "metadata": {},
   "outputs": [],
   "source": [
    "# Use the following endpoint to fetch json data\n",
    "url = \"https://min-api.cryptocompare.com/data/all/coinlist\"\n",
    "response = requests.get(url).json()"
   ]
  },
  {
   "cell_type": "code",
   "execution_count": 24,
   "metadata": {},
   "outputs": [],
   "source": [
    "# Create a DataFrame\n",
    "# HINT: You will need to use the 'Data' key from the json response, then transpose the DataFrame.\n",
    "df_cryptocompare= pd.DataFrame.from_dict(response['Data']).T"
   ]
  },
  {
   "cell_type": "code",
   "execution_count": 25,
   "metadata": {},
   "outputs": [
    {
     "output_type": "execute_result",
     "data": {
      "text/plain": [
       "         Id                  Url                         ImageUrl  \\\n",
       "42     4321   /coins/42/overview           /media/35650717/42.jpg   \n",
       "300  749869  /coins/300/overview          /media/27010595/300.png   \n",
       "365   33639  /coins/365/overview            /media/352070/365.png   \n",
       "404   21227  /coins/404/overview  /media/35650851/404-300x300.jpg   \n",
       "433  926547  /coins/433/overview          /media/34836095/433.png   \n",
       "\n",
       "    ContentCreatedOn Name Symbol   CoinName         FullName  \\\n",
       "42        1427211129   42     42    42 Coin     42 Coin (42)   \n",
       "300       1517935016  300    300  300 token  300 token (300)   \n",
       "365       1480032918  365    365    365Coin    365Coin (365)   \n",
       "404       1466100361  404    404    404Coin    404Coin (404)   \n",
       "433       1541597321  433    433  433 Token  433 Token (433)   \n",
       "\n",
       "                                           Description AssetTokenStatus  ...  \\\n",
       "42   Everything about 42 coin is 42 - apart from th...              N/A  ...   \n",
       "300  300 token is an ERC20 token. This Token was cr...              N/A  ...   \n",
       "365  365Coin is a Proof of Work and Proof of Stake ...              N/A  ...   \n",
       "404  404 is a PoW/PoS hybrid cryptocurrency that al...              N/A  ...   \n",
       "433  433 Token is a decentralised soccer platform t...         Finished  ...   \n",
       "\n",
       "    AssetLaunchDate MaxSupply MktCapPenalty IsUsedInDefi IsUsedInNft  \\\n",
       "42       0000-00-00         0             0            0           0   \n",
       "300      2017-07-01       300             0            0           0   \n",
       "365      0000-00-00         0             0            0           0   \n",
       "404      0000-00-00         0             0            0           0   \n",
       "433             NaN       NaN           NaN          NaN         NaN   \n",
       "\n",
       "    PlatformType BuiltOn                        SmartContractAddress  \\\n",
       "42           NaN     NaN                                         NaN   \n",
       "300        token     ETH  0xaec98a708810414878c3bcdf46aad31ded4a4557   \n",
       "365          NaN     NaN                                         NaN   \n",
       "404          NaN     NaN                                         NaN   \n",
       "433          NaN     NaN                                         NaN   \n",
       "\n",
       "    DecimalPoints Difficulty  \n",
       "42            NaN        NaN  \n",
       "300            18        NaN  \n",
       "365           NaN        NaN  \n",
       "404           NaN        NaN  \n",
       "433           NaN        NaN  \n",
       "\n",
       "[5 rows x 32 columns]"
      ],
      "text/html": "<div>\n<style scoped>\n    .dataframe tbody tr th:only-of-type {\n        vertical-align: middle;\n    }\n\n    .dataframe tbody tr th {\n        vertical-align: top;\n    }\n\n    .dataframe thead th {\n        text-align: right;\n    }\n</style>\n<table border=\"1\" class=\"dataframe\">\n  <thead>\n    <tr style=\"text-align: right;\">\n      <th></th>\n      <th>Id</th>\n      <th>Url</th>\n      <th>ImageUrl</th>\n      <th>ContentCreatedOn</th>\n      <th>Name</th>\n      <th>Symbol</th>\n      <th>CoinName</th>\n      <th>FullName</th>\n      <th>Description</th>\n      <th>AssetTokenStatus</th>\n      <th>...</th>\n      <th>AssetLaunchDate</th>\n      <th>MaxSupply</th>\n      <th>MktCapPenalty</th>\n      <th>IsUsedInDefi</th>\n      <th>IsUsedInNft</th>\n      <th>PlatformType</th>\n      <th>BuiltOn</th>\n      <th>SmartContractAddress</th>\n      <th>DecimalPoints</th>\n      <th>Difficulty</th>\n    </tr>\n  </thead>\n  <tbody>\n    <tr>\n      <th>42</th>\n      <td>4321</td>\n      <td>/coins/42/overview</td>\n      <td>/media/35650717/42.jpg</td>\n      <td>1427211129</td>\n      <td>42</td>\n      <td>42</td>\n      <td>42 Coin</td>\n      <td>42 Coin (42)</td>\n      <td>Everything about 42 coin is 42 - apart from th...</td>\n      <td>N/A</td>\n      <td>...</td>\n      <td>0000-00-00</td>\n      <td>0</td>\n      <td>0</td>\n      <td>0</td>\n      <td>0</td>\n      <td>NaN</td>\n      <td>NaN</td>\n      <td>NaN</td>\n      <td>NaN</td>\n      <td>NaN</td>\n    </tr>\n    <tr>\n      <th>300</th>\n      <td>749869</td>\n      <td>/coins/300/overview</td>\n      <td>/media/27010595/300.png</td>\n      <td>1517935016</td>\n      <td>300</td>\n      <td>300</td>\n      <td>300 token</td>\n      <td>300 token (300)</td>\n      <td>300 token is an ERC20 token. This Token was cr...</td>\n      <td>N/A</td>\n      <td>...</td>\n      <td>2017-07-01</td>\n      <td>300</td>\n      <td>0</td>\n      <td>0</td>\n      <td>0</td>\n      <td>token</td>\n      <td>ETH</td>\n      <td>0xaec98a708810414878c3bcdf46aad31ded4a4557</td>\n      <td>18</td>\n      <td>NaN</td>\n    </tr>\n    <tr>\n      <th>365</th>\n      <td>33639</td>\n      <td>/coins/365/overview</td>\n      <td>/media/352070/365.png</td>\n      <td>1480032918</td>\n      <td>365</td>\n      <td>365</td>\n      <td>365Coin</td>\n      <td>365Coin (365)</td>\n      <td>365Coin is a Proof of Work and Proof of Stake ...</td>\n      <td>N/A</td>\n      <td>...</td>\n      <td>0000-00-00</td>\n      <td>0</td>\n      <td>0</td>\n      <td>0</td>\n      <td>0</td>\n      <td>NaN</td>\n      <td>NaN</td>\n      <td>NaN</td>\n      <td>NaN</td>\n      <td>NaN</td>\n    </tr>\n    <tr>\n      <th>404</th>\n      <td>21227</td>\n      <td>/coins/404/overview</td>\n      <td>/media/35650851/404-300x300.jpg</td>\n      <td>1466100361</td>\n      <td>404</td>\n      <td>404</td>\n      <td>404Coin</td>\n      <td>404Coin (404)</td>\n      <td>404 is a PoW/PoS hybrid cryptocurrency that al...</td>\n      <td>N/A</td>\n      <td>...</td>\n      <td>0000-00-00</td>\n      <td>0</td>\n      <td>0</td>\n      <td>0</td>\n      <td>0</td>\n      <td>NaN</td>\n      <td>NaN</td>\n      <td>NaN</td>\n      <td>NaN</td>\n      <td>NaN</td>\n    </tr>\n    <tr>\n      <th>433</th>\n      <td>926547</td>\n      <td>/coins/433/overview</td>\n      <td>/media/34836095/433.png</td>\n      <td>1541597321</td>\n      <td>433</td>\n      <td>433</td>\n      <td>433 Token</td>\n      <td>433 Token (433)</td>\n      <td>433 Token is a decentralised soccer platform t...</td>\n      <td>Finished</td>\n      <td>...</td>\n      <td>NaN</td>\n      <td>NaN</td>\n      <td>NaN</td>\n      <td>NaN</td>\n      <td>NaN</td>\n      <td>NaN</td>\n      <td>NaN</td>\n      <td>NaN</td>\n      <td>NaN</td>\n      <td>NaN</td>\n    </tr>\n  </tbody>\n</table>\n<p>5 rows × 32 columns</p>\n</div>"
     },
     "metadata": {},
     "execution_count": 25
    }
   ],
   "source": [
    "df_cryptocompare.head()"
   ]
  },
  {
   "source": [
    "https://compassmining.io/education/when-will-all-bitcoins-be-mined/"
   ],
   "cell_type": "markdown",
   "metadata": {}
  },
  {
   "cell_type": "markdown",
   "metadata": {},
   "source": [
    "### Data Preprocessing"
   ]
  },
  {
   "cell_type": "code",
   "execution_count": 26,
   "metadata": {},
   "outputs": [],
   "source": [
    "# Keep only necessary columns:\n",
    "# 'CoinName','Algorithm','IsTrading','ProofType','TotalCoinsMined','TotalCoinSupply'\n",
    "# Totl coin supply not available - using max supply\n",
    "keep_list = ['CoinName','Algorithm','IsTrading','ProofType','TotalCoinsMined','MaxSupply']\n",
    "df_cryptocompare = df_cryptocompare[keep_list]"
   ]
  },
  {
   "cell_type": "code",
   "execution_count": 27,
   "metadata": {},
   "outputs": [
    {
     "output_type": "execute_result",
     "data": {
      "text/plain": [
       "      CoinName Algorithm IsTrading ProofType TotalCoinsMined MaxSupply\n",
       "42     42 Coin    Scrypt      True   PoW/PoS               0         0\n",
       "300  300 token       N/A      True       N/A             300       300\n",
       "365    365Coin       X11      True   PoW/PoS               0         0\n",
       "404    404Coin    Scrypt      True   PoW/PoS               0         0\n",
       "611  SixEleven   SHA-256      True       PoW               0         0"
      ],
      "text/html": "<div>\n<style scoped>\n    .dataframe tbody tr th:only-of-type {\n        vertical-align: middle;\n    }\n\n    .dataframe tbody tr th {\n        vertical-align: top;\n    }\n\n    .dataframe thead th {\n        text-align: right;\n    }\n</style>\n<table border=\"1\" class=\"dataframe\">\n  <thead>\n    <tr style=\"text-align: right;\">\n      <th></th>\n      <th>CoinName</th>\n      <th>Algorithm</th>\n      <th>IsTrading</th>\n      <th>ProofType</th>\n      <th>TotalCoinsMined</th>\n      <th>MaxSupply</th>\n    </tr>\n  </thead>\n  <tbody>\n    <tr>\n      <th>42</th>\n      <td>42 Coin</td>\n      <td>Scrypt</td>\n      <td>True</td>\n      <td>PoW/PoS</td>\n      <td>0</td>\n      <td>0</td>\n    </tr>\n    <tr>\n      <th>300</th>\n      <td>300 token</td>\n      <td>N/A</td>\n      <td>True</td>\n      <td>N/A</td>\n      <td>300</td>\n      <td>300</td>\n    </tr>\n    <tr>\n      <th>365</th>\n      <td>365Coin</td>\n      <td>X11</td>\n      <td>True</td>\n      <td>PoW/PoS</td>\n      <td>0</td>\n      <td>0</td>\n    </tr>\n    <tr>\n      <th>404</th>\n      <td>404Coin</td>\n      <td>Scrypt</td>\n      <td>True</td>\n      <td>PoW/PoS</td>\n      <td>0</td>\n      <td>0</td>\n    </tr>\n    <tr>\n      <th>611</th>\n      <td>SixEleven</td>\n      <td>SHA-256</td>\n      <td>True</td>\n      <td>PoW</td>\n      <td>0</td>\n      <td>0</td>\n    </tr>\n  </tbody>\n</table>\n</div>"
     },
     "metadata": {},
     "execution_count": 27
    }
   ],
   "source": [
    "# Keep only cryptocurrencies that are trading\n",
    "df_cryptocompare = df_cryptocompare[df_cryptocompare['IsTrading'] == True]\n",
    "df_cryptocompare.head()"
   ]
  },
  {
   "cell_type": "code",
   "execution_count": 28,
   "metadata": {},
   "outputs": [
    {
     "output_type": "execute_result",
     "data": {
      "text/plain": [
       "(5255, 6)"
      ]
     },
     "metadata": {},
     "execution_count": 28
    }
   ],
   "source": [
    "df_cryptocompare.shape"
   ]
  },
  {
   "cell_type": "code",
   "execution_count": 29,
   "metadata": {},
   "outputs": [],
   "source": [
    "# Keep only cryptocurrencies with a working algorithm\n",
    "df_cryptocompare = df_cryptocompare[~df_cryptocompare.Algorithm.str.match('N/A')]\n"
   ]
  },
  {
   "cell_type": "code",
   "execution_count": 30,
   "metadata": {},
   "outputs": [
    {
     "output_type": "execute_result",
     "data": {
      "text/plain": [
       "(1495, 6)"
      ]
     },
     "metadata": {},
     "execution_count": 30
    }
   ],
   "source": [
    "df_cryptocompare.shape"
   ]
  },
  {
   "cell_type": "code",
   "execution_count": 31,
   "metadata": {},
   "outputs": [
    {
     "output_type": "execute_result",
     "data": {
      "text/plain": [
       "(1495, 5)"
      ]
     },
     "metadata": {},
     "execution_count": 31
    }
   ],
   "source": [
    "# Remove the \"IsTrading\" column\n",
    "df_cryptocompare.drop([\"IsTrading\"],axis=1,inplace=True)\n",
    "df_cryptocompare.shape"
   ]
  },
  {
   "cell_type": "code",
   "execution_count": 32,
   "metadata": {},
   "outputs": [
    {
     "output_type": "execute_result",
     "data": {
      "text/plain": [
       "            CoinName     Algorithm ProofType       TotalCoinsMined  \\\n",
       "ACT           Achain          DPoS      DPoS            1000000000   \n",
       "BTG     Bitcoin Gold      Equihash       PoW       18729704.860885   \n",
       "ICX     ICON Project     Loopchain       PoS       889166189.38151   \n",
       "DGB         DigiByte      Multiple       PoW    14324626960.012735   \n",
       "YOOSHI        YooShi  BEP-20 Token       N/A  443435939231077.1875   \n",
       "\n",
       "          MaxSupply  \n",
       "ACT               0  \n",
       "BTG        21000000  \n",
       "ICX              -1  \n",
       "DGB     21000000000  \n",
       "YOOSHI           -1  "
      ],
      "text/html": "<div>\n<style scoped>\n    .dataframe tbody tr th:only-of-type {\n        vertical-align: middle;\n    }\n\n    .dataframe tbody tr th {\n        vertical-align: top;\n    }\n\n    .dataframe thead th {\n        text-align: right;\n    }\n</style>\n<table border=\"1\" class=\"dataframe\">\n  <thead>\n    <tr style=\"text-align: right;\">\n      <th></th>\n      <th>CoinName</th>\n      <th>Algorithm</th>\n      <th>ProofType</th>\n      <th>TotalCoinsMined</th>\n      <th>MaxSupply</th>\n    </tr>\n  </thead>\n  <tbody>\n    <tr>\n      <th>ACT</th>\n      <td>Achain</td>\n      <td>DPoS</td>\n      <td>DPoS</td>\n      <td>1000000000</td>\n      <td>0</td>\n    </tr>\n    <tr>\n      <th>BTG</th>\n      <td>Bitcoin Gold</td>\n      <td>Equihash</td>\n      <td>PoW</td>\n      <td>18729704.860885</td>\n      <td>21000000</td>\n    </tr>\n    <tr>\n      <th>ICX</th>\n      <td>ICON Project</td>\n      <td>Loopchain</td>\n      <td>PoS</td>\n      <td>889166189.38151</td>\n      <td>-1</td>\n    </tr>\n    <tr>\n      <th>DGB</th>\n      <td>DigiByte</td>\n      <td>Multiple</td>\n      <td>PoW</td>\n      <td>14324626960.012735</td>\n      <td>21000000000</td>\n    </tr>\n    <tr>\n      <th>YOOSHI</th>\n      <td>YooShi</td>\n      <td>BEP-20 Token</td>\n      <td>N/A</td>\n      <td>443435939231077.1875</td>\n      <td>-1</td>\n    </tr>\n  </tbody>\n</table>\n</div>"
     },
     "metadata": {},
     "execution_count": 32
    }
   ],
   "source": [
    "df_cryptocompare.tail()"
   ]
  },
  {
   "cell_type": "code",
   "execution_count": 33,
   "metadata": {},
   "outputs": [],
   "source": [
    "# Remove rows with at least 1 null value\n",
    "df_cryptocompare.dropna(axis=\"rows\",inplace=True)"
   ]
  },
  {
   "cell_type": "code",
   "execution_count": 34,
   "metadata": {},
   "outputs": [
    {
     "output_type": "execute_result",
     "data": {
      "text/plain": [
       "(285, 5)"
      ]
     },
     "metadata": {},
     "execution_count": 34
    }
   ],
   "source": [
    "df_cryptocompare.shape"
   ]
  },
  {
   "cell_type": "code",
   "execution_count": 35,
   "metadata": {},
   "outputs": [
    {
     "output_type": "execute_result",
     "data": {
      "text/plain": [
       "(144, 5)"
      ]
     },
     "metadata": {},
     "execution_count": 35
    }
   ],
   "source": [
    "# Remove rows with cryptocurrencies having no coins mined\n",
    "df_cryptocompare = df_cryptocompare[df_cryptocompare.TotalCoinsMined > 0 ]\n",
    "df_cryptocompare.shape"
   ]
  },
  {
   "cell_type": "code",
   "execution_count": 36,
   "metadata": {},
   "outputs": [
    {
     "output_type": "execute_result",
     "data": {
      "text/plain": [
       "            CoinName     Algorithm ProofType       TotalCoinsMined  \\\n",
       "ACT           Achain          DPoS      DPoS            1000000000   \n",
       "BTG     Bitcoin Gold      Equihash       PoW       18729704.860885   \n",
       "ICX     ICON Project     Loopchain       PoS       889166189.38151   \n",
       "DGB         DigiByte      Multiple       PoW    14324626960.012735   \n",
       "YOOSHI        YooShi  BEP-20 Token       N/A  443435939231077.1875   \n",
       "\n",
       "          MaxSupply  \n",
       "ACT               0  \n",
       "BTG        21000000  \n",
       "ICX              -1  \n",
       "DGB     21000000000  \n",
       "YOOSHI           -1  "
      ],
      "text/html": "<div>\n<style scoped>\n    .dataframe tbody tr th:only-of-type {\n        vertical-align: middle;\n    }\n\n    .dataframe tbody tr th {\n        vertical-align: top;\n    }\n\n    .dataframe thead th {\n        text-align: right;\n    }\n</style>\n<table border=\"1\" class=\"dataframe\">\n  <thead>\n    <tr style=\"text-align: right;\">\n      <th></th>\n      <th>CoinName</th>\n      <th>Algorithm</th>\n      <th>ProofType</th>\n      <th>TotalCoinsMined</th>\n      <th>MaxSupply</th>\n    </tr>\n  </thead>\n  <tbody>\n    <tr>\n      <th>ACT</th>\n      <td>Achain</td>\n      <td>DPoS</td>\n      <td>DPoS</td>\n      <td>1000000000</td>\n      <td>0</td>\n    </tr>\n    <tr>\n      <th>BTG</th>\n      <td>Bitcoin Gold</td>\n      <td>Equihash</td>\n      <td>PoW</td>\n      <td>18729704.860885</td>\n      <td>21000000</td>\n    </tr>\n    <tr>\n      <th>ICX</th>\n      <td>ICON Project</td>\n      <td>Loopchain</td>\n      <td>PoS</td>\n      <td>889166189.38151</td>\n      <td>-1</td>\n    </tr>\n    <tr>\n      <th>DGB</th>\n      <td>DigiByte</td>\n      <td>Multiple</td>\n      <td>PoW</td>\n      <td>14324626960.012735</td>\n      <td>21000000000</td>\n    </tr>\n    <tr>\n      <th>YOOSHI</th>\n      <td>YooShi</td>\n      <td>BEP-20 Token</td>\n      <td>N/A</td>\n      <td>443435939231077.1875</td>\n      <td>-1</td>\n    </tr>\n  </tbody>\n</table>\n</div>"
     },
     "metadata": {},
     "execution_count": 36
    }
   ],
   "source": [
    "df_cryptocompare.tail()"
   ]
  },
  {
   "cell_type": "code",
   "execution_count": 37,
   "metadata": {},
   "outputs": [
    {
     "output_type": "execute_result",
     "data": {
      "text/plain": [
       "(144, 5)"
      ]
     },
     "metadata": {},
     "execution_count": 37
    }
   ],
   "source": [
    "# Drop rows where there are 'N/A' text values\n",
    "df_cryptocompare = df_cryptocompare[df_cryptocompare.iloc[:] != 'N/A']\n",
    "df_cryptocompare.shape"
   ]
  },
  {
   "cell_type": "code",
   "execution_count": 38,
   "metadata": {},
   "outputs": [
    {
     "output_type": "execute_result",
     "data": {
      "text/plain": [
       "            CoinName     Algorithm ProofType       TotalCoinsMined  \\\n",
       "ACT           Achain          DPoS      DPoS            1000000000   \n",
       "BTG     Bitcoin Gold      Equihash       PoW       18729704.860885   \n",
       "ICX     ICON Project     Loopchain       PoS       889166189.38151   \n",
       "DGB         DigiByte      Multiple       PoW    14324626960.012735   \n",
       "YOOSHI        YooShi  BEP-20 Token       NaN  443435939231077.1875   \n",
       "\n",
       "          MaxSupply  \n",
       "ACT               0  \n",
       "BTG        21000000  \n",
       "ICX              -1  \n",
       "DGB     21000000000  \n",
       "YOOSHI           -1  "
      ],
      "text/html": "<div>\n<style scoped>\n    .dataframe tbody tr th:only-of-type {\n        vertical-align: middle;\n    }\n\n    .dataframe tbody tr th {\n        vertical-align: top;\n    }\n\n    .dataframe thead th {\n        text-align: right;\n    }\n</style>\n<table border=\"1\" class=\"dataframe\">\n  <thead>\n    <tr style=\"text-align: right;\">\n      <th></th>\n      <th>CoinName</th>\n      <th>Algorithm</th>\n      <th>ProofType</th>\n      <th>TotalCoinsMined</th>\n      <th>MaxSupply</th>\n    </tr>\n  </thead>\n  <tbody>\n    <tr>\n      <th>ACT</th>\n      <td>Achain</td>\n      <td>DPoS</td>\n      <td>DPoS</td>\n      <td>1000000000</td>\n      <td>0</td>\n    </tr>\n    <tr>\n      <th>BTG</th>\n      <td>Bitcoin Gold</td>\n      <td>Equihash</td>\n      <td>PoW</td>\n      <td>18729704.860885</td>\n      <td>21000000</td>\n    </tr>\n    <tr>\n      <th>ICX</th>\n      <td>ICON Project</td>\n      <td>Loopchain</td>\n      <td>PoS</td>\n      <td>889166189.38151</td>\n      <td>-1</td>\n    </tr>\n    <tr>\n      <th>DGB</th>\n      <td>DigiByte</td>\n      <td>Multiple</td>\n      <td>PoW</td>\n      <td>14324626960.012735</td>\n      <td>21000000000</td>\n    </tr>\n    <tr>\n      <th>YOOSHI</th>\n      <td>YooShi</td>\n      <td>BEP-20 Token</td>\n      <td>NaN</td>\n      <td>443435939231077.1875</td>\n      <td>-1</td>\n    </tr>\n  </tbody>\n</table>\n</div>"
     },
     "metadata": {},
     "execution_count": 38
    }
   ],
   "source": [
    "df_cryptocompare.tail()"
   ]
  },
  {
   "cell_type": "code",
   "execution_count": 39,
   "metadata": {},
   "outputs": [
    {
     "output_type": "execute_result",
     "data": {
      "text/plain": [
       "NVC           NovaCoin\n",
       "XCP       CounterParty\n",
       "NSR           NuShares\n",
       "MONA          MonaCoin\n",
       "TRI     Triangles Coin\n",
       "Name: CoinName, dtype: object"
      ]
     },
     "metadata": {},
     "execution_count": 39
    }
   ],
   "source": [
    "# Store the 'CoinName'column in its own DataFrame prior to dropping it from crypto_df\n",
    "df_coinsname= df_cryptocompare[\"CoinName\"]\n",
    "df_coinsname.head()"
   ]
  },
  {
   "cell_type": "code",
   "execution_count": 40,
   "metadata": {},
   "outputs": [
    {
     "output_type": "execute_result",
     "data": {
      "text/plain": [
       "     Algorithm ProofType  TotalCoinsMined MaxSupply\n",
       "NVC     Scrypt   PoW/PoS   3254006.464879        -1\n",
       "XCP    SHA-256       PoW   2615025.583979        -1\n",
       "NSR        PoS       PoS  6158523693.0671         0\n",
       "MONA    Scrypt       PoW  81732287.471579        -1\n",
       "TRI        X13   PoW/PoS    178912.035411         0"
      ],
      "text/html": "<div>\n<style scoped>\n    .dataframe tbody tr th:only-of-type {\n        vertical-align: middle;\n    }\n\n    .dataframe tbody tr th {\n        vertical-align: top;\n    }\n\n    .dataframe thead th {\n        text-align: right;\n    }\n</style>\n<table border=\"1\" class=\"dataframe\">\n  <thead>\n    <tr style=\"text-align: right;\">\n      <th></th>\n      <th>Algorithm</th>\n      <th>ProofType</th>\n      <th>TotalCoinsMined</th>\n      <th>MaxSupply</th>\n    </tr>\n  </thead>\n  <tbody>\n    <tr>\n      <th>NVC</th>\n      <td>Scrypt</td>\n      <td>PoW/PoS</td>\n      <td>3254006.464879</td>\n      <td>-1</td>\n    </tr>\n    <tr>\n      <th>XCP</th>\n      <td>SHA-256</td>\n      <td>PoW</td>\n      <td>2615025.583979</td>\n      <td>-1</td>\n    </tr>\n    <tr>\n      <th>NSR</th>\n      <td>PoS</td>\n      <td>PoS</td>\n      <td>6158523693.0671</td>\n      <td>0</td>\n    </tr>\n    <tr>\n      <th>MONA</th>\n      <td>Scrypt</td>\n      <td>PoW</td>\n      <td>81732287.471579</td>\n      <td>-1</td>\n    </tr>\n    <tr>\n      <th>TRI</th>\n      <td>X13</td>\n      <td>PoW/PoS</td>\n      <td>178912.035411</td>\n      <td>0</td>\n    </tr>\n  </tbody>\n</table>\n</div>"
     },
     "metadata": {},
     "execution_count": 40
    }
   ],
   "source": [
    "# Drop the 'CoinName' column since it's not going to be used on the clustering algorithm\n",
    "df_cryptocompare.drop(columns=\"CoinName\", axis=1, inplace=True)\n",
    "df_cryptocompare.head()"
   ]
  },
  {
   "cell_type": "code",
   "execution_count": 41,
   "metadata": {},
   "outputs": [
    {
     "output_type": "execute_result",
     "data": {
      "text/plain": [
       "      TotalCoinsMined MaxSupply  Algorithm_BEP-2  Algorithm_BEP-20 Token  \\\n",
       "NVC    3254006.464879        -1                0                       0   \n",
       "XCP    2615025.583979        -1                0                       0   \n",
       "NSR   6158523693.0671         0                0                       0   \n",
       "MONA  81732287.471579        -1                0                       0   \n",
       "TRI     178912.035411         0                0                       0   \n",
       "\n",
       "      Algorithm_BEP2 Token  Algorithm_BEP20 Token  Algorithm_BLAKE256  \\\n",
       "NVC                      0                      0                   0   \n",
       "XCP                      0                      0                   0   \n",
       "NSR                      0                      0                   0   \n",
       "MONA                     0                      0                   0   \n",
       "TRI                      0                      0                   0   \n",
       "\n",
       "      Algorithm_BMW512 / Echo512  Algorithm_Blake2B + SHA3  Algorithm_Blake2b  \\\n",
       "NVC                            0                         0                  0   \n",
       "XCP                            0                         0                  0   \n",
       "NSR                            0                         0                  0   \n",
       "MONA                           0                         0                  0   \n",
       "TRI                            0                         0                  0   \n",
       "\n",
       "      ...  ProofType_PoW/PoS  ProofType_PoW/PoSe  ProofType_PoW/nPoS  \\\n",
       "NVC   ...                  1                   0                   0   \n",
       "XCP   ...                  0                   0                   0   \n",
       "NSR   ...                  0                   0                   0   \n",
       "MONA  ...                  0                   0                   0   \n",
       "TRI   ...                  1                   0                   0   \n",
       "\n",
       "      ProofType_Proof of Authority  ProofType_SPoS  ProofType_TPoS  \\\n",
       "NVC                              0               0               0   \n",
       "XCP                              0               0               0   \n",
       "NSR                              0               0               0   \n",
       "MONA                             0               0               0   \n",
       "TRI                              0               0               0   \n",
       "\n",
       "      ProofType_Zero-Knowledge Proof  ProofType_dPoW  ProofType_dPoW/PoW  \\\n",
       "NVC                                0               0                   0   \n",
       "XCP                                0               0                   0   \n",
       "NSR                                0               0                   0   \n",
       "MONA                               0               0                   0   \n",
       "TRI                                0               0                   0   \n",
       "\n",
       "      ProofType_mPoW  \n",
       "NVC                0  \n",
       "XCP                0  \n",
       "NSR                0  \n",
       "MONA               0  \n",
       "TRI                0  \n",
       "\n",
       "[5 rows x 82 columns]"
      ],
      "text/html": "<div>\n<style scoped>\n    .dataframe tbody tr th:only-of-type {\n        vertical-align: middle;\n    }\n\n    .dataframe tbody tr th {\n        vertical-align: top;\n    }\n\n    .dataframe thead th {\n        text-align: right;\n    }\n</style>\n<table border=\"1\" class=\"dataframe\">\n  <thead>\n    <tr style=\"text-align: right;\">\n      <th></th>\n      <th>TotalCoinsMined</th>\n      <th>MaxSupply</th>\n      <th>Algorithm_BEP-2</th>\n      <th>Algorithm_BEP-20 Token</th>\n      <th>Algorithm_BEP2 Token</th>\n      <th>Algorithm_BEP20 Token</th>\n      <th>Algorithm_BLAKE256</th>\n      <th>Algorithm_BMW512 / Echo512</th>\n      <th>Algorithm_Blake2B + SHA3</th>\n      <th>Algorithm_Blake2b</th>\n      <th>...</th>\n      <th>ProofType_PoW/PoS</th>\n      <th>ProofType_PoW/PoSe</th>\n      <th>ProofType_PoW/nPoS</th>\n      <th>ProofType_Proof of Authority</th>\n      <th>ProofType_SPoS</th>\n      <th>ProofType_TPoS</th>\n      <th>ProofType_Zero-Knowledge Proof</th>\n      <th>ProofType_dPoW</th>\n      <th>ProofType_dPoW/PoW</th>\n      <th>ProofType_mPoW</th>\n    </tr>\n  </thead>\n  <tbody>\n    <tr>\n      <th>NVC</th>\n      <td>3254006.464879</td>\n      <td>-1</td>\n      <td>0</td>\n      <td>0</td>\n      <td>0</td>\n      <td>0</td>\n      <td>0</td>\n      <td>0</td>\n      <td>0</td>\n      <td>0</td>\n      <td>...</td>\n      <td>1</td>\n      <td>0</td>\n      <td>0</td>\n      <td>0</td>\n      <td>0</td>\n      <td>0</td>\n      <td>0</td>\n      <td>0</td>\n      <td>0</td>\n      <td>0</td>\n    </tr>\n    <tr>\n      <th>XCP</th>\n      <td>2615025.583979</td>\n      <td>-1</td>\n      <td>0</td>\n      <td>0</td>\n      <td>0</td>\n      <td>0</td>\n      <td>0</td>\n      <td>0</td>\n      <td>0</td>\n      <td>0</td>\n      <td>...</td>\n      <td>0</td>\n      <td>0</td>\n      <td>0</td>\n      <td>0</td>\n      <td>0</td>\n      <td>0</td>\n      <td>0</td>\n      <td>0</td>\n      <td>0</td>\n      <td>0</td>\n    </tr>\n    <tr>\n      <th>NSR</th>\n      <td>6158523693.0671</td>\n      <td>0</td>\n      <td>0</td>\n      <td>0</td>\n      <td>0</td>\n      <td>0</td>\n      <td>0</td>\n      <td>0</td>\n      <td>0</td>\n      <td>0</td>\n      <td>...</td>\n      <td>0</td>\n      <td>0</td>\n      <td>0</td>\n      <td>0</td>\n      <td>0</td>\n      <td>0</td>\n      <td>0</td>\n      <td>0</td>\n      <td>0</td>\n      <td>0</td>\n    </tr>\n    <tr>\n      <th>MONA</th>\n      <td>81732287.471579</td>\n      <td>-1</td>\n      <td>0</td>\n      <td>0</td>\n      <td>0</td>\n      <td>0</td>\n      <td>0</td>\n      <td>0</td>\n      <td>0</td>\n      <td>0</td>\n      <td>...</td>\n      <td>0</td>\n      <td>0</td>\n      <td>0</td>\n      <td>0</td>\n      <td>0</td>\n      <td>0</td>\n      <td>0</td>\n      <td>0</td>\n      <td>0</td>\n      <td>0</td>\n    </tr>\n    <tr>\n      <th>TRI</th>\n      <td>178912.035411</td>\n      <td>0</td>\n      <td>0</td>\n      <td>0</td>\n      <td>0</td>\n      <td>0</td>\n      <td>0</td>\n      <td>0</td>\n      <td>0</td>\n      <td>0</td>\n      <td>...</td>\n      <td>1</td>\n      <td>0</td>\n      <td>0</td>\n      <td>0</td>\n      <td>0</td>\n      <td>0</td>\n      <td>0</td>\n      <td>0</td>\n      <td>0</td>\n      <td>0</td>\n    </tr>\n  </tbody>\n</table>\n<p>5 rows × 82 columns</p>\n</div>"
     },
     "metadata": {},
     "execution_count": 41
    }
   ],
   "source": [
    "# Create dummy variables for text features\n",
    "X= pd.get_dummies(df_cryptocompare,columns=[\"Algorithm\",\"ProofType\"])\n",
    "X.head()"
   ]
  },
  {
   "cell_type": "code",
   "execution_count": 42,
   "metadata": {},
   "outputs": [
    {
     "output_type": "execute_result",
     "data": {
      "text/plain": [
       "(144, 82)"
      ]
     },
     "metadata": {},
     "execution_count": 42
    }
   ],
   "source": [
    "X.shape"
   ]
  },
  {
   "cell_type": "code",
   "execution_count": 43,
   "metadata": {},
   "outputs": [
    {
     "output_type": "execute_result",
     "data": {
      "text/plain": [
       "array([[-0.08431186, -0.12921792, -0.14586499, -0.0836242 , -0.0836242 ,\n",
       "        -0.0836242 , -0.11867817, -0.0836242 , -0.0836242 , -0.14586499,\n",
       "        -0.11867817, -0.11867817, -0.0836242 , -0.0836242 , -0.27317918,\n",
       "        -0.11867817, -0.0836242 , -0.0836242 , -0.0836242 , -0.28758784,\n",
       "        -0.0836242 , -0.24253563, -0.0836242 , -0.0836242 , -0.0836242 ,\n",
       "        -0.0836242 , -0.11867817, -0.0836242 , -0.0836242 , -0.0836242 ,\n",
       "        -0.0836242 , -0.0836242 , -0.0836242 , -0.16903085, -0.11867817,\n",
       "        -0.0836242 , -0.0836242 , -0.0836242 , -0.11867817, -0.18966081,\n",
       "        -0.0836242 , -0.14586499, -0.11867817, -0.31501848, -0.11867817,\n",
       "        -0.0836242 , -0.0836242 , -0.0836242 ,  2.56494588, -0.0836242 ,\n",
       "        -0.0836242 , -0.0836242 , -0.0836242 , -0.0836242 , -0.16903085,\n",
       "        -0.0836242 , -0.20851441, -0.0836242 , -0.0836242 , -0.0836242 ,\n",
       "        -0.0836242 , -0.0836242 , -0.24253563, -0.0836242 , -0.0836242 ,\n",
       "        -0.11867817, -0.11867817, -0.0836242 , -0.27317918, -0.0836242 ,\n",
       "        -0.0836242 , -0.83313723,  2.23606798, -0.0836242 , -0.0836242 ,\n",
       "        -0.0836242 , -0.0836242 , -0.0836242 , -0.0836242 , -0.0836242 ,\n",
       "        -0.0836242 , -0.0836242 ],\n",
       "       [-0.08431188, -0.12921792, -0.14586499, -0.0836242 , -0.0836242 ,\n",
       "        -0.0836242 , -0.11867817, -0.0836242 , -0.0836242 , -0.14586499,\n",
       "        -0.11867817, -0.11867817, -0.0836242 , -0.0836242 , -0.27317918,\n",
       "        -0.11867817, -0.0836242 , -0.0836242 , -0.0836242 , -0.28758784,\n",
       "        -0.0836242 , -0.24253563, -0.0836242 , -0.0836242 , -0.0836242 ,\n",
       "        -0.0836242 , -0.11867817, -0.0836242 , -0.0836242 , -0.0836242 ,\n",
       "        -0.0836242 , -0.0836242 , -0.0836242 , -0.16903085, -0.11867817,\n",
       "        -0.0836242 , -0.0836242 , -0.0836242 , -0.11867817, -0.18966081,\n",
       "        -0.0836242 , -0.14586499, -0.11867817,  3.17441697, -0.11867817,\n",
       "        -0.0836242 , -0.0836242 , -0.0836242 , -0.38987177, -0.0836242 ,\n",
       "        -0.0836242 , -0.0836242 , -0.0836242 , -0.0836242 , -0.16903085,\n",
       "        -0.0836242 , -0.20851441, -0.0836242 , -0.0836242 , -0.0836242 ,\n",
       "        -0.0836242 , -0.0836242 , -0.24253563, -0.0836242 , -0.0836242 ,\n",
       "        -0.11867817, -0.11867817, -0.0836242 , -0.27317918, -0.0836242 ,\n",
       "        -0.0836242 ,  1.20028245, -0.4472136 , -0.0836242 , -0.0836242 ,\n",
       "        -0.0836242 , -0.0836242 , -0.0836242 , -0.0836242 , -0.0836242 ,\n",
       "        -0.0836242 , -0.0836242 ],\n",
       "       [-0.0841447 , -0.12921792, -0.14586499, -0.0836242 , -0.0836242 ,\n",
       "        -0.0836242 , -0.11867817, -0.0836242 , -0.0836242 , -0.14586499,\n",
       "        -0.11867817, -0.11867817, -0.0836242 , -0.0836242 , -0.27317918,\n",
       "        -0.11867817, -0.0836242 , -0.0836242 , -0.0836242 , -0.28758784,\n",
       "        -0.0836242 , -0.24253563, -0.0836242 , -0.0836242 , -0.0836242 ,\n",
       "        -0.0836242 , -0.11867817, -0.0836242 , -0.0836242 , -0.0836242 ,\n",
       "        -0.0836242 , -0.0836242 , -0.0836242 , -0.16903085, -0.11867817,\n",
       "        -0.0836242 , -0.0836242 , -0.0836242 , -0.11867817,  5.27257053,\n",
       "        -0.0836242 , -0.14586499, -0.11867817, -0.31501848, -0.11867817,\n",
       "        -0.0836242 , -0.0836242 , -0.0836242 , -0.38987177, -0.0836242 ,\n",
       "        -0.0836242 , -0.0836242 , -0.0836242 , -0.0836242 , -0.16903085,\n",
       "        -0.0836242 , -0.20851441, -0.0836242 , -0.0836242 , -0.0836242 ,\n",
       "        -0.0836242 , -0.0836242 , -0.24253563, -0.0836242 , -0.0836242 ,\n",
       "        -0.11867817, -0.11867817, -0.0836242 ,  3.66060104, -0.0836242 ,\n",
       "        -0.0836242 , -0.83313723, -0.4472136 , -0.0836242 , -0.0836242 ,\n",
       "        -0.0836242 , -0.0836242 , -0.0836242 , -0.0836242 , -0.0836242 ,\n",
       "        -0.0836242 , -0.0836242 ]])"
      ]
     },
     "metadata": {},
     "execution_count": 43
    }
   ],
   "source": [
    "# Standardize data\n",
    "X = StandardScaler().fit_transform(X)\n",
    "X[:3]"
   ]
  },
  {
   "cell_type": "markdown",
   "metadata": {},
   "source": [
    "### Reducing Dimensions Using PCA"
   ]
  },
  {
   "cell_type": "code",
   "execution_count": 44,
   "metadata": {},
   "outputs": [
    {
     "output_type": "execute_result",
     "data": {
      "text/plain": [
       "array([[-0.73833363, -0.7514798 ,  0.06511541],\n",
       "       [ 1.82966475,  0.12134861, -0.05015627],\n",
       "       [-1.3522361 , -0.36859789,  0.1329249 ],\n",
       "       [ 1.05784643, -0.25066693, -0.03341007],\n",
       "       [-1.47111048, -0.87499734,  0.11289883]])"
      ]
     },
     "metadata": {},
     "execution_count": 44
    }
   ],
   "source": [
    "# Use PCA to reduce dimensions to 3 principal components\n",
    "pca = PCA(n_components=3)\n",
    "principal_components = pca.fit_transform(X)\n",
    "principal_components[:5]"
   ]
  },
  {
   "cell_type": "code",
   "execution_count": 45,
   "metadata": {},
   "outputs": [
    {
     "output_type": "execute_result",
     "data": {
      "text/plain": [
       "(3, 82)"
      ]
     },
     "metadata": {},
     "execution_count": 45
    }
   ],
   "source": [
    "pca.components_.shape"
   ]
  },
  {
   "source": [
    "Once you have reduced the data dimensions, create a DataFrame named pcs_df using as columns names \"PC 1\", \"PC 2\" and \"PC 3\"; use the crypto_df.index as the index for this new DataFrame."
   ],
   "cell_type": "markdown",
   "metadata": {}
  },
  {
   "cell_type": "code",
   "execution_count": 46,
   "metadata": {},
   "outputs": [
    {
     "output_type": "stream",
     "name": "stdout",
     "text": [
      "(144, 3)\n"
     ]
    },
    {
     "output_type": "execute_result",
     "data": {
      "text/plain": [
       "           PC 1      PC 2      PC 3\n",
       "NVC   -0.738334 -0.751480  0.065115\n",
       "XCP    1.829665  0.121349 -0.050156\n",
       "NSR   -1.352236 -0.368598  0.132925\n",
       "MONA   1.057846 -0.250667 -0.033410\n",
       "TRI   -1.471110 -0.874997  0.112899\n",
       "EMC    0.033484 -0.379464  0.048369\n",
       "SAFEX -0.507863 -0.525485  0.036036\n",
       "CMTC   1.057847 -0.250667 -0.033410\n",
       "XSN   -0.811046 -0.507464  0.039202\n",
       "CHAT  -0.738336 -0.751480  0.065117"
      ],
      "text/html": "<div>\n<style scoped>\n    .dataframe tbody tr th:only-of-type {\n        vertical-align: middle;\n    }\n\n    .dataframe tbody tr th {\n        vertical-align: top;\n    }\n\n    .dataframe thead th {\n        text-align: right;\n    }\n</style>\n<table border=\"1\" class=\"dataframe\">\n  <thead>\n    <tr style=\"text-align: right;\">\n      <th></th>\n      <th>PC 1</th>\n      <th>PC 2</th>\n      <th>PC 3</th>\n    </tr>\n  </thead>\n  <tbody>\n    <tr>\n      <th>NVC</th>\n      <td>-0.738334</td>\n      <td>-0.751480</td>\n      <td>0.065115</td>\n    </tr>\n    <tr>\n      <th>XCP</th>\n      <td>1.829665</td>\n      <td>0.121349</td>\n      <td>-0.050156</td>\n    </tr>\n    <tr>\n      <th>NSR</th>\n      <td>-1.352236</td>\n      <td>-0.368598</td>\n      <td>0.132925</td>\n    </tr>\n    <tr>\n      <th>MONA</th>\n      <td>1.057846</td>\n      <td>-0.250667</td>\n      <td>-0.033410</td>\n    </tr>\n    <tr>\n      <th>TRI</th>\n      <td>-1.471110</td>\n      <td>-0.874997</td>\n      <td>0.112899</td>\n    </tr>\n    <tr>\n      <th>EMC</th>\n      <td>0.033484</td>\n      <td>-0.379464</td>\n      <td>0.048369</td>\n    </tr>\n    <tr>\n      <th>SAFEX</th>\n      <td>-0.507863</td>\n      <td>-0.525485</td>\n      <td>0.036036</td>\n    </tr>\n    <tr>\n      <th>CMTC</th>\n      <td>1.057847</td>\n      <td>-0.250667</td>\n      <td>-0.033410</td>\n    </tr>\n    <tr>\n      <th>XSN</th>\n      <td>-0.811046</td>\n      <td>-0.507464</td>\n      <td>0.039202</td>\n    </tr>\n    <tr>\n      <th>CHAT</th>\n      <td>-0.738336</td>\n      <td>-0.751480</td>\n      <td>0.065117</td>\n    </tr>\n  </tbody>\n</table>\n</div>"
     },
     "metadata": {},
     "execution_count": 46
    }
   ],
   "source": [
    "# Create a DataFrame with the principal components data\n",
    "df_pcs = pd.DataFrame( principal_components,\n",
    "columns= [f\"PC {i}\" for i in range(1, pca.components_.shape[0] + 1)], index=df_cryptocompare.index)\n",
    "print(df_pcs.shape)\n",
    "df_pcs.head(10)"
   ]
  },
  {
   "cell_type": "markdown",
   "metadata": {},
   "source": [
    "### Clustering Crytocurrencies Using K-Means\n",
    "\n",
    "#### Find the Best Value for `k` Using the Elbow Curve"
   ]
  },
  {
   "cell_type": "code",
   "execution_count": 47,
   "metadata": {},
   "outputs": [
    {
     "output_type": "display_data",
     "data": {},
     "metadata": {}
    },
    {
     "output_type": "execute_result",
     "data": {
      "text/html": "<div id='1002'>\n\n\n\n\n\n  <div class=\"bk-root\" id=\"c45fb31a-9cb9-42f3-800e-c463da041f57\" data-root-id=\"1002\"></div>\n</div>\n<script type=\"application/javascript\">(function(root) {\n  function embed_document(root) {\n    var docs_json = {\"242383d7-2eb3-4544-9ae5-a3be4961b58a\":{\"defs\":[],\"roots\":{\"references\":[{\"attributes\":{\"source\":{\"id\":\"1037\"}},\"id\":\"1044\",\"type\":\"CDSView\"},{\"attributes\":{\"active_multi\":null,\"tools\":[{\"id\":\"1006\"},{\"id\":\"1024\"},{\"id\":\"1025\"},{\"id\":\"1026\"},{\"id\":\"1027\"},{\"id\":\"1028\"}]},\"id\":\"1030\",\"type\":\"Toolbar\"},{\"attributes\":{\"line_color\":\"#30a2da\",\"line_width\":2,\"x\":{\"field\":\"k\"},\"y\":{\"field\":\"inertia\"}},\"id\":\"1045\",\"type\":\"Line\"},{\"attributes\":{\"axis\":{\"id\":\"1020\"},\"dimension\":1,\"grid_line_color\":null,\"ticker\":null},\"id\":\"1023\",\"type\":\"Grid\"},{\"attributes\":{\"data\":{\"inertia\":{\"__ndarray__\":\"EGGU0G5JjEA4Q0NNPEuDQDDDQylWb3VATw1rAysfVEDT+pHfnSpIQDjnFSSb5kFAVyNWTBnBOECEnPwRylw0QO2uULcgiC1AAg59MSNnJkA=\",\"dtype\":\"float64\",\"order\":\"little\",\"shape\":[10]},\"k\":[1,2,3,4,5,6,7,8,9,10]},\"selected\":{\"id\":\"1038\"},\"selection_policy\":{\"id\":\"1063\"}},\"id\":\"1037\",\"type\":\"ColumnDataSource\"},{\"attributes\":{\"line_alpha\":0.2,\"line_color\":\"#30a2da\",\"line_width\":2,\"x\":{\"field\":\"k\"},\"y\":{\"field\":\"inertia\"}},\"id\":\"1042\",\"type\":\"Line\"},{\"attributes\":{\"bottom_units\":\"screen\",\"fill_alpha\":0.5,\"fill_color\":\"lightgrey\",\"left_units\":\"screen\",\"level\":\"overlay\",\"line_alpha\":1.0,\"line_color\":\"black\",\"line_dash\":[4,4],\"line_width\":2,\"right_units\":\"screen\",\"syncable\":false,\"top_units\":\"screen\"},\"id\":\"1029\",\"type\":\"BoxAnnotation\"},{\"attributes\":{\"below\":[{\"id\":\"1016\"}],\"center\":[{\"id\":\"1019\"},{\"id\":\"1023\"}],\"height\":300,\"left\":[{\"id\":\"1020\"}],\"margin\":[5,5,5,5],\"min_border_bottom\":10,\"min_border_left\":10,\"min_border_right\":10,\"min_border_top\":10,\"renderers\":[{\"id\":\"1043\"}],\"sizing_mode\":\"fixed\",\"title\":{\"id\":\"1008\"},\"toolbar\":{\"id\":\"1030\"},\"width\":700,\"x_range\":{\"id\":\"1004\"},\"x_scale\":{\"id\":\"1012\"},\"y_range\":{\"id\":\"1005\"},\"y_scale\":{\"id\":\"1014\"}},\"id\":\"1007\",\"subtype\":\"Figure\",\"type\":\"Plot\"},{\"attributes\":{\"axis\":{\"id\":\"1016\"},\"grid_line_color\":null,\"ticker\":null},\"id\":\"1019\",\"type\":\"Grid\"},{\"attributes\":{\"children\":[{\"id\":\"1003\"},{\"id\":\"1007\"},{\"id\":\"1073\"}],\"margin\":[0,0,0,0],\"name\":\"Row01625\",\"tags\":[\"embedded\"]},\"id\":\"1002\",\"type\":\"Row\"},{\"attributes\":{\"data_source\":{\"id\":\"1037\"},\"glyph\":{\"id\":\"1040\"},\"hover_glyph\":null,\"muted_glyph\":{\"id\":\"1042\"},\"nonselection_glyph\":{\"id\":\"1041\"},\"selection_glyph\":{\"id\":\"1045\"},\"view\":{\"id\":\"1044\"}},\"id\":\"1043\",\"type\":\"GlyphRenderer\"},{\"attributes\":{\"end\":10.0,\"reset_end\":10.0,\"reset_start\":1.0,\"start\":1.0,\"tags\":[[[\"k\",\"k\",null]]]},\"id\":\"1004\",\"type\":\"Range1d\"},{\"attributes\":{},\"id\":\"1038\",\"type\":\"Selection\"},{\"attributes\":{},\"id\":\"1048\",\"type\":\"BasicTickFormatter\"},{\"attributes\":{},\"id\":\"1024\",\"type\":\"SaveTool\"},{\"attributes\":{},\"id\":\"1063\",\"type\":\"UnionRenderers\"},{\"attributes\":{},\"id\":\"1025\",\"type\":\"PanTool\"},{\"attributes\":{\"line_color\":\"#30a2da\",\"line_width\":2,\"x\":{\"field\":\"k\"},\"y\":{\"field\":\"inertia\"}},\"id\":\"1040\",\"type\":\"Line\"},{\"attributes\":{},\"id\":\"1028\",\"type\":\"ResetTool\"},{\"attributes\":{\"margin\":[5,5,5,5],\"name\":\"HSpacer01629\",\"sizing_mode\":\"stretch_width\"},\"id\":\"1003\",\"type\":\"Spacer\"},{\"attributes\":{\"margin\":[5,5,5,5],\"name\":\"HSpacer01630\",\"sizing_mode\":\"stretch_width\"},\"id\":\"1073\",\"type\":\"Spacer\"},{\"attributes\":{},\"id\":\"1026\",\"type\":\"WheelZoomTool\"},{\"attributes\":{},\"id\":\"1053\",\"type\":\"BasicTickFormatter\"},{\"attributes\":{\"overlay\":{\"id\":\"1029\"}},\"id\":\"1027\",\"type\":\"BoxZoomTool\"},{\"attributes\":{\"text\":\"Elbow Curve\",\"text_color\":\"black\",\"text_font_size\":\"12pt\"},\"id\":\"1008\",\"type\":\"Title\"},{\"attributes\":{},\"id\":\"1012\",\"type\":\"LinearScale\"},{\"attributes\":{},\"id\":\"1047\",\"type\":\"AllLabels\"},{\"attributes\":{\"ticks\":[1,2,3,4,5,6,7,8,9,10]},\"id\":\"1046\",\"type\":\"FixedTicker\"},{\"attributes\":{},\"id\":\"1014\",\"type\":\"LinearScale\"},{\"attributes\":{},\"id\":\"1021\",\"type\":\"BasicTicker\"},{\"attributes\":{\"axis_label\":\"k\",\"formatter\":{\"id\":\"1048\"},\"major_label_policy\":{\"id\":\"1047\"},\"ticker\":{\"id\":\"1046\"}},\"id\":\"1016\",\"type\":\"LinearAxis\"},{\"attributes\":{\"callback\":null,\"renderers\":[{\"id\":\"1043\"}],\"tags\":[\"hv_created\"],\"tooltips\":[[\"k\",\"@{k}\"],[\"inertia\",\"@{inertia}\"]]},\"id\":\"1006\",\"type\":\"HoverTool\"},{\"attributes\":{},\"id\":\"1052\",\"type\":\"AllLabels\"},{\"attributes\":{\"end\":994.576875610811,\"reset_end\":994.576875610811,\"reset_start\":-78.19632646060391,\"start\":-78.19632646060391,\"tags\":[[[\"inertia\",\"inertia\",null]]]},\"id\":\"1005\",\"type\":\"Range1d\"},{\"attributes\":{\"line_alpha\":0.1,\"line_color\":\"#30a2da\",\"line_width\":2,\"x\":{\"field\":\"k\"},\"y\":{\"field\":\"inertia\"}},\"id\":\"1041\",\"type\":\"Line\"},{\"attributes\":{\"axis_label\":\"inertia\",\"formatter\":{\"id\":\"1053\"},\"major_label_policy\":{\"id\":\"1052\"},\"ticker\":{\"id\":\"1021\"}},\"id\":\"1020\",\"type\":\"LinearAxis\"}],\"root_ids\":[\"1002\"]},\"title\":\"Bokeh Application\",\"version\":\"2.3.1\"}};\n    var render_items = [{\"docid\":\"242383d7-2eb3-4544-9ae5-a3be4961b58a\",\"root_ids\":[\"1002\"],\"roots\":{\"1002\":\"c45fb31a-9cb9-42f3-800e-c463da041f57\"}}];\n    root.Bokeh.embed.embed_items_notebook(docs_json, render_items);\n  }\n  if (root.Bokeh !== undefined && root.Bokeh.Panel !== undefined) {\n    embed_document(root);\n  } else {\n    var attempts = 0;\n    var timer = setInterval(function(root) {\n      if (root.Bokeh !== undefined && root.Bokeh.Panel !== undefined) {\n        clearInterval(timer);\n        embed_document(root);\n      } else if (document.readyState == \"complete\") {\n        attempts++;\n        if (attempts > 100) {\n          clearInterval(timer);\n          console.log(\"Bokeh: ERROR: Unable to run BokehJS code because BokehJS library is missing\");\n        }\n      }\n    }, 10, root)\n  }\n})(window);</script>",
      "application/vnd.holoviews_exec.v0+json": "",
      "text/plain": [
       ":Curve   [k]   (inertia)"
      ]
     },
     "metadata": {
      "application/vnd.holoviews_exec.v0+json": {
       "id": "1002"
      }
     },
     "execution_count": 47
    }
   ],
   "source": [
    "inertia = []\n",
    "# creating 10 possible k values \n",
    "k = list(range(1, 11))\n",
    "\n",
    "# Calculate the inertia for the range of k values\n",
    "for i in k:\n",
    "    km = KMeans(n_clusters=i, random_state=0)\n",
    "    km.fit(df_pcs)\n",
    "    inertia.append(km.inertia_)\n",
    "\n",
    "# Create the Elbow Curve using hvPlot\n",
    "elbow_dict = {\"k\": k, \"inertia\": inertia}\n",
    "df_elbow = pd.DataFrame(elbow_dict)\n",
    "df_elbow.hvplot.line(x=\"k\", y=\"inertia\", xticks=k, title=\"Elbow Curve\")\n",
    "\n"
   ]
  },
  {
   "cell_type": "markdown",
   "metadata": {},
   "source": [
    "Running K-Means with `k=<your best value for k here>`"
   ]
  },
  {
   "cell_type": "code",
   "execution_count": 48,
   "metadata": {},
   "outputs": [
    {
     "output_type": "execute_result",
     "data": {
      "text/plain": [
       "     Algorithm ProofType  TotalCoinsMined MaxSupply      PC 1      PC 2  \\\n",
       "NVC     Scrypt   PoW/PoS   3254006.464879        -1 -0.738334 -0.751480   \n",
       "XCP    SHA-256       PoW   2615025.583979        -1  1.829665  0.121349   \n",
       "NSR        PoS       PoS  6158523693.0671         0 -1.352236 -0.368598   \n",
       "MONA    Scrypt       PoW  81732287.471579        -1  1.057846 -0.250667   \n",
       "TRI        X13   PoW/PoS    178912.035411         0 -1.471110 -0.874997   \n",
       "\n",
       "          PC 3        CoinName  Class  \n",
       "NVC   0.065115        NovaCoin      0  \n",
       "XCP  -0.050156    CounterParty      2  \n",
       "NSR   0.132925        NuShares      0  \n",
       "MONA -0.033410        MonaCoin      2  \n",
       "TRI   0.112899  Triangles Coin      0  "
      ],
      "text/html": "<div>\n<style scoped>\n    .dataframe tbody tr th:only-of-type {\n        vertical-align: middle;\n    }\n\n    .dataframe tbody tr th {\n        vertical-align: top;\n    }\n\n    .dataframe thead th {\n        text-align: right;\n    }\n</style>\n<table border=\"1\" class=\"dataframe\">\n  <thead>\n    <tr style=\"text-align: right;\">\n      <th></th>\n      <th>Algorithm</th>\n      <th>ProofType</th>\n      <th>TotalCoinsMined</th>\n      <th>MaxSupply</th>\n      <th>PC 1</th>\n      <th>PC 2</th>\n      <th>PC 3</th>\n      <th>CoinName</th>\n      <th>Class</th>\n    </tr>\n  </thead>\n  <tbody>\n    <tr>\n      <th>NVC</th>\n      <td>Scrypt</td>\n      <td>PoW/PoS</td>\n      <td>3254006.464879</td>\n      <td>-1</td>\n      <td>-0.738334</td>\n      <td>-0.751480</td>\n      <td>0.065115</td>\n      <td>NovaCoin</td>\n      <td>0</td>\n    </tr>\n    <tr>\n      <th>XCP</th>\n      <td>SHA-256</td>\n      <td>PoW</td>\n      <td>2615025.583979</td>\n      <td>-1</td>\n      <td>1.829665</td>\n      <td>0.121349</td>\n      <td>-0.050156</td>\n      <td>CounterParty</td>\n      <td>2</td>\n    </tr>\n    <tr>\n      <th>NSR</th>\n      <td>PoS</td>\n      <td>PoS</td>\n      <td>6158523693.0671</td>\n      <td>0</td>\n      <td>-1.352236</td>\n      <td>-0.368598</td>\n      <td>0.132925</td>\n      <td>NuShares</td>\n      <td>0</td>\n    </tr>\n    <tr>\n      <th>MONA</th>\n      <td>Scrypt</td>\n      <td>PoW</td>\n      <td>81732287.471579</td>\n      <td>-1</td>\n      <td>1.057846</td>\n      <td>-0.250667</td>\n      <td>-0.033410</td>\n      <td>MonaCoin</td>\n      <td>2</td>\n    </tr>\n    <tr>\n      <th>TRI</th>\n      <td>X13</td>\n      <td>PoW/PoS</td>\n      <td>178912.035411</td>\n      <td>0</td>\n      <td>-1.471110</td>\n      <td>-0.874997</td>\n      <td>0.112899</td>\n      <td>Triangles Coin</td>\n      <td>0</td>\n    </tr>\n  </tbody>\n</table>\n</div>"
     },
     "metadata": {},
     "execution_count": 48
    }
   ],
   "source": [
    "# Initialize the K-Means model\n",
    "kmodel = KMeans(n_clusters=4, random_state=0)\n",
    "# Fit the model\n",
    "kmodel.fit(df_pcs)\n",
    "# Predict clusters\n",
    "predictions = kmodel.predict(df_pcs)\n",
    "# Create a new DataFrame including predicted clusters and cryptocurrencies features\n",
    "df_crypto_predict = pd.concat([df_cryptocompare, df_pcs], axis=1, sort=False)\n",
    "# add coin name deleted before clustering \n",
    "df_crypto_predict[\"CoinName\"] = df_coinsname.iloc[:]\n",
    "df_crypto_predict[\"Class\"] = kmodel.labels_\n",
    "df_crypto_predict.head()"
   ]
  },
  {
   "cell_type": "markdown",
   "metadata": {},
   "source": [
    "### Visualizing Results\n",
    "\n",
    "#### 3D-Scatter with Clusters"
   ]
  },
  {
   "cell_type": "code",
   "execution_count": 49,
   "metadata": {},
   "outputs": [
    {
     "output_type": "display_data",
     "data": {
      "application/vnd.plotly.v1+json": {
       "config": {
        "plotlyServerURL": "https://plot.ly"
       },
       "data": [
        {
         "customdata": [
          [
           "Scrypt"
          ],
          [
           "PoS"
          ],
          [
           "X13"
          ],
          [
           "SHA-256"
          ],
          [
           "Scrypt"
          ],
          [
           "X11"
          ],
          [
           "Scrypt"
          ],
          [
           "SHA-512"
          ],
          [
           "X13"
          ],
          [
           "SPoS"
          ],
          [
           "NEP-5"
          ],
          [
           "X16RT"
          ],
          [
           "ECC 256K1"
          ],
          [
           "BEP20 Token"
          ],
          [
           "Scrypt"
          ],
          [
           "HEX"
          ],
          [
           "BEP2 Token"
          ],
          [
           "BEP-2"
          ],
          [
           "POS 3.0"
          ],
          [
           "NRC20 Token"
          ],
          [
           "Quark"
          ],
          [
           "Scrypt"
          ],
          [
           "GO20"
          ],
          [
           "DPoS"
          ],
          [
           "DPoS"
          ],
          [
           "TRC10"
          ],
          [
           "BEP-2"
          ],
          [
           "NEP-5"
          ],
          [
           "PoS"
          ],
          [
           "SPL Token"
          ],
          [
           "DPoS"
          ],
          [
           "Leased POS"
          ],
          [
           "Ethash"
          ],
          [
           "Equihash"
          ],
          [
           "DPoS"
          ],
          [
           "DPoS"
          ],
          [
           "Scrypt"
          ],
          [
           "KAWPOW"
          ],
          [
           "Scrypt"
          ],
          [
           "PoS"
          ],
          [
           "Quark"
          ],
          [
           "BEP-2"
          ],
          [
           "HRC-20 Token"
          ],
          [
           "Scrypt"
          ],
          [
           "X13"
          ],
          [
           "Scrypt"
          ],
          [
           "POS 3.0"
          ],
          [
           "Quark"
          ],
          [
           "VBFT"
          ],
          [
           "SHA3"
          ],
          [
           "dBFT2.0"
          ],
          [
           "PoS"
          ],
          [
           "X13"
          ],
          [
           "DPoS"
          ],
          [
           "X11"
          ],
          [
           "BLAKE256"
          ],
          [
           "DPoS"
          ],
          [
           "DPoS"
          ],
          [
           "BMW512 / Echo512"
          ],
          [
           "BLAKE256"
          ],
          [
           "X11"
          ],
          [
           "X13"
          ],
          [
           "Ouroboros"
          ],
          [
           "Shabal256"
          ],
          [
           "Scrypt"
          ],
          [
           "SHA-512"
          ],
          [
           "X13"
          ],
          [
           "DPoS"
          ],
          [
           "Equihash210,9"
          ],
          [
           "DPoS"
          ],
          [
           "Loopchain"
          ],
          [
           "BEP-20 Token"
          ]
         ],
         "hovertemplate": "<b>%{hovertext}</b><br><br>Class=%{marker.color}<br>PC 1=%{x}<br>PC 2=%{y}<br>PC 3=%{z}<br>Algorithm=%{customdata[0]}<extra></extra>",
         "hovertext": [
          "NovaCoin",
          "NuShares",
          "Triangles Coin",
          "Emercoin",
          "SafeExchangeCoin",
          "Stakenet",
          "OpenChat",
          "Kcash",
          "ABBC Coin",
          "V Systems",
          "Nevula",
          "VEIL",
          "Acute Angle Cloud",
          "Alpha Finance Lab",
          "Auroracoin",
          "XDNA",
          "Swingby",
          "Red Pulse Phoenix Binance",
          "TokenPay",
          "NextDAO",
          "QuarkCoin",
          "United Emirates Coin",
          "ECOMI",
          "Rise",
          "Oxycoin",
          "BitTorrent",
          "BakeryTokeN",
          "DeepBrain Chain",
          "Anchor Protocol",
          "MAPS",
          "Tenset",
          "Waves",
          "BeforeCoinMarketCap",
          "Zelcash",
          "Worldwide Asset eXchange",
          "Shift",
          "SaluS",
          "Ravencoin",
          "PotCoin",
          "Nxt",
          "BlockNet",
          "Binance Coin",
          "WeStarter",
          "WhiteCoin",
          "Stratis",
          "Reddcoin",
          "QTUM",
          "Private Instant Verified Transaction",
          "Ontology",
          "Nexus",
          "NEO",
          "Neblio",
          "NavCoin",
          "Lisk",
          "IOCoin",
          "HyperCash",
          "High Performance Blockchain",
          "EOS",
          "DigitalNote",
          "Decred",
          "Dash",
          "CloakCoin",
          "Cardano",
          "BurstCoin",
          "BlackCoin",
          "Bitshares",
          "Bitcoin Diamond",
          "ARK",
          "Aion",
          "Achain",
          "ICON Project",
          "YooShi"
         ],
         "legendgroup": "0",
         "marker": {
          "color": [
           0,
           0,
           0,
           0,
           0,
           0,
           0,
           0,
           0,
           0,
           0,
           0,
           0,
           0,
           0,
           0,
           0,
           0,
           0,
           0,
           0,
           0,
           0,
           0,
           0,
           0,
           0,
           0,
           0,
           0,
           0,
           0,
           0,
           0,
           0,
           0,
           0,
           0,
           0,
           0,
           0,
           0,
           0,
           0,
           0,
           0,
           0,
           0,
           0,
           0,
           0,
           0,
           0,
           0,
           0,
           0,
           0,
           0,
           0,
           0,
           0,
           0,
           0,
           0,
           0,
           0,
           0,
           0,
           0,
           0,
           0,
           0
          ],
          "coloraxis": "coloraxis",
          "symbol": "circle"
         },
         "mode": "markers",
         "name": "0",
         "scene": "scene",
         "showlegend": true,
         "type": "scatter3d",
         "x": [
          -0.7383336324865645,
          -1.3522360954818116,
          -1.4711104827516877,
          0.03348439702617977,
          -0.5078625431357111,
          -0.8110461960984036,
          -0.7383359916290172,
          -2.323962055703591,
          -0.8827392813646329,
          -2.339907244782176,
          -0.3284388505625897,
          -1.481790953898815,
          -2.3397893065593705,
          -0.414376221412475,
          -0.7383008783887228,
          -1.4826444666912482,
          -0.4143762214124724,
          -0.5456659924929476,
          -1.855880194183801,
          -0.38591547679136734,
          -1.500155615234192,
          -0.1523045946670296,
          -0.417595930120379,
          -1.8628504876201872,
          -2.093348080956029,
          -2.269691171227265,
          -0.5456593167506687,
          -0.3908288035875905,
          -1.3522238860615894,
          -2.1790380574810704,
          -1.0779047210376815,
          -2.339767506148317,
          -0.4003473891891711,
          -0.28462084014146827,
          -1.077913051660812,
          -2.0933454595720034,
          -0.7383336272292518,
          -0.35463405201454945,
          -0.7376783200650504,
          -1.031244780150599,
          -1.500154996425682,
          -0.9946803080555374,
          -0.41437233834381665,
          -0.7367742877252869,
          -1.6700275427771791,
          -0.7384050904052196,
          -1.855751057996127,
          -1.500155134559448,
          -1.8452541251190717,
          -2.3385129798763655,
          -0.41408768810751645,
          -0.5672757346910721,
          -1.4711106520736994,
          -2.093345765328956,
          -1.0309152737737202,
          -1.4910872046594352,
          -1.0777482971482444,
          -2.0933478615946766,
          -1.4826661826907293,
          -1.4911855046246218,
          -0.810991922120198,
          -1.4711104956891168,
          -1.7172957434474057,
          -1.0563734285690238,
          -0.9370943653877764,
          -2.2846942317263292,
          -1.4707830361969436,
          -2.0933457969675033,
          -1.4826465531803963,
          -2.0933477912946725,
          -1.8452536469243,
          -2.3275854585769107
         ],
         "y": [
          -0.7514798022749833,
          -0.3685978926979841,
          -0.8749973355886277,
          -0.3794642677631369,
          -0.5254847161349229,
          -0.5074639241426444,
          -0.7514798868149949,
          -0.32692043801863424,
          -0.3876352691815651,
          -0.3917241696197182,
          0.08619372337837464,
          -0.9671583478110566,
          -0.3916842895165875,
          -0.007983240445172589,
          -0.7514467473634181,
          -0.9680931706225,
          -0.007983240445172556,
          -0.012065278774631368,
          -0.4840409000463367,
          0.02317792148121495,
          -0.9817346927544794,
          -0.2664821872460658,
          -0.008108538190564294,
          -0.38168213583197635,
          -0.30301395364523165,
          -0.3252769411700414,
          -0.012065039549007516,
          0.02323194712238769,
          -0.3685974551741992,
          1.1372015940642801,
          -0.14281750542097907,
          -0.39167691783843867,
          -0.5469701560145308,
          -0.5473524155119671,
          -0.14281780394935803,
          -0.3030138597077784,
          -0.7514798020865874,
          0.05745421135556779,
          -0.7508186958138054,
          -0.2537053205707504,
          -0.981734670579439,
          -0.023884087177166693,
          -0.007983089332203961,
          -0.7499057723467739,
          -0.6288643628430385,
          -0.751482362973774,
          -0.48391053555422403,
          -0.9817346755294712,
          -0.4808440085689067,
          -0.3797513824174469,
          -0.00767147604475137,
          -0.12973273930418017,
          -0.8749973416578106,
          -0.30301387066459673,
          -0.7413073222665789,
          -0.974603854717371,
          -0.1426600848886367,
          -0.30301394578440466,
          -0.9680940157223836,
          -0.974703020797478,
          -0.5074050107405912,
          -0.87499733605376,
          -0.340623254033414,
          -0.5139820361326877,
          -0.5051894124631184,
          -0.3196720312487826,
          -0.8746667898718338,
          -0.3030138717983663,
          -0.9680932518230336,
          -0.30301394326368175,
          -0.4808439899595447,
          -0.08243743044276797
         ],
         "z": [
          0.06511540586053703,
          0.13292490474341148,
          0.11289883426868517,
          0.048369428718195974,
          0.03603577977050477,
          0.039202179210294855,
          0.06511725264445321,
          0.27755224247696436,
          0.061488537851362914,
          1.2799207112418536,
          0.02768640008916604,
          0.11165442028782932,
          1.2770612783680888,
          0.007986809516402179,
          0.06512225199954341,
          0.11145989823743824,
          0.007986809516402843,
          0.012253719855790723,
          0.18463772217301586,
          0.014462043547183579,
          0.1130541465977081,
          0.013214767036816096,
          0.01074348360818551,
          0.18885137121711004,
          0.22170564918016497,
          0.2524724522527391,
          0.012248493951166114,
          0.014647073916141524,
          0.132915346963423,
          2.311295105498147,
          0.10091008057870195,
          1.2765327235829578,
          0.0356989308377328,
          0.02370922595171789,
          0.10091660195716905,
          0.22170359710830112,
          0.0651154017450106,
          0.021606543263326294,
          0.06525214819885977,
          0.09031390178886917,
          0.11305366218202541,
          0.02441852823289094,
          0.00798348488186823,
          0.06544170532602893,
          0.14893974540075192,
          0.06517134454900053,
          0.18466475685698278,
          0.11305377031590125,
          0.1833194953379074,
          1.2845835878080092,
          0.008048200588893367,
          0.044972189465243444,
          0.1128989668157963,
          0.22170383646096145,
          0.0715701980759085,
          0.11228996003620167,
          0.10094232740411242,
          0.22170547745970956,
          0.11147849119992025,
          0.11226945111396222,
          0.03921400372086985,
          0.11289884439481582,
          0.2125564835826886,
          0.05487945024084321,
          0.10118863956926555,
          0.26117772354075025,
          0.11296736955999216,
          0.2217038612282499,
          0.11146168466010888,
          0.22170542242900657,
          0.18331908591355828,
          1.6460524902096751
         ]
        },
        {
         "customdata": [
          [
           "SHA-256"
          ],
          [
           "Scrypt"
          ],
          [
           "Scrypt"
          ],
          [
           "RandomX"
          ],
          [
           "Equihash"
          ],
          [
           "X11"
          ],
          [
           "SHA-256"
          ],
          [
           "Equihash"
          ],
          [
           "Ethash"
          ],
          [
           "IMesh"
          ],
          [
           "Equihash"
          ],
          [
           "SHA-256"
          ],
          [
           "CryptoNight"
          ],
          [
           "Eaglesong"
          ],
          [
           "Blake2B + SHA3"
          ],
          [
           "C31"
          ],
          [
           "X16R"
          ],
          [
           "Scrypt"
          ],
          [
           "IMesh"
          ],
          [
           "SHA-256"
          ],
          [
           "Multiple"
          ],
          [
           "CryptoNight-Heavy"
          ],
          [
           "Ethash"
          ],
          [
           "SHA-256"
          ],
          [
           "CryptoNight-Lite"
          ],
          [
           "Multiple"
          ],
          [
           "Equihash"
          ],
          [
           "Blake2b"
          ],
          [
           "SHA-256"
          ],
          [
           "Scrypt"
          ],
          [
           "Equihash"
          ],
          [
           "Equihash"
          ],
          [
           "Equihash"
          ],
          [
           "C31"
          ],
          [
           "SHA-256"
          ],
          [
           "SHA-256"
          ],
          [
           "RandomX"
          ],
          [
           "Scrypt"
          ],
          [
           "Ethash"
          ],
          [
           "CryptoNight"
          ],
          [
           "SHA-256"
          ],
          [
           "Equihash"
          ],
          [
           "Ethash"
          ],
          [
           "Scrypt"
          ],
          [
           "Lyra2REv2"
          ],
          [
           "Multiple"
          ],
          [
           "Dagger-Hashimoto"
          ],
          [
           "SHA-256"
          ],
          [
           "PoS"
          ],
          [
           "KECCAK"
          ],
          [
           "X11GOST"
          ],
          [
           "Blake2b"
          ],
          [
           "Blake2b"
          ],
          [
           "Ethash"
          ],
          [
           "Equihash"
          ],
          [
           "Scrypt"
          ],
          [
           "Groestl"
          ],
          [
           "MTP"
          ],
          [
           "NeoScrypt"
          ],
          [
           "Ethash"
          ],
          [
           "Ethash"
          ],
          [
           "Scrypt"
          ],
          [
           "Scrypt"
          ],
          [
           "Tensority"
          ],
          [
           "SHA-256"
          ],
          [
           "SHA-256"
          ],
          [
           "Equihash"
          ],
          [
           "Multiple"
          ]
         ],
         "hovertemplate": "<b>%{hovertext}</b><br><br>Class=%{marker.color}<br>PC 1=%{x}<br>PC 2=%{y}<br>PC 3=%{z}<br>Algorithm=%{customdata[0]}<extra></extra>",
         "hovertext": [
          "CounterParty",
          "MonaCoin",
          "CometCoin",
          "Quantum Resistant Ledger",
          "BitcoinZ",
          "Pura",
          "UnitedBitcoin",
          "Bitcoin Private",
          "Callisto Network",
          "Aidos Kuneen",
          "Beam",
          "Foin",
          "Beldex",
          "Nervos Network",
          "Handshake",
          "MimbleWimbleCoin",
          "Ravencoin Classic",
          "Primas",
          "INT",
          "Wibcoin",
          "Revain",
          "Haven Protocol",
          "EtherZero",
          "Bitcoin ABC",
          "AEON",
          "Circuits of Value",
          "TENT",
          "Yee",
          "Arweave",
          "MegaCoin",
          "Pirate Chain",
          "Bithereum",
          "Horizen",
          "Grin",
          "Smart Bitcoin",
          "Namecoin",
          "Monero",
          "Litecoin",
          "Ethereum",
          "ByteCoin",
          "Bitcoin",
          "ZCash",
          "Waltonchain",
          "ViaCoin",
          "Vertcoin",
          "Verge",
          "Ubiq",
          "SysCoin",
          "Steem",
          "SmartCash",
          "SibCoin",
          "Siacoin",
          "Nano",
          "Metaverse",
          "Komodo",
          "Gulden",
          "Groestlcoin",
          "Firo",
          "FeatherCoin",
          "Expanse",
          "Ethereum Classic",
          "Einsteinium",
          "Dogecoin",
          "Bytom",
          "Bitcoin SV",
          "Bitcoin Cash",
          "Bitcoin Gold",
          "DigiByte"
         ],
         "legendgroup": "2",
         "marker": {
          "color": [
           2,
           2,
           2,
           2,
           2,
           2,
           2,
           2,
           2,
           2,
           2,
           2,
           2,
           2,
           2,
           2,
           2,
           2,
           2,
           2,
           2,
           2,
           2,
           2,
           2,
           2,
           2,
           2,
           2,
           2,
           2,
           2,
           2,
           2,
           2,
           2,
           2,
           2,
           2,
           2,
           2,
           2,
           2,
           2,
           2,
           2,
           2,
           2,
           2,
           2,
           2,
           2,
           2,
           2,
           2,
           2,
           2,
           2,
           2,
           2,
           2,
           2,
           2,
           2,
           2,
           2,
           2,
           2
          ],
          "coloraxis": "coloraxis",
          "symbol": "diamond"
         },
         "mode": "markers",
         "name": "2",
         "scene": "scene",
         "showlegend": true,
         "type": "scatter3d",
         "x": [
          1.8296647530007748,
          1.0578464316387517,
          1.0578466230220496,
          1.802287975976344,
          1.5440022104719417,
          0.7652302214321146,
          1.8296975014911068,
          1.51126823972681,
          1.4059994039188641,
          1.3452165306760235,
          1.5116427350452164,
          0.6196695201565791,
          1.921919621547278,
          1.7914741757580737,
          1.7974181004128766,
          1.8021000920291987,
          1.8513515490241637,
          1.0578463884019222,
          0.24905510739865977,
          3.388847958843109,
          0.36704674179066843,
          1.7916128406711402,
          1.3958559990266561,
          1.8296975068571446,
          1.7916128286448036,
          1.5773950252002846,
          0.5490804952690284,
          0.26198840732501005,
          1.8297676678184287,
          1.0579121156020217,
          0.5494097855858763,
          1.511232458007467,
          1.51126529683953,
          1.8020687249846654,
          1.8296975511911076,
          1.8296647177739458,
          1.8021241487154922,
          1.0579776328856558,
          1.3958562546915747,
          2.2095406546342544,
          1.8296975069023855,
          1.5112652968105225,
          0.18570529308933942,
          1.0578465702366489,
          1.7918517526161317,
          1.6032113146428384,
          1.7916126860427275,
          1.831049943318222,
          0.6428745732061328,
          1.8058339320997676,
          1.7916725995188845,
          1.4720500760779138,
          1.4723710032042274,
          0.18586131892324073,
          0.5494100174435842,
          1.0604687142373244,
          1.791911453699034,
          1.7916737695911478,
          1.792568281087337,
          1.3960125993909283,
          1.3961852400547958,
          1.057846100452075,
          1.057540025780078,
          1.7922034299652077,
          1.8296975068459473,
          1.8296975068362475,
          1.5112652787826564,
          1.6101573282995725
         ],
         "y": [
          0.12134861196384769,
          -0.25066693300643583,
          -0.250666926146687,
          0.023734497663103354,
          -0.013814596540077665,
          -0.24052909109455245,
          0.12138166667446734,
          -0.04683405977764421,
          -0.035924981762901806,
          0.01847256986406702,
          -0.04645639526184667,
          0.10569075566513962,
          0.167704424430977,
          0.023319703771013854,
          0.02968194857857416,
          0.023534248346683773,
          0.08876241714706405,
          -0.2506669345558306,
          0.008376512489967746,
          1.6953981483712681,
          0.019064162547809675,
          0.023325100035871536,
          -0.04615645092580449,
          0.1213816668667254,
          0.023325099567863026,
          0.034886485507557824,
          -0.12383095921158419,
          0.0025951008253115135,
          0.12145249787113015,
          -0.25060081688618147,
          -0.12346981149434318,
          -0.04687006757164748,
          -0.046837009625144414,
          0.023502761290970627,
          0.12138166845547062,
          0.12134861070149287,
          0.023569221076933992,
          -0.25053470674041944,
          -0.04615644176403642,
          0.4580646035501849,
          0.12138166686834659,
          -0.04683700962618373,
          -0.061971693685010744,
          -0.25066692803977214,
          0.023586847638271506,
          0.06094459885405117,
          0.02332509401837155,
          0.1227463681771896,
          -0.11391751080876487,
          0.038905319827033887,
          0.023390538139728287,
          0.018407152931688233,
          0.018620944362565058,
          -0.06181428741701267,
          -0.123469802471398,
          -0.24802247015179535,
          0.023652283491152913,
          0.023391785817599705,
          0.02437208236670854,
          -0.04599902406947523,
          -0.045824778196930364,
          -0.2506669448745307,
          -0.25067791307871456,
          0.02397920866811149,
          0.12138166686632425,
          0.12138166686597664,
          -0.04683701027221322,
          0.06794168959219768
         ],
         "z": [
          -0.050156273166323775,
          -0.03341006755851862,
          -0.03341021737564426,
          -0.0855225735303867,
          -0.06805143282415396,
          -0.026962247789205317,
          -0.05014942263764186,
          -0.07487794106031748,
          -0.06072985411750374,
          -0.07692577978238034,
          -0.07479994074986708,
          -0.0034986982340360164,
          -0.05522560984098844,
          -0.08485640872098349,
          -0.08365355726340327,
          -0.08556419589603008,
          -0.07135243482512132,
          -0.0334100337118641,
          -0.059763234934564584,
          0.2762955410855494,
          -0.024735373199581478,
          -0.08497513187514613,
          -0.06284480114604768,
          -0.05014942683832115,
          -0.08497512157834987,
          -0.07151462460253859,
          -0.05628955124904805,
          -0.02360782894662462,
          -0.05013473588414908,
          -0.03339651287644203,
          -0.056214003168107846,
          -0.07488531552900873,
          -0.07487853572319529,
          -0.08557058086237286,
          -0.05014946154379874,
          -0.050156245590051926,
          -0.08555675977724159,
          -0.03338282771575825,
          -0.06284500128566242,
          0.004991350646484688,
          -0.050149426873737246,
          -0.07487853570048837,
          -0.01622021734155695,
          -0.03341017605572609,
          -0.08492060436335053,
          -0.06611378354283669,
          -0.08497499948424937,
          -0.04986690452086931,
          -0.001652082745483886,
          -0.08172956868386437,
          -0.08496152641811049,
          -0.07016271266169209,
          -0.07020780763091071,
          -0.016187658910308832,
          -0.05621420168176342,
          -0.03286390679446492,
          -0.0849069494518663,
          -0.08496129450064085,
          -0.084756844294957,
          -0.06281269246867034,
          -0.06277658771285134,
          -0.033409808298961924,
          -0.03317020692174846,
          -0.08483308471977317,
          -0.05014942682955609,
          -0.050149426821962675,
          -0.07487852158791401,
          -0.0646749103840219
         ]
        },
        {
         "customdata": [
          [
           "Dagger"
          ],
          [
           "Dagger"
          ],
          [
           "Proof-of-Authority"
          ]
         ],
         "hovertemplate": "<b>%{hovertext}</b><br><br>Class=%{marker.color}<br>PC 1=%{x}<br>PC 2=%{y}<br>PC 3=%{z}<br>Algorithm=%{customdata[0]}<extra></extra>",
         "hovertext": [
          "Amber",
          "DAPS Coin",
          "Poa Network"
         ],
         "legendgroup": "3",
         "marker": {
          "color": [
           3,
           3,
           3
          ],
          "coloraxis": "coloraxis",
          "symbol": "square"
         },
         "mode": "markers",
         "name": "3",
         "scene": "scene",
         "showlegend": true,
         "type": "scatter3d",
         "x": [
          -2.108156990282863,
          -1.8592864149646007,
          -2.1990571358012434
         ],
         "y": [
          5.750012054399826,
          6.011699193011839,
          5.58126501480397
         ],
         "z": [
          -7.535646892686946,
          -7.439762313755255,
          -7.53089041168661
         ]
        },
        {
         "customdata": [
          [
           "VeChainThor Authority"
          ]
         ],
         "hovertemplate": "<b>%{hovertext}</b><br><br>Class=%{marker.color}<br>PC 1=%{x}<br>PC 2=%{y}<br>PC 3=%{z}<br>Algorithm=%{customdata[0]}<extra></extra>",
         "hovertext": [
          "VeChain"
         ],
         "legendgroup": "1",
         "marker": {
          "color": [
           1
          ],
          "coloraxis": "coloraxis",
          "symbol": "x"
         },
         "mode": "markers",
         "name": "1",
         "scene": "scene",
         "showlegend": true,
         "type": "scatter3d",
         "x": [
          -0.9481386958197157
         ],
         "y": [
          12.864921812430724
         ],
         "z": [
          10.300110443036221
         ]
        }
       ],
       "layout": {
        "coloraxis": {
         "colorbar": {
          "title": {
           "text": "Class"
          }
         },
         "colorscale": [
          [
           0,
           "rgb(20,44,66)"
          ],
          [
           1,
           "rgb(90,179,244)"
          ]
         ]
        },
        "legend": {
         "bgcolor": "LightBlue",
         "bordercolor": "Black",
         "borderwidth": 2,
         "font": {
          "color": "black",
          "family": "Courier",
          "size": 12
         },
         "title": {
          "font": {
           "family": "Times New Roman"
          },
          "text": "Class"
         },
         "tracegroupgap": 0,
         "x": 0.01,
         "xanchor": "left",
         "y": 0.99,
         "yanchor": "top"
        },
        "margin": {
         "b": 50,
         "l": 0,
         "r": 0,
         "t": 0
        },
        "scene": {
         "domain": {
          "x": [
           0,
           1
          ],
          "y": [
           0,
           1
          ]
         },
         "xaxis": {
          "title": {
           "text": "PC 1"
          }
         },
         "yaxis": {
          "title": {
           "text": "PC 2"
          }
         },
         "zaxis": {
          "title": {
           "text": "PC 3"
          }
         }
        },
        "template": {
         "data": {
          "bar": [
           {
            "error_x": {
             "color": "rgb(51,51,51)"
            },
            "error_y": {
             "color": "rgb(51,51,51)"
            },
            "marker": {
             "line": {
              "color": "rgb(237,237,237)",
              "width": 0.5
             }
            },
            "type": "bar"
           }
          ],
          "barpolar": [
           {
            "marker": {
             "line": {
              "color": "rgb(237,237,237)",
              "width": 0.5
             }
            },
            "type": "barpolar"
           }
          ],
          "carpet": [
           {
            "aaxis": {
             "endlinecolor": "rgb(51,51,51)",
             "gridcolor": "white",
             "linecolor": "white",
             "minorgridcolor": "white",
             "startlinecolor": "rgb(51,51,51)"
            },
            "baxis": {
             "endlinecolor": "rgb(51,51,51)",
             "gridcolor": "white",
             "linecolor": "white",
             "minorgridcolor": "white",
             "startlinecolor": "rgb(51,51,51)"
            },
            "type": "carpet"
           }
          ],
          "choropleth": [
           {
            "colorbar": {
             "outlinewidth": 0,
             "tickcolor": "rgb(237,237,237)",
             "ticklen": 6,
             "ticks": "inside"
            },
            "type": "choropleth"
           }
          ],
          "contour": [
           {
            "colorbar": {
             "outlinewidth": 0,
             "tickcolor": "rgb(237,237,237)",
             "ticklen": 6,
             "ticks": "inside"
            },
            "colorscale": [
             [
              0,
              "rgb(20,44,66)"
             ],
             [
              1,
              "rgb(90,179,244)"
             ]
            ],
            "type": "contour"
           }
          ],
          "contourcarpet": [
           {
            "colorbar": {
             "outlinewidth": 0,
             "tickcolor": "rgb(237,237,237)",
             "ticklen": 6,
             "ticks": "inside"
            },
            "type": "contourcarpet"
           }
          ],
          "heatmap": [
           {
            "colorbar": {
             "outlinewidth": 0,
             "tickcolor": "rgb(237,237,237)",
             "ticklen": 6,
             "ticks": "inside"
            },
            "colorscale": [
             [
              0,
              "rgb(20,44,66)"
             ],
             [
              1,
              "rgb(90,179,244)"
             ]
            ],
            "type": "heatmap"
           }
          ],
          "heatmapgl": [
           {
            "colorbar": {
             "outlinewidth": 0,
             "tickcolor": "rgb(237,237,237)",
             "ticklen": 6,
             "ticks": "inside"
            },
            "colorscale": [
             [
              0,
              "rgb(20,44,66)"
             ],
             [
              1,
              "rgb(90,179,244)"
             ]
            ],
            "type": "heatmapgl"
           }
          ],
          "histogram": [
           {
            "marker": {
             "colorbar": {
              "outlinewidth": 0,
              "tickcolor": "rgb(237,237,237)",
              "ticklen": 6,
              "ticks": "inside"
             }
            },
            "type": "histogram"
           }
          ],
          "histogram2d": [
           {
            "colorbar": {
             "outlinewidth": 0,
             "tickcolor": "rgb(237,237,237)",
             "ticklen": 6,
             "ticks": "inside"
            },
            "colorscale": [
             [
              0,
              "rgb(20,44,66)"
             ],
             [
              1,
              "rgb(90,179,244)"
             ]
            ],
            "type": "histogram2d"
           }
          ],
          "histogram2dcontour": [
           {
            "colorbar": {
             "outlinewidth": 0,
             "tickcolor": "rgb(237,237,237)",
             "ticklen": 6,
             "ticks": "inside"
            },
            "colorscale": [
             [
              0,
              "rgb(20,44,66)"
             ],
             [
              1,
              "rgb(90,179,244)"
             ]
            ],
            "type": "histogram2dcontour"
           }
          ],
          "mesh3d": [
           {
            "colorbar": {
             "outlinewidth": 0,
             "tickcolor": "rgb(237,237,237)",
             "ticklen": 6,
             "ticks": "inside"
            },
            "type": "mesh3d"
           }
          ],
          "parcoords": [
           {
            "line": {
             "colorbar": {
              "outlinewidth": 0,
              "tickcolor": "rgb(237,237,237)",
              "ticklen": 6,
              "ticks": "inside"
             }
            },
            "type": "parcoords"
           }
          ],
          "pie": [
           {
            "automargin": true,
            "type": "pie"
           }
          ],
          "scatter": [
           {
            "marker": {
             "colorbar": {
              "outlinewidth": 0,
              "tickcolor": "rgb(237,237,237)",
              "ticklen": 6,
              "ticks": "inside"
             }
            },
            "type": "scatter"
           }
          ],
          "scatter3d": [
           {
            "line": {
             "colorbar": {
              "outlinewidth": 0,
              "tickcolor": "rgb(237,237,237)",
              "ticklen": 6,
              "ticks": "inside"
             }
            },
            "marker": {
             "colorbar": {
              "outlinewidth": 0,
              "tickcolor": "rgb(237,237,237)",
              "ticklen": 6,
              "ticks": "inside"
             }
            },
            "type": "scatter3d"
           }
          ],
          "scattercarpet": [
           {
            "marker": {
             "colorbar": {
              "outlinewidth": 0,
              "tickcolor": "rgb(237,237,237)",
              "ticklen": 6,
              "ticks": "inside"
             }
            },
            "type": "scattercarpet"
           }
          ],
          "scattergeo": [
           {
            "marker": {
             "colorbar": {
              "outlinewidth": 0,
              "tickcolor": "rgb(237,237,237)",
              "ticklen": 6,
              "ticks": "inside"
             }
            },
            "type": "scattergeo"
           }
          ],
          "scattergl": [
           {
            "marker": {
             "colorbar": {
              "outlinewidth": 0,
              "tickcolor": "rgb(237,237,237)",
              "ticklen": 6,
              "ticks": "inside"
             }
            },
            "type": "scattergl"
           }
          ],
          "scattermapbox": [
           {
            "marker": {
             "colorbar": {
              "outlinewidth": 0,
              "tickcolor": "rgb(237,237,237)",
              "ticklen": 6,
              "ticks": "inside"
             }
            },
            "type": "scattermapbox"
           }
          ],
          "scatterpolar": [
           {
            "marker": {
             "colorbar": {
              "outlinewidth": 0,
              "tickcolor": "rgb(237,237,237)",
              "ticklen": 6,
              "ticks": "inside"
             }
            },
            "type": "scatterpolar"
           }
          ],
          "scatterpolargl": [
           {
            "marker": {
             "colorbar": {
              "outlinewidth": 0,
              "tickcolor": "rgb(237,237,237)",
              "ticklen": 6,
              "ticks": "inside"
             }
            },
            "type": "scatterpolargl"
           }
          ],
          "scatterternary": [
           {
            "marker": {
             "colorbar": {
              "outlinewidth": 0,
              "tickcolor": "rgb(237,237,237)",
              "ticklen": 6,
              "ticks": "inside"
             }
            },
            "type": "scatterternary"
           }
          ],
          "surface": [
           {
            "colorbar": {
             "outlinewidth": 0,
             "tickcolor": "rgb(237,237,237)",
             "ticklen": 6,
             "ticks": "inside"
            },
            "colorscale": [
             [
              0,
              "rgb(20,44,66)"
             ],
             [
              1,
              "rgb(90,179,244)"
             ]
            ],
            "type": "surface"
           }
          ],
          "table": [
           {
            "cells": {
             "fill": {
              "color": "rgb(237,237,237)"
             },
             "line": {
              "color": "white"
             }
            },
            "header": {
             "fill": {
              "color": "rgb(217,217,217)"
             },
             "line": {
              "color": "white"
             }
            },
            "type": "table"
           }
          ]
         },
         "layout": {
          "annotationdefaults": {
           "arrowhead": 0,
           "arrowwidth": 1
          },
          "autotypenumbers": "strict",
          "coloraxis": {
           "colorbar": {
            "outlinewidth": 0,
            "tickcolor": "rgb(237,237,237)",
            "ticklen": 6,
            "ticks": "inside"
           }
          },
          "colorscale": {
           "sequential": [
            [
             0,
             "rgb(20,44,66)"
            ],
            [
             1,
             "rgb(90,179,244)"
            ]
           ],
           "sequentialminus": [
            [
             0,
             "rgb(20,44,66)"
            ],
            [
             1,
             "rgb(90,179,244)"
            ]
           ]
          },
          "colorway": [
           "#F8766D",
           "#A3A500",
           "#00BF7D",
           "#00B0F6",
           "#E76BF3"
          ],
          "font": {
           "color": "rgb(51,51,51)"
          },
          "geo": {
           "bgcolor": "white",
           "lakecolor": "white",
           "landcolor": "rgb(237,237,237)",
           "showlakes": true,
           "showland": true,
           "subunitcolor": "white"
          },
          "hoverlabel": {
           "align": "left"
          },
          "hovermode": "closest",
          "paper_bgcolor": "white",
          "plot_bgcolor": "rgb(237,237,237)",
          "polar": {
           "angularaxis": {
            "gridcolor": "white",
            "linecolor": "white",
            "showgrid": true,
            "tickcolor": "rgb(51,51,51)",
            "ticks": "outside"
           },
           "bgcolor": "rgb(237,237,237)",
           "radialaxis": {
            "gridcolor": "white",
            "linecolor": "white",
            "showgrid": true,
            "tickcolor": "rgb(51,51,51)",
            "ticks": "outside"
           }
          },
          "scene": {
           "xaxis": {
            "backgroundcolor": "rgb(237,237,237)",
            "gridcolor": "white",
            "gridwidth": 2,
            "linecolor": "white",
            "showbackground": true,
            "showgrid": true,
            "tickcolor": "rgb(51,51,51)",
            "ticks": "outside",
            "zerolinecolor": "white"
           },
           "yaxis": {
            "backgroundcolor": "rgb(237,237,237)",
            "gridcolor": "white",
            "gridwidth": 2,
            "linecolor": "white",
            "showbackground": true,
            "showgrid": true,
            "tickcolor": "rgb(51,51,51)",
            "ticks": "outside",
            "zerolinecolor": "white"
           },
           "zaxis": {
            "backgroundcolor": "rgb(237,237,237)",
            "gridcolor": "white",
            "gridwidth": 2,
            "linecolor": "white",
            "showbackground": true,
            "showgrid": true,
            "tickcolor": "rgb(51,51,51)",
            "ticks": "outside",
            "zerolinecolor": "white"
           }
          },
          "shapedefaults": {
           "fillcolor": "black",
           "line": {
            "width": 0
           },
           "opacity": 0.3
          },
          "ternary": {
           "aaxis": {
            "gridcolor": "white",
            "linecolor": "white",
            "showgrid": true,
            "tickcolor": "rgb(51,51,51)",
            "ticks": "outside"
           },
           "baxis": {
            "gridcolor": "white",
            "linecolor": "white",
            "showgrid": true,
            "tickcolor": "rgb(51,51,51)",
            "ticks": "outside"
           },
           "bgcolor": "rgb(237,237,237)",
           "caxis": {
            "gridcolor": "white",
            "linecolor": "white",
            "showgrid": true,
            "tickcolor": "rgb(51,51,51)",
            "ticks": "outside"
           }
          },
          "xaxis": {
           "automargin": true,
           "gridcolor": "white",
           "linecolor": "white",
           "showgrid": true,
           "tickcolor": "rgb(51,51,51)",
           "ticks": "outside",
           "title": {
            "standoff": 15
           },
           "zerolinecolor": "white"
          },
          "yaxis": {
           "automargin": true,
           "gridcolor": "white",
           "linecolor": "white",
           "showgrid": true,
           "tickcolor": "rgb(51,51,51)",
           "ticks": "outside",
           "title": {
            "standoff": 15
           },
           "zerolinecolor": "white"
          }
         }
        }
       }
      }
     },
     "metadata": {}
    }
   ],
   "source": [
    "# Create a 3D-Scatter with the PCA data and the clusters\n",
    "scatter_fig = px.scatter_3d(\n",
    "    df_crypto_predict,\n",
    "    x=\"PC 1\",\n",
    "    y=\"PC 2\",\n",
    "    z=\"PC 3\",\n",
    "    color= \"Class\",\n",
    "    symbol=\"Class\",\n",
    "    hover_name=\"CoinName\",\n",
    "    hover_data=[\"Algorithm\"],\n",
    "    template=\"ggplot2\",\n",
    "   )\n",
    "\n",
    "scatter_fig.update_layout(margin=dict(l=0, r=0, b=50, t=0))\n",
    "#move the x lelgend from ovelapping on the right and create bg for it\n",
    "\n",
    "scatter_fig.update_layout(legend=dict(\n",
    "    yanchor=\"top\",\n",
    "    y=0.99,\n",
    "    xanchor=\"left\",\n",
    "    x=0.01,\n",
    "    title_font_family=\"Times New Roman\",\n",
    "    font=dict(\n",
    "        family=\"Courier\",\n",
    "        size=12,\n",
    "        color=\"black\"\n",
    "    ),\n",
    "    bgcolor=\"LightBlue\",\n",
    "    bordercolor=\"Black\",\n",
    "    borderwidth=2\n",
    "\n",
    "))\n",
    "scatter_fig.show()"
   ]
  },
  {
   "cell_type": "markdown",
   "metadata": {},
   "source": [
    "#### Table of Tradable Cryptocurrencies"
   ]
  },
  {
   "cell_type": "code",
   "execution_count": 50,
   "metadata": {},
   "outputs": [
    {
     "output_type": "display_data",
     "data": {},
     "metadata": {}
    },
    {
     "output_type": "execute_result",
     "data": {
      "text/html": "<div id='1120'>\n\n\n\n\n\n  <div class=\"bk-root\" id=\"6f6de450-a84d-47e3-b7db-331ebc8b292c\" data-root-id=\"1120\"></div>\n</div>\n<script type=\"application/javascript\">(function(root) {\n  function embed_document(root) {\n    var docs_json = {\"6a872675-c41b-4d2b-a02f-d8653ae42ec6\":{\"defs\":[],\"roots\":{\"references\":[{\"attributes\":{},\"id\":\"1150\",\"type\":\"IntEditor\"},{\"attributes\":{\"children\":[{\"id\":\"1121\"},{\"id\":\"1158\"},{\"id\":\"1163\"}],\"margin\":[0,0,0,0],\"name\":\"Row01794\",\"tags\":[\"embedded\"]},\"id\":\"1120\",\"type\":\"Row\"},{\"attributes\":{\"editor\":{\"id\":\"1150\"},\"field\":\"Class\",\"formatter\":{\"id\":\"1149\"},\"title\":\"Class\"},\"id\":\"1151\",\"type\":\"TableColumn\"},{\"attributes\":{\"source\":{\"id\":\"1122\"}},\"id\":\"1156\",\"type\":\"CDSView\"},{\"attributes\":{},\"id\":\"1125\",\"type\":\"StringEditor\"},{\"attributes\":{},\"id\":\"1145\",\"type\":\"StringEditor\"},{\"attributes\":{\"editor\":{\"id\":\"1125\"},\"field\":\"CoinName\",\"formatter\":{\"id\":\"1124\"},\"title\":\"CoinName\"},\"id\":\"1126\",\"type\":\"TableColumn\"},{\"attributes\":{\"editor\":{\"id\":\"1140\"},\"field\":\"MaxSupply\",\"formatter\":{\"id\":\"1139\"},\"title\":\"MaxSupply\"},\"id\":\"1141\",\"type\":\"TableColumn\"},{\"attributes\":{},\"id\":\"1135\",\"type\":\"StringEditor\"},{\"attributes\":{\"children\":[{\"id\":\"1157\"},{\"id\":\"1154\"}]},\"id\":\"1158\",\"type\":\"Column\"},{\"attributes\":{},\"id\":\"1144\",\"type\":\"StringFormatter\"},{\"attributes\":{},\"id\":\"1160\",\"type\":\"UnionRenderers\"},{\"attributes\":{\"data\":{\"Algorithm\":[\"Scrypt\",\"SHA-256\",\"PoS\",\"Scrypt\",\"X13\",\"SHA-256\",\"Scrypt\",\"Scrypt\",\"X11\",\"Scrypt\",\"RandomX\",\"Dagger\",\"Equihash\",\"X11\",\"SHA-256\",\"Equihash\",\"Ethash\",\"IMesh\",\"SHA-512\",\"Dagger\",\"X13\",\"Equihash\",\"SPoS\",\"SHA-256\",\"CryptoNight\",\"Eaglesong\",\"NEP-5\",\"X16RT\",\"Blake2B + SHA3\",\"C31\",\"X16R\",\"ECC 256K1\",\"Scrypt\",\"BEP20 Token\",\"Scrypt\",\"IMesh\",\"HEX\",\"BEP2 Token\",\"SHA-256\",\"Multiple\",\"BEP-2\",\"POS 3.0\",\"CryptoNight-Heavy\",\"Ethash\",\"SHA-256\",\"NRC20 Token\",\"Quark\",\"Scrypt\",\"CryptoNight-Lite\",\"Multiple\",\"Equihash\",\"GO20\",\"DPoS\",\"DPoS\",\"TRC10\",\"BEP-2\",\"NEP-5\",\"PoS\",\"Blake2b\",\"SHA-256\",\"SPL Token\",\"DPoS\",\"Scrypt\",\"Equihash\",\"Equihash\",\"Leased POS\",\"Equihash\",\"C31\",\"Ethash\",\"Equihash\",\"SHA-256\",\"DPoS\",\"DPoS\",\"Scrypt\",\"KAWPOW\",\"Scrypt\",\"PoS\",\"SHA-256\",\"RandomX\",\"Scrypt\",\"Ethash\",\"CryptoNight\",\"Quark\",\"SHA-256\",\"BEP-2\",\"HRC-20 Token\",\"Equihash\",\"Scrypt\",\"Ethash\",\"Scrypt\",\"Lyra2REv2\",\"Multiple\",\"VeChainThor Authority\",\"Dagger-Hashimoto\",\"SHA-256\",\"X13\",\"PoS\",\"KECCAK\",\"X11GOST\",\"Blake2b\",\"Scrypt\",\"POS 3.0\",\"Proof-of-Authority\",\"Quark\",\"VBFT\",\"SHA3\",\"dBFT2.0\",\"PoS\",\"X13\",\"Blake2b\",\"Ethash\",\"DPoS\",\"Equihash\",\"X11\",\"BLAKE256\",\"DPoS\",\"Scrypt\",\"Groestl\",\"MTP\",\"NeoScrypt\",\"Ethash\",\"Ethash\",\"DPoS\",\"Scrypt\",\"Scrypt\",\"BMW512 / Echo512\",\"BLAKE256\",\"X11\",\"X13\",\"Ouroboros\",\"Tensority\",\"Shabal256\",\"Scrypt\",\"SHA-512\",\"SHA-256\",\"X13\",\"SHA-256\",\"DPoS\",\"Equihash210,9\",\"DPoS\",\"Equihash\",\"Loopchain\",\"Multiple\",\"BEP-20 Token\"],\"Class\":{\"__ndarray__\":\"AAAAAAIAAAAAAAAAAgAAAAAAAAAAAAAAAAAAAAIAAAAAAAAAAAAAAAIAAAADAAAAAgAAAAIAAAACAAAAAgAAAAIAAAACAAAAAAAAAAMAAAAAAAAAAgAAAAAAAAACAAAAAgAAAAIAAAAAAAAAAAAAAAIAAAACAAAAAgAAAAAAAAACAAAAAAAAAAAAAAACAAAAAAAAAAAAAAACAAAAAgAAAAAAAAAAAAAAAgAAAAIAAAACAAAAAAAAAAAAAAAAAAAAAgAAAAIAAAACAAAAAAAAAAAAAAAAAAAAAAAAAAAAAAAAAAAAAAAAAAIAAAACAAAAAAAAAAAAAAACAAAAAgAAAAIAAAAAAAAAAgAAAAIAAAAAAAAAAAAAAAIAAAAAAAAAAAAAAAAAAAAAAAAAAAAAAAAAAAACAAAAAgAAAAIAAAACAAAAAgAAAAAAAAACAAAAAAAAAAAAAAACAAAAAAAAAAIAAAACAAAAAgAAAAIAAAABAAAAAgAAAAIAAAAAAAAAAgAAAAIAAAACAAAAAgAAAAAAAAAAAAAAAwAAAAAAAAAAAAAAAAAAAAAAAAAAAAAAAAAAAAIAAAACAAAAAAAAAAIAAAAAAAAAAAAAAAAAAAACAAAAAgAAAAIAAAACAAAAAgAAAAIAAAAAAAAAAgAAAAIAAAAAAAAAAAAAAAAAAAAAAAAAAAAAAAIAAAAAAAAAAAAAAAAAAAACAAAAAAAAAAIAAAAAAAAAAAAAAAAAAAACAAAAAAAAAAIAAAAAAAAA\",\"dtype\":\"int32\",\"order\":\"little\",\"shape\":[144]},\"CoinName\":[\"NovaCoin\",\"CounterParty\",\"NuShares\",\"MonaCoin\",\"Triangles Coin\",\"Emercoin\",\"SafeExchangeCoin\",\"CometCoin\",\"Stakenet\",\"OpenChat\",\"Quantum Resistant Ledger\",\"Amber\",\"BitcoinZ\",\"Pura\",\"UnitedBitcoin\",\"Bitcoin Private\",\"Callisto Network\",\"Aidos Kuneen\",\"Kcash\",\"DAPS Coin\",\"ABBC Coin\",\"Beam\",\"V Systems\",\"Foin\",\"Beldex\",\"Nervos Network\",\"Nevula\",\"VEIL\",\"Handshake\",\"MimbleWimbleCoin\",\"Ravencoin Classic\",\"Acute Angle Cloud\",\"Primas\",\"Alpha Finance Lab\",\"Auroracoin\",\"INT\",\"XDNA\",\"Swingby\",\"Wibcoin\",\"Revain\",\"Red Pulse Phoenix Binance\",\"TokenPay\",\"Haven Protocol\",\"EtherZero\",\"Bitcoin ABC\",\"NextDAO\",\"QuarkCoin\",\"United Emirates Coin\",\"AEON\",\"Circuits of Value\",\"TENT\",\"ECOMI\",\"Rise\",\"Oxycoin\",\"BitTorrent\",\"BakeryTokeN\",\"DeepBrain Chain\",\"Anchor Protocol\",\"Yee\",\"Arweave\",\"MAPS\",\"Tenset\",\"MegaCoin\",\"Pirate Chain\",\"Bithereum\",\"Waves\",\"Horizen\",\"Grin\",\"BeforeCoinMarketCap\",\"Zelcash\",\"Smart Bitcoin\",\"Worldwide Asset eXchange\",\"Shift\",\"SaluS\",\"Ravencoin\",\"PotCoin\",\"Nxt\",\"Namecoin\",\"Monero\",\"Litecoin\",\"Ethereum\",\"ByteCoin\",\"BlockNet\",\"Bitcoin\",\"Binance Coin\",\"WeStarter\",\"ZCash\",\"WhiteCoin\",\"Waltonchain\",\"ViaCoin\",\"Vertcoin\",\"Verge\",\"VeChain\",\"Ubiq\",\"SysCoin\",\"Stratis\",\"Steem\",\"SmartCash\",\"SibCoin\",\"Siacoin\",\"Reddcoin\",\"QTUM\",\"Poa Network\",\"Private Instant Verified Transaction\",\"Ontology\",\"Nexus\",\"NEO\",\"Neblio\",\"NavCoin\",\"Nano\",\"Metaverse\",\"Lisk\",\"Komodo\",\"IOCoin\",\"HyperCash\",\"High Performance Blockchain\",\"Gulden\",\"Groestlcoin\",\"Firo\",\"FeatherCoin\",\"Expanse\",\"Ethereum Classic\",\"EOS\",\"Einsteinium\",\"Dogecoin\",\"DigitalNote\",\"Decred\",\"Dash\",\"CloakCoin\",\"Cardano\",\"Bytom\",\"BurstCoin\",\"BlackCoin\",\"Bitshares\",\"Bitcoin SV\",\"Bitcoin Diamond\",\"Bitcoin Cash\",\"ARK\",\"Aion\",\"Achain\",\"Bitcoin Gold\",\"ICON Project\",\"DigiByte\",\"YooShi\"],\"MaxSupply\":{\"__ndarray__\":\"AAAAAAAA8L8AAAAAAADwvwAAAAAAAAAAAAAAAAAA8L8AAAAAAAAAAAAAAAAAAPC/AAAAAAAA8L8AAAAAAAAAAAAAAAAAAPC/AAAAAAAA8L8AAAAAsQiZQQAAAAAAAPC/AAAASMqOE0IAAAAAAADwvwAAAAD0BnRBAAAAQF/QdUEAAAAQ4jb4QQAAAAAAAAAAAAAAAAAA8L8AAAA8U0wwQgAAwHhSYtZBAAAAAAVUr0EAAAAAAADwvwAAAACE15dBAAAAAAAA8L8AAAAAAADwvwAAACBfoCJCAAAAAKPhsUEAAACA+2XeQQAAAADQEnNBAAAASMqOE0IAAAAAAADwvwAAAAAAAPC/AAAAAAAA8L8AAAAA9AZ0QQAAAABlzc1BAAAAAAAAAAAAAAAAAADwv+wNE4u0Gm1CAAAAAAAA8L8AAAAAAADwvwAAAACE13dBAAAAAAAA8L8AAAAAAADwv+Vhof/zBnRBAAAAIF+gAkIAAAAAAADwvwAAAAAAAPC/AAAAAAAA8L8AAAAAAADwvwAAAADQDJRBAAAAAAAA8L8AAAAAAADwvwAAAAAAAPC/AAAAAAAA8L8AAAAAAADwvwAAAAAAAPC/AAAAAAAA8L8AAAAAAADwvwAAAACkeI9BAAAAIF+gAkIAAAAAAADwvwAAAAD0BoRBAAAAAITXp0EAAAAAAAAAAAAAAAAAAPC/AAAAAPQGdEEAAAAAAADwvwAAAAAAAPC/AAAAALEIqUEAAAAA9AZ0QQAAAAAAAPC/AAAAAAAA8L8AAAAAAADwvwAAAEjKjhNCAAAAALEIuUEAAAAAZc3NQQAAAAAAAPC/AAAAAAAA8L8AAAAA9AaUQQAAAAAAAPC/AADAaKJ5RUIAAAAAAADwv+Vhof/zBnRBAAAAAAAA8L8AAAAAAADwvwAAAAD0BnRBAAAAAGXNzUEAAAAAAADwvwAAAAAAAPC/AAAAAPQGlEEAAAAGCtYOQgAAYsx5MDRCAAAAAAAA8L8AAAAA53bKQQAAAAAAAPC/AAAAAAAA8L8AAAAgX6DyQQAAAAD0BnRBAAAAAAAA8L8AAAAAAADwvwAAAAn1tJlBAAAAAAAA8L8AAAAAAADwvwAAAAAAAPC/AAAAAL6YkkEAAAAAhNeXQQAAAAAAAPC/AAAAAAAA8L8AAACI1MSfQQAAAACE15dBAAAAAAAA8L8AAAAAhNenQQAAAAAY+3RBAAAAAPQGlEEAAAAAhNeXQQAAAACxCNlBAAAAALEImUEAAAAAnGh0QQAAAAD0BrRBAAAAAITXl0EAAADADR6pQQAAAAAAAPC/AAAAAAAA8L8AAAAAAADwvwAAAAAAAPC/AAAAAPQGdEEAAAAAQgZyQQAAAAAAAPC/AAAABGv0JEIAAAAAsQipQQAAANCbFeBBAAAAAITXl0EAAMAQi9PqQeVhof/zBnRBAAAAALEIqUHlYaH/8wZ0QQAAAAAAAPC/AAAAAAAA8L8AAAAAAAAAAAAAAAD0BnRBAAAAAAAA8L8AAABIyo4TQgAAAAAAAPC/\",\"dtype\":\"float64\",\"order\":\"little\",\"shape\":[144]},\"ProofType\":[\"PoW/PoS\",\"PoW\",\"PoS\",\"PoW\",\"PoW/PoS\",\"PoW/PoS\",\"PoC\",\"PoW\",\"TPoS\",\"PoW/PoS\",\"PoW\",\"PoA\",\"PoW\",\"PoW\",\"PoW\",\"PoW\",\"PoW\",\"PoW\",\"Zero-Knowledge Proof\",\" PoW/PoS/PoA\",\"nan\",\"PoW\",\"SPoS\",\"nan\",\"PoW\",\"PoW\",\"nan\",\"PoW/PoS\",\"PoW\",\"PoW\",\"PoW\",\"DPOS\",\"PoW\",\"nan\",\"PoW/PoS\",\"DPoS+dBFT\",\"PoW/PoS\",\"nan\",\"PoW\",\"nan\",\"nan\",\"PoS\",\"PoW\",\"PoW\",\"PoW\",\"nan\",\"PoW/PoS\",\"nan\",\"PoW\",\"PoW\",\"mPoW\",\"nan\",\"PoS\",\"DPoS\",\"DPoS\",\"nan\",\"nan\",\"PoS\",\"nan\",\"PoW\",\"PoH\",\"nan\",\"PoW\",\"dPoW\",\"PoW\",\"LPoS\",\"PoW\",\"PoW\",\"PoW/PoS\",\"PoW/PoS\",\"PoW\",\"nan\",\"DPoS\",\"PoW/PoS\",\"nan\",\"PoW/PoS\",\"PoS/LPoS\",\"PoW\",\"PoW\",\"PoW\",\"PoW\",\"PoW\",\"PoW/PoS\",\"PoW\",\"PoSA\",\"nan\",\"PoW\",\"PoW/PoS\",\"nan\",\"PoW\",\"PoW\",\"PoW\",\"Proof of Authority\",\"PoW\",\"PoW\",\"PoS\",\"PoW\",\"PoW\",\"PoW\",\"PoW\",\"PoW/PoS\",\"PoS\",\"PoA\",\"PoW/PoS\",\"PoS\",\"PoW/nPoS\",\"nan\",\"nan\",\"PoW/PoS\",\"PoW\",\"nan\",\"DPoS\",\"dPoW/PoW\",\"PoW/PoS\",\"PoW/PoS\",\"nan\",\"PoW\",\"PoW\",\"PoW\",\"PoW\",\"PoW\",\"PoW\",\"DPoS\",\"PoW\",\"PoW\",\"PoW/PoS\",\"PoW/PoS\",\"PoW/PoSe\",\"PoW/PoS\",\"PoS\",\"PoW\",\"PoC\",\"PoS\",\"DPoS\",\"PoW\",\"PoW/PoS\",\"PoW\",\"DPoS\",\"PoW/PoS\",\"DPoS\",\"PoW\",\"PoS\",\"PoW\",\"nan\"],\"TotalCoinsMined\":{\"__ndarray__\":\"syeBO3vTSEG4zr/KePNDQdcS0dI58fZBsOXi/Yp8k0H3j4VIANcFQbyU2gGEn4ZBAADA////30EAAAAA/KIqQSkoiGzbq5xBAAAAAGXNzUHJ64W90KSRQQAAAGGsecVBuua1i3eRAULo7K2BQnSmQQAAAAD0BnRBJHujMb8iTUEOa7Vm9iHmQQAAAACE13dBAAAAAGXNzUEAAOgTDwUtQgAAAMALWtZBHY3BdqCTkEEAAOAGd8L1QbivQwPaD5ZBAACA5Gzd1EEgLo05KPIdQgAAACBfoCJCwvygh9RNmkH2m9FXTRK3QUYObMOEeWRBAACAKE5dAEIAAAAAZc3NQQAAAACE15dBAAAAAGXNzUH3KOOjiWByQbePU2Cx/r1BAAAAoOXXYEEAAAAAZc3NQewNE4u0Gm1CgtWb18DNM0LqVuS0rwXqQQAAAJDk3XRBKTFfuJG+bEFmZuZd9bKqQdo/Wepw3XFBA+IpXL+t3UFjcQge4gqwQQAAAADQEnNBDg1p+s0HcUFsN5Zi4nfaQQAAAIAK4oBBmisLNnG/ZUKF69HOgTylQRSu13KMudBB1u13NP3PbELCXCev2QfEQQAAACBfoAJCAAAAAGXNzUEAAAAgX6ACQjRQ45wTnY5BAAAAAKPhkUG0GXOUt0WoQUDe8cne1YJBAz5PX4WlpUEAAAAAh3R9QQAAADjaEZlBAAAAkDgsZUFajwKO1lCQQQAAACBfoAJCAAAAAN45ukEFi16xXJmYQGBLrpWvvetBAAAA4ENNbEFQGBjqjIQvQQ8w7tJxtABCsaxEnZ32qkFABvi7w8XNQQAAAHgXsHBB68xvtmcVcUEdE++wjCOQQdv5frjwpJtBOoww4o55RULEQWH3dV9dQQAAAEDG2HFBzczMR7UypEEAAAAAhNeXQdbYEX00MmVBAAAARluJy0HCqHuyNqJ5Qa9L+b3CGXZBwXeIhqanjEFrrMPa1KUOQgAAGZsbBTRCSezUZIdGiEG9QT7IQD/CQQAAAEACVZ9B7FF4t2LWtkHv9JFHXtXjQdERfEMWSXJBAACAtBBEJkJFeh2T7B4cQgAAAHzmp5hBGDc8eRsmsUGegvBRM4CPQQAAAABlzc1BZAJuVqXTkEEAAAAAhNeXQagnYvDEDnFBrU1PW0gZkUEAAACI1MSfQeiy8LNRKJNBAAAAeDEroUG0eJ8HFHueQXHrlh+4AHJBBOahKvF9hUEyvt/KUDKVQbW2u4RTAcBBpq+ML2d/kkG3rZZWg6hmQTH1A8yW/qxBXI/C/+GLgEHCD7cdMnCeQTsBxW3/r85B4P//YIVsqkGKtG+lJCk+QnXaxRR9yPJBuWvPOs6vaEGm5AdBJlljQT+eZ4ISiFVBj53DtIvnHUIAAGAcWQLZQQAAgDf+d99BXpbFOurtjEHKVBfpUVDmQZvNTpaY3nFBAAAAa13ep0HoP1m6mN9xQQEAAEQiw6JBAAAAQtdZvUEAAAAAZc3NQWYvxo2u3HFBVdWwtsx/ykEVGoCwg64KQlNWN5rXNPlC\",\"dtype\":\"float64\",\"order\":\"little\",\"shape\":[144]}},\"selected\":{\"id\":\"1123\"},\"selection_policy\":{\"id\":\"1160\"}},\"id\":\"1122\",\"type\":\"ColumnDataSource\"},{\"attributes\":{\"columns\":[{\"id\":\"1126\"},{\"id\":\"1131\"},{\"id\":\"1136\"},{\"id\":\"1141\"},{\"id\":\"1146\"},{\"id\":\"1151\"}],\"height\":300,\"reorderable\":false,\"source\":{\"id\":\"1122\"},\"view\":{\"id\":\"1156\"},\"width\":700},\"id\":\"1154\",\"type\":\"DataTable\"},{\"attributes\":{},\"id\":\"1134\",\"type\":\"StringFormatter\"},{\"attributes\":{\"margin\":[5,5,5,5],\"name\":\"HSpacer01799\",\"sizing_mode\":\"stretch_width\"},\"id\":\"1163\",\"type\":\"Spacer\"},{\"attributes\":{\"editor\":{\"id\":\"1135\"},\"field\":\"ProofType\",\"formatter\":{\"id\":\"1134\"},\"title\":\"ProofType\"},\"id\":\"1136\",\"type\":\"TableColumn\"},{\"attributes\":{\"style\":{\"white-space\":\"nowrap\"},\"text\":\"<span style=\\\"color:black;font-family:Arial;font-style:bold;font-weight:bold;font-size:12pt\\\">Crpto Coin Cluster Information</span>\",\"width\":450},\"id\":\"1157\",\"type\":\"Div\"},{\"attributes\":{\"margin\":[5,5,5,5],\"name\":\"HSpacer01798\",\"sizing_mode\":\"stretch_width\"},\"id\":\"1121\",\"type\":\"Spacer\"},{\"attributes\":{},\"id\":\"1149\",\"type\":\"NumberFormatter\"},{\"attributes\":{\"editor\":{\"id\":\"1130\"},\"field\":\"Algorithm\",\"formatter\":{\"id\":\"1129\"},\"title\":\"Algorithm\"},\"id\":\"1131\",\"type\":\"TableColumn\"},{\"attributes\":{},\"id\":\"1139\",\"type\":\"StringFormatter\"},{\"attributes\":{\"editor\":{\"id\":\"1145\"},\"field\":\"TotalCoinsMined\",\"formatter\":{\"id\":\"1144\"},\"title\":\"TotalCoinsMined\"},\"id\":\"1146\",\"type\":\"TableColumn\"},{\"attributes\":{},\"id\":\"1124\",\"type\":\"StringFormatter\"},{\"attributes\":{},\"id\":\"1140\",\"type\":\"StringEditor\"},{\"attributes\":{},\"id\":\"1130\",\"type\":\"StringEditor\"},{\"attributes\":{},\"id\":\"1123\",\"type\":\"Selection\"},{\"attributes\":{},\"id\":\"1129\",\"type\":\"StringFormatter\"}],\"root_ids\":[\"1120\"]},\"title\":\"Bokeh Application\",\"version\":\"2.3.1\"}};\n    var render_items = [{\"docid\":\"6a872675-c41b-4d2b-a02f-d8653ae42ec6\",\"root_ids\":[\"1120\"],\"roots\":{\"1120\":\"6f6de450-a84d-47e3-b7db-331ebc8b292c\"}}];\n    root.Bokeh.embed.embed_items_notebook(docs_json, render_items);\n  }\n  if (root.Bokeh !== undefined && root.Bokeh.Panel !== undefined) {\n    embed_document(root);\n  } else {\n    var attempts = 0;\n    var timer = setInterval(function(root) {\n      if (root.Bokeh !== undefined && root.Bokeh.Panel !== undefined) {\n        clearInterval(timer);\n        embed_document(root);\n      } else if (document.readyState == \"complete\") {\n        attempts++;\n        if (attempts > 100) {\n          clearInterval(timer);\n          console.log(\"Bokeh: ERROR: Unable to run BokehJS code because BokehJS library is missing\");\n        }\n      }\n    }, 10, root)\n  }\n})(window);</script>",
      "application/vnd.holoviews_exec.v0+json": "",
      "text/plain": [
       ":Table   [CoinName,Algorithm,ProofType,MaxSupply,TotalCoinsMined,Class]"
      ]
     },
     "metadata": {
      "application/vnd.holoviews_exec.v0+json": {
       "id": "1120"
      }
     },
     "execution_count": 50
    }
   ],
   "source": [
    "# Table with tradable cryptos\n",
    "# Table with tradable cryptos\n",
    "cols = [\"CoinName\",\"Algorithm\",\"ProofType\",\"MaxSupply\",\"TotalCoinsMined\",\"Class\"]\n",
    "df_crypto_predict.hvplot.table(\n",
    "    columns=cols,\n",
    "    title=\"Crpto Coin Cluster Information\",\n",
    "   )\n"
   ]
  },
  {
   "cell_type": "code",
   "execution_count": 51,
   "metadata": {},
   "outputs": [
    {
     "output_type": "stream",
     "name": "stdout",
     "text": [
      "There total number of tradable cryptocurrencies are 144\n"
     ]
    }
   ],
   "source": [
    "# Print the total number of tradable cryptocurrencies\n",
    "print(f\"There total number of tradable cryptocurrencies are {df_crypto_predict.shape[0]}\")"
   ]
  },
  {
   "cell_type": "markdown",
   "metadata": {},
   "source": [
    "#### Scatter Plot with Tradable Cryptocurrencies"
   ]
  },
  {
   "cell_type": "code",
   "execution_count": 52,
   "metadata": {},
   "outputs": [
    {
     "output_type": "execute_result",
     "data": {
      "text/plain": [
       "         MaxSupply  TotalCoinsMined        CoinName  Class\n",
       "NVC   0.000000e+00     7.334616e-09        NovaCoin      0\n",
       "XCP   0.000000e+00     5.893639e-09    CounterParty      2\n",
       "NSR   9.999833e-13     1.388819e-05        NuShares      0\n",
       "MONA  0.000000e+00     1.843123e-07        MonaCoin      2\n",
       "TRI   9.999833e-13     3.999173e-10  Triangles Coin      0"
      ],
      "text/html": "<div>\n<style scoped>\n    .dataframe tbody tr th:only-of-type {\n        vertical-align: middle;\n    }\n\n    .dataframe tbody tr th {\n        vertical-align: top;\n    }\n\n    .dataframe thead th {\n        text-align: right;\n    }\n</style>\n<table border=\"1\" class=\"dataframe\">\n  <thead>\n    <tr style=\"text-align: right;\">\n      <th></th>\n      <th>MaxSupply</th>\n      <th>TotalCoinsMined</th>\n      <th>CoinName</th>\n      <th>Class</th>\n    </tr>\n  </thead>\n  <tbody>\n    <tr>\n      <th>NVC</th>\n      <td>0.000000e+00</td>\n      <td>7.334616e-09</td>\n      <td>NovaCoin</td>\n      <td>0</td>\n    </tr>\n    <tr>\n      <th>XCP</th>\n      <td>0.000000e+00</td>\n      <td>5.893639e-09</td>\n      <td>CounterParty</td>\n      <td>2</td>\n    </tr>\n    <tr>\n      <th>NSR</th>\n      <td>9.999833e-13</td>\n      <td>1.388819e-05</td>\n      <td>NuShares</td>\n      <td>0</td>\n    </tr>\n    <tr>\n      <th>MONA</th>\n      <td>0.000000e+00</td>\n      <td>1.843123e-07</td>\n      <td>MonaCoin</td>\n      <td>2</td>\n    </tr>\n    <tr>\n      <th>TRI</th>\n      <td>9.999833e-13</td>\n      <td>3.999173e-10</td>\n      <td>Triangles Coin</td>\n      <td>0</td>\n    </tr>\n  </tbody>\n</table>\n</div>"
     },
     "metadata": {},
     "execution_count": 52
    }
   ],
   "source": [
    "# Scale data to create the scatter plot\n",
    "mm_scaler = MinMaxScaler()\n",
    "scaled = mm_scaler.fit_transform(\n",
    "    df_crypto_predict[[\"MaxSupply\", \"TotalCoinsMined\"]]\n",
    ")\n",
    "scaled_df = pd.DataFrame(\n",
    "    scaled, columns=[\"MaxSupply\", \"TotalCoinsMined\"], index=df_crypto_predict.index\n",
    ")\n",
    "scaled_df[\"CoinName\"] = df_crypto_predict[\"CoinName\"]\n",
    "scaled_df[\"Class\"] = df_crypto_predict[\"Class\"]\n",
    "scaled_df.head()"
   ]
  },
  {
   "cell_type": "code",
   "execution_count": 68,
   "metadata": {},
   "outputs": [
    {
     "output_type": "execute_result",
     "data": {
      "text/plain": [
       "(144, 4)"
      ]
     },
     "metadata": {},
     "execution_count": 68
    }
   ],
   "source": [
    "scaled_df.shape"
   ]
  },
  {
   "cell_type": "code",
   "execution_count": 88,
   "metadata": {},
   "outputs": [],
   "source": [
    "# set up ticks\n",
    "list_index = list(np.arange(scaled_df.MaxSupply.min(),scaled_df.MaxSupply.max(), .05))\n",
    "list_index_x = list(np.arange(scaled_df.TotalCoinsMined.min(),scaled_df.TotalCoinsMined.max(), .025))"
   ]
  },
  {
   "cell_type": "code",
   "execution_count": 89,
   "metadata": {},
   "outputs": [
    {
     "output_type": "display_data",
     "data": {},
     "metadata": {}
    },
    {
     "output_type": "execute_result",
     "data": {
      "text/html": "<div id='7291'>\n\n\n\n\n\n  <div class=\"bk-root\" id=\"e32a6006-5850-4540-8b71-b02b162fa22b\" data-root-id=\"7291\"></div>\n</div>\n<script type=\"application/javascript\">(function(root) {\n  function embed_document(root) {\n    var docs_json = {\"f2698528-a373-4ae6-ae2d-287c9686062c\":{\"defs\":[],\"roots\":{\"references\":[{\"attributes\":{\"margin\":[5,5,5,5],\"name\":\"HSpacer16849\",\"sizing_mode\":\"stretch_width\"},\"id\":\"7292\",\"type\":\"Spacer\"},{\"attributes\":{},\"id\":\"7320\",\"type\":\"ResetTool\"},{\"attributes\":{},\"id\":\"7356\",\"type\":\"UnionRenderers\"},{\"attributes\":{\"fill_color\":{\"value\":\"#6d904f\"},\"line_color\":{\"value\":\"#6d904f\"},\"size\":{\"value\":5.477225575051661},\"x\":{\"field\":\"TotalCoinsMined\"},\"y\":{\"field\":\"MaxSupply\"}},\"id\":\"7405\",\"type\":\"Scatter\"},{\"attributes\":{\"data_source\":{\"id\":\"7341\"},\"glyph\":{\"id\":\"7344\"},\"hover_glyph\":null,\"muted_glyph\":{\"id\":\"7346\"},\"nonselection_glyph\":{\"id\":\"7345\"},\"selection_glyph\":{\"id\":\"7359\"},\"view\":{\"id\":\"7348\"}},\"id\":\"7347\",\"type\":\"GlyphRenderer\"},{\"attributes\":{\"data\":{\"Class\":[3,3,3],\"CoinName\":[\"Amber\",\"DAPS Coin\",\"Poa Network\"],\"MaxSupply\":{\"__ndarray__\":\"AAAAAAAAAAAdd+R4ceuxPwAAAAAAAAAA\",\"dtype\":\"float64\",\"order\":\"little\",\"shape\":[3]},\"TotalCoinsMined\":{\"__ndarray__\":\"CU3db2FDuz4LgnWKqWsiP+kFakxKxaU+\",\"dtype\":\"float64\",\"order\":\"little\",\"shape\":[3]}},\"selected\":{\"id\":\"7403\"},\"selection_policy\":{\"id\":\"7423\"}},\"id\":\"7402\",\"type\":\"ColumnDataSource\"},{\"attributes\":{\"margin\":[5,5,5,5],\"name\":\"HSpacer16850\",\"sizing_mode\":\"stretch_width\"},\"id\":\"7552\",\"type\":\"Spacer\"},{\"attributes\":{\"angle\":{\"value\":0.0},\"fill_alpha\":{\"value\":1.0},\"fill_color\":{\"value\":\"#fc4f30\"},\"hatch_alpha\":{\"value\":1.0},\"hatch_color\":{\"value\":\"black\"},\"hatch_scale\":{\"value\":12.0},\"hatch_weight\":{\"value\":1.0},\"line_alpha\":{\"value\":1.0},\"line_cap\":{\"value\":\"butt\"},\"line_color\":{\"value\":\"#fc4f30\"},\"line_dash\":{\"value\":[]},\"line_dash_offset\":{\"value\":0},\"line_join\":{\"value\":\"bevel\"},\"line_width\":{\"value\":1},\"marker\":{\"value\":\"circle\"},\"size\":{\"value\":5.477225575051661},\"x\":{\"field\":\"TotalCoinsMined\"},\"y\":{\"field\":\"MaxSupply\"}},\"id\":\"7379\",\"type\":\"Scatter\"},{\"attributes\":{\"click_policy\":\"mute\",\"items\":[{\"id\":\"7358\"},{\"id\":\"7378\"},{\"id\":\"7400\"},{\"id\":\"7424\"}],\"location\":[0,0],\"title\":\"Class\"},\"id\":\"7357\",\"type\":\"Legend\"},{\"attributes\":{\"callback\":null,\"renderers\":[{\"id\":\"7347\"},{\"id\":\"7366\"},{\"id\":\"7386\"},{\"id\":\"7408\"}],\"tags\":[\"hv_created\"],\"tooltips\":[[\"Class\",\"@{Class}\"],[\"TotalCoinsMined\",\"@{TotalCoinsMined}\"],[\"MaxSupply\",\"@{MaxSupply}\"],[\"CoinName\",\"@{CoinName}\"]]},\"id\":\"7295\",\"type\":\"HoverTool\"},{\"attributes\":{\"angle\":{\"value\":0.0},\"fill_alpha\":{\"value\":1.0},\"fill_color\":{\"value\":\"#6d904f\"},\"hatch_alpha\":{\"value\":1.0},\"hatch_color\":{\"value\":\"black\"},\"hatch_scale\":{\"value\":12.0},\"hatch_weight\":{\"value\":1.0},\"line_alpha\":{\"value\":1.0},\"line_cap\":{\"value\":\"butt\"},\"line_color\":{\"value\":\"#6d904f\"},\"line_dash\":{\"value\":[]},\"line_dash_offset\":{\"value\":0},\"line_join\":{\"value\":\"bevel\"},\"line_width\":{\"value\":1},\"marker\":{\"value\":\"circle\"},\"size\":{\"value\":5.477225575051661},\"x\":{\"field\":\"TotalCoinsMined\"},\"y\":{\"field\":\"MaxSupply\"}},\"id\":\"7425\",\"type\":\"Scatter\"},{\"attributes\":{\"end\":1.0625,\"reset_end\":1.0625,\"reset_start\":-0.0625,\"start\":-0.0625,\"tags\":[[[\"TotalCoinsMined\",\"TotalCoinsMined\",null]]]},\"id\":\"7293\",\"type\":\"Range1d\"},{\"attributes\":{\"active_multi\":null,\"tools\":[{\"id\":\"7295\"},{\"id\":\"7316\"},{\"id\":\"7317\"},{\"id\":\"7318\"},{\"id\":\"7319\"},{\"id\":\"7320\"}]},\"id\":\"7322\",\"type\":\"Toolbar\"},{\"attributes\":{\"data_source\":{\"id\":\"7402\"},\"glyph\":{\"id\":\"7405\"},\"hover_glyph\":null,\"muted_glyph\":{\"id\":\"7407\"},\"nonselection_glyph\":{\"id\":\"7406\"},\"selection_glyph\":{\"id\":\"7425\"},\"view\":{\"id\":\"7409\"}},\"id\":\"7408\",\"type\":\"GlyphRenderer\"},{\"attributes\":{\"below\":[{\"id\":\"7308\"}],\"center\":[{\"id\":\"7311\"},{\"id\":\"7315\"}],\"height\":500,\"left\":[{\"id\":\"7312\"}],\"margin\":[5,5,5,5],\"min_border_bottom\":10,\"min_border_left\":10,\"min_border_right\":10,\"min_border_top\":10,\"renderers\":[{\"id\":\"7347\"},{\"id\":\"7366\"},{\"id\":\"7386\"},{\"id\":\"7408\"}],\"right\":[{\"id\":\"7357\"}],\"sizing_mode\":\"fixed\",\"title\":{\"id\":\"7300\"},\"toolbar\":{\"id\":\"7322\"},\"width\":800,\"x_range\":{\"id\":\"7293\"},\"x_scale\":{\"id\":\"7304\"},\"y_range\":{\"id\":\"7294\"},\"y_scale\":{\"id\":\"7306\"}},\"id\":\"7299\",\"subtype\":\"Figure\",\"type\":\"Plot\"},{\"attributes\":{\"source\":{\"id\":\"7360\"}},\"id\":\"7367\",\"type\":\"CDSView\"},{\"attributes\":{\"bottom_units\":\"screen\",\"fill_alpha\":0.5,\"fill_color\":\"lightgrey\",\"left_units\":\"screen\",\"level\":\"overlay\",\"line_alpha\":1.0,\"line_color\":\"black\",\"line_dash\":[4,4],\"line_width\":2,\"right_units\":\"screen\",\"syncable\":false,\"top_units\":\"screen\"},\"id\":\"7321\",\"type\":\"BoxAnnotation\"},{\"attributes\":{\"ticks\":[0.0,0.025,0.05,0.07500000000000001,0.1,0.125,0.15000000000000002,0.17500000000000002,0.2,0.225,0.25,0.275,0.30000000000000004,0.325,0.35000000000000003,0.375,0.4,0.42500000000000004,0.45,0.47500000000000003,0.5,0.525,0.55,0.5750000000000001,0.6000000000000001,0.625,0.65,0.675,0.7000000000000001,0.7250000000000001,0.75,0.775,0.8,0.8250000000000001,0.8500000000000001,0.875,0.9,0.925,0.9500000000000001,0.9750000000000001]},\"id\":\"7329\",\"type\":\"FixedTicker\"},{\"attributes\":{},\"id\":\"7337\",\"type\":\"BasicTickFormatter\"},{\"attributes\":{\"data_source\":{\"id\":\"7360\"},\"glyph\":{\"id\":\"7363\"},\"hover_glyph\":null,\"muted_glyph\":{\"id\":\"7365\"},\"nonselection_glyph\":{\"id\":\"7364\"},\"selection_glyph\":{\"id\":\"7379\"},\"view\":{\"id\":\"7367\"}},\"id\":\"7366\",\"type\":\"GlyphRenderer\"},{\"attributes\":{\"fill_alpha\":{\"value\":0.1},\"fill_color\":{\"value\":\"#fc4f30\"},\"line_alpha\":{\"value\":0.1},\"line_color\":{\"value\":\"#fc4f30\"},\"size\":{\"value\":5.477225575051661},\"x\":{\"field\":\"TotalCoinsMined\"},\"y\":{\"field\":\"MaxSupply\"}},\"id\":\"7364\",\"type\":\"Scatter\"},{\"attributes\":{\"end\":1.1000000000000003,\"reset_end\":1.1000000000000003,\"reset_start\":-0.10000000000000003,\"start\":-0.10000000000000003,\"tags\":[[[\"MaxSupply\",\"MaxSupply\",null]]]},\"id\":\"7294\",\"type\":\"Range1d\"},{\"attributes\":{},\"id\":\"7336\",\"type\":\"AllLabels\"},{\"attributes\":{\"children\":[{\"id\":\"7292\"},{\"id\":\"7299\"},{\"id\":\"7552\"}],\"margin\":[0,0,0,0],\"name\":\"Row16845\",\"tags\":[\"embedded\"]},\"id\":\"7291\",\"type\":\"Row\"},{\"attributes\":{\"fill_color\":{\"value\":\"#fc4f30\"},\"line_color\":{\"value\":\"#fc4f30\"},\"size\":{\"value\":5.477225575051661},\"x\":{\"field\":\"TotalCoinsMined\"},\"y\":{\"field\":\"MaxSupply\"}},\"id\":\"7363\",\"type\":\"Scatter\"},{\"attributes\":{\"fill_alpha\":{\"value\":0.2},\"fill_color\":{\"value\":\"#fc4f30\"},\"line_alpha\":{\"value\":0.2},\"line_color\":{\"value\":\"#fc4f30\"},\"size\":{\"value\":5.477225575051661},\"x\":{\"field\":\"TotalCoinsMined\"},\"y\":{\"field\":\"MaxSupply\"}},\"id\":\"7365\",\"type\":\"Scatter\"},{\"attributes\":{\"label\":{\"value\":\"0\"},\"renderers\":[{\"id\":\"7347\"}]},\"id\":\"7358\",\"type\":\"LegendItem\"},{\"attributes\":{},\"id\":\"7361\",\"type\":\"Selection\"},{\"attributes\":{\"axis\":{\"id\":\"7308\"},\"grid_line_color\":null,\"ticker\":null},\"id\":\"7311\",\"type\":\"Grid\"},{\"attributes\":{\"ticks\":[0.0,0.05,0.1,0.15000000000000002,0.2,0.25,0.30000000000000004,0.35000000000000003,0.4,0.45,0.5,0.55,0.6000000000000001,0.65,0.7000000000000001,0.75,0.8,0.8500000000000001,0.9,0.9500000000000001,1.0]},\"id\":\"7330\",\"type\":\"FixedTicker\"},{\"attributes\":{\"fill_alpha\":{\"value\":0.2},\"fill_color\":{\"value\":\"#30a2da\"},\"line_alpha\":{\"value\":0.2},\"line_color\":{\"value\":\"#30a2da\"},\"size\":{\"value\":5.477225575051661},\"x\":{\"field\":\"TotalCoinsMined\"},\"y\":{\"field\":\"MaxSupply\"}},\"id\":\"7346\",\"type\":\"Scatter\"},{\"attributes\":{\"text_color\":\"black\",\"text_font_size\":\"12pt\"},\"id\":\"7300\",\"type\":\"Title\"},{\"attributes\":{\"data\":{\"Class\":[1],\"CoinName\":[\"VeChain\"],\"MaxSupply\":{\"__ndarray__\":\"Us54QrQytj8=\",\"dtype\":\"float64\",\"order\":\"little\",\"shape\":[1]},\"TotalCoinsMined\":{\"__ndarray__\":\"jBYWxWpqKT8=\",\"dtype\":\"float64\",\"order\":\"little\",\"shape\":[1]}},\"selected\":{\"id\":\"7361\"},\"selection_policy\":{\"id\":\"7377\"}},\"id\":\"7360\",\"type\":\"ColumnDataSource\"},{\"attributes\":{},\"id\":\"7304\",\"type\":\"LinearScale\"},{\"attributes\":{},\"id\":\"7377\",\"type\":\"UnionRenderers\"},{\"attributes\":{\"fill_alpha\":{\"value\":0.2},\"fill_color\":{\"value\":\"#e5ae38\"},\"line_alpha\":{\"value\":0.2},\"line_color\":{\"value\":\"#e5ae38\"},\"size\":{\"value\":5.477225575051661},\"x\":{\"field\":\"TotalCoinsMined\"},\"y\":{\"field\":\"MaxSupply\"}},\"id\":\"7385\",\"type\":\"Scatter\"},{\"attributes\":{\"label\":{\"value\":\"1\"},\"renderers\":[{\"id\":\"7366\"}]},\"id\":\"7378\",\"type\":\"LegendItem\"},{\"attributes\":{\"fill_color\":{\"value\":\"#e5ae38\"},\"line_color\":{\"value\":\"#e5ae38\"},\"size\":{\"value\":5.477225575051661},\"x\":{\"field\":\"TotalCoinsMined\"},\"y\":{\"field\":\"MaxSupply\"}},\"id\":\"7383\",\"type\":\"Scatter\"},{\"attributes\":{\"angle\":{\"value\":0.0},\"fill_alpha\":{\"value\":1.0},\"fill_color\":{\"value\":\"#30a2da\"},\"hatch_alpha\":{\"value\":1.0},\"hatch_color\":{\"value\":\"black\"},\"hatch_scale\":{\"value\":12.0},\"hatch_weight\":{\"value\":1.0},\"line_alpha\":{\"value\":1.0},\"line_cap\":{\"value\":\"butt\"},\"line_color\":{\"value\":\"#30a2da\"},\"line_dash\":{\"value\":[]},\"line_dash_offset\":{\"value\":0},\"line_join\":{\"value\":\"bevel\"},\"line_width\":{\"value\":1},\"marker\":{\"value\":\"circle\"},\"size\":{\"value\":5.477225575051661},\"x\":{\"field\":\"TotalCoinsMined\"},\"y\":{\"field\":\"MaxSupply\"}},\"id\":\"7359\",\"type\":\"Scatter\"},{\"attributes\":{},\"id\":\"7306\",\"type\":\"LinearScale\"},{\"attributes\":{},\"id\":\"7381\",\"type\":\"Selection\"},{\"attributes\":{\"axis_label\":\"MaxSupply\",\"formatter\":{\"id\":\"7337\"},\"major_label_policy\":{\"id\":\"7336\"},\"ticker\":{\"id\":\"7330\"}},\"id\":\"7312\",\"type\":\"LinearAxis\"},{\"attributes\":{\"label\":{\"value\":\"2\"},\"renderers\":[{\"id\":\"7386\"}]},\"id\":\"7400\",\"type\":\"LegendItem\"},{\"attributes\":{\"fill_color\":{\"value\":\"#30a2da\"},\"line_color\":{\"value\":\"#30a2da\"},\"size\":{\"value\":5.477225575051661},\"x\":{\"field\":\"TotalCoinsMined\"},\"y\":{\"field\":\"MaxSupply\"}},\"id\":\"7344\",\"type\":\"Scatter\"},{\"attributes\":{\"data\":{\"Class\":[2,2,2,2,2,2,2,2,2,2,2,2,2,2,2,2,2,2,2,2,2,2,2,2,2,2,2,2,2,2,2,2,2,2,2,2,2,2,2,2,2,2,2,2,2,2,2,2,2,2,2,2,2,2,2,2,2,2,2,2,2,2,2,2,2,2,2,2],\"CoinName\":[\"CounterParty\",\"MonaCoin\",\"CometCoin\",\"Quantum Resistant Ledger\",\"BitcoinZ\",\"Pura\",\"UnitedBitcoin\",\"Bitcoin Private\",\"Callisto Network\",\"Aidos Kuneen\",\"Beam\",\"Foin\",\"Beldex\",\"Nervos Network\",\"Handshake\",\"MimbleWimbleCoin\",\"Ravencoin Classic\",\"Primas\",\"INT\",\"Wibcoin\",\"Revain\",\"Haven Protocol\",\"EtherZero\",\"Bitcoin ABC\",\"AEON\",\"Circuits of Value\",\"TENT\",\"Yee\",\"Arweave\",\"MegaCoin\",\"Pirate Chain\",\"Bithereum\",\"Horizen\",\"Grin\",\"Smart Bitcoin\",\"Namecoin\",\"Monero\",\"Litecoin\",\"Ethereum\",\"ByteCoin\",\"Bitcoin\",\"ZCash\",\"Waltonchain\",\"ViaCoin\",\"Vertcoin\",\"Verge\",\"Ubiq\",\"SysCoin\",\"Steem\",\"SmartCash\",\"SibCoin\",\"Siacoin\",\"Nano\",\"Metaverse\",\"Komodo\",\"Gulden\",\"Groestlcoin\",\"Firo\",\"FeatherCoin\",\"Expanse\",\"Ethereum Classic\",\"Einsteinium\",\"Dogecoin\",\"Bytom\",\"Bitcoin SV\",\"Bitcoin Cash\",\"Bitcoin Gold\",\"DigiByte\"],\"MaxSupply\":{\"__ndarray__\":\"AAAAAAAAAAAAAAAAAAAAAGnyWzeGl3E9tP49GlCGGz+oPBWR7oCVPwAAAAAAAAAA7wPe7wwF9j5A4RrF+vv3PqCt9UWhn3o/afJbN4aXcT071biG+jgxP0U6lTHGNho/AAAAAAAAAAAAAAAAAAAAAJr3ilYetmA/MM0jnJ749D6oPBWR7oCVPwAAAAAAAAAAi/WD3DtiUD8BAAAAAADwPwAAAAAAAAAAAAAAAAAAAAAAAAAAAAAAAOX7de8MBfY+AAAAAAAAAAAAAAAAAAAAADIlEyB+CxY/AAAAAAAAAADoaOZpHE0RP9RAEucMBQY/fkliL8Y2Kj9p8ls3hpdxPe8D3u8MBfY+AAAAAAAAAADvA97vDAX2PgAAAAAAAAAAAAAAAAAAAABGX6ziDAUWPwAAAAAAAAAAdNUGoZycxz/l+3XvDAX2Pu8D3u8MBfY+AAAAAAAAAAAAAAAAAAAAAEZfrOIMBRY/gSojqLjzkD8AAAAAAAAAAHgr/JP1GE0/AAAAAAAAAADVlF7Tynp0P+8D3u8MBfY+AAAAAAAAAAD2P4T0/nYhP0U6lTHGNho/fkliL8Y2Kj8/ex4WUIZbP7T+PRpQhhs/ouaORGxw9j4b9l/fDAU2P0U6lTHGNho/hb+R8sydKz8AAAAAAAAAAAAAAAAAAAAA7Q0LGFCGKz/l+3XvDAX2PuX7de8MBfY+7wPe7wwF9j6oPBWR7oCVPw==\",\"dtype\":\"float64\",\"order\":\"little\",\"shape\":[68]},\"TotalCoinsMined\":{\"__ndarray__\":\"UT3l1R9QOT7RR1Zw7LyIPghMiNWa4CA+LYD+kg5mhj4ElZRjnU32PusfgXl1gZw+Ux7xmEVsaT56WYImjnxCPrSCosUJGdw+c2qvHwlEbj7alX00PQuFPvOPNIrtAYw+3hISUQd9yj7kheySKQITP4Sp3oEgSq0+rS/iEzr9WT79KRjiZcb0PnPfh89mRI4+VtDsxBoKsz6IPJkQZ3liP4qLl7okJCk/mW+QM24+Yj55X3lxhfKgPtmlRguUrWY+ugq06FyeZT5TPzfTDM3QPnyqD1SqbnU+u/R3eYil9z6uDNyIiG6DPjAwXCc16Xc+Chz3DgB7mz7OVWOMLLJyPt61qLwX4Fo+KA6MGXO2hD4AAAAAAAAAALoKtIACL2U+EEixCKGvZT6d0OV69HyEPiKtmUcXjJE+ibNl4T9DOz/Pewhlp6dmPuixeIuw51o+j8aQOC5FcD4QaNtGJA5sPkE7JaI/MII+HntASjZ0Az9B50qENtF+Ppwf2p45Krc+rbfq1w/+rD7BZiWhzi3ZPteptJg8Nmc+rZ0791VEHD/4LAWcUyqUPqa0A/7/UYg+zxCQeANZkz7bsY1WnVG0Pmfdc9WOe4c+YAosY+HCXD6X78NshmeiPhgrejNJAXU+gP9FFhtSkz7/68d5z8WgPvW/bsEQJTM/s8ATouO/zz42rpZnC69mPn9Ke5RQsGY+mmBnTJ2sZj7Wtz76uu8APw==\",\"dtype\":\"float64\",\"order\":\"little\",\"shape\":[68]}},\"selected\":{\"id\":\"7381\"},\"selection_policy\":{\"id\":\"7399\"}},\"id\":\"7380\",\"type\":\"ColumnDataSource\"},{\"attributes\":{\"axis_label\":\"TotalCoinsMined\",\"formatter\":{\"id\":\"7332\"},\"major_label_orientation\":1.5707963267948966,\"major_label_policy\":{\"id\":\"7331\"},\"ticker\":{\"id\":\"7329\"}},\"id\":\"7308\",\"type\":\"LinearAxis\"},{\"attributes\":{},\"id\":\"7403\",\"type\":\"Selection\"},{\"attributes\":{},\"id\":\"7332\",\"type\":\"BasicTickFormatter\"},{\"attributes\":{\"data\":{\"Class\":[0,0,0,0,0,0,0,0,0,0,0,0,0,0,0,0,0,0,0,0,0,0,0,0,0,0,0,0,0,0,0,0,0,0,0,0,0,0,0,0,0,0,0,0,0,0,0,0,0,0,0,0,0,0,0,0,0,0,0,0,0,0,0,0,0,0,0,0,0,0,0,0],\"CoinName\":[\"NovaCoin\",\"NuShares\",\"Triangles Coin\",\"Emercoin\",\"SafeExchangeCoin\",\"Stakenet\",\"OpenChat\",\"Kcash\",\"ABBC Coin\",\"V Systems\",\"Nevula\",\"VEIL\",\"Acute Angle Cloud\",\"Alpha Finance Lab\",\"Auroracoin\",\"XDNA\",\"Swingby\",\"Red Pulse Phoenix Binance\",\"TokenPay\",\"NextDAO\",\"QuarkCoin\",\"United Emirates Coin\",\"ECOMI\",\"Rise\",\"Oxycoin\",\"BitTorrent\",\"BakeryTokeN\",\"DeepBrain Chain\",\"Anchor Protocol\",\"MAPS\",\"Tenset\",\"Waves\",\"BeforeCoinMarketCap\",\"Zelcash\",\"Worldwide Asset eXchange\",\"Shift\",\"SaluS\",\"Ravencoin\",\"PotCoin\",\"Nxt\",\"BlockNet\",\"Binance Coin\",\"WeStarter\",\"WhiteCoin\",\"Stratis\",\"Reddcoin\",\"QTUM\",\"Private Instant Verified Transaction\",\"Ontology\",\"Nexus\",\"NEO\",\"Neblio\",\"NavCoin\",\"Lisk\",\"IOCoin\",\"HyperCash\",\"High Performance Blockchain\",\"EOS\",\"DigitalNote\",\"Decred\",\"Dash\",\"CloakCoin\",\"Cardano\",\"BurstCoin\",\"BlackCoin\",\"Bitshares\",\"Bitcoin Diamond\",\"ARK\",\"Aion\",\"Achain\",\"ICON Project\",\"YooShi\"],\"MaxSupply\":{\"__ndarray__\":\"AAAAAAAAAABp8ls3hpdxPWnyWzeGl3E9AAAAAAAAAAAAAAAAAAAAAAAAAAAAAAAAAAAAAAAAAAAAAAAAAAAAADdDy09znFg/AAAAAAAAAABAME/TynqkP+z6/KIUqTM/AAAAAAAAAAAAAAAAAAAAAO8D3u8MBfY+afJbN4aXcT0AAAAAAAAAAAAAAAAAAAAA7t7GPsY2+j4SyVXTynqEPwAAAAAAAAAAAAAAAAAAAAAAAAAAAAAAAAAAAAAAAAAAAAAAAAAAAAAAAAAAAAAAAAAAAAAAAAAAAAAAAAAAAAAAAAAAAAAAABLJVdPKeoQ/AAAAAAAAAAAAAAAAAAAAAAAAAAAAAAAA7Q0LGFCGKz8AAAAAAAAAAAAAAAAAAAAAAAAAAAAAAACoPBWR7oCVP4mV8RZQhjs/i/WD3DtiUD8AAAAAAAAAAAAAAAAAAAAAAAAAAAAAAACL9YPcO2JQPwAAAAAAAAAAAAAAAAAAAADowfDKt0McPwAAAAAAAAAAAAAAAAAAAAAnDRVlZ3IUP0U6lTHGNho/AAAAAAAAAAAAAAAAAAAAAAAAAAAAAAAArzqYQ3sR9z5GX6ziDAUWP0U6lTHGNho/AAAAAAAAAAAAAAAAAAAAAO8D3u8MBfY+w109c1jR8z4AAAAAAAAAAOrPuC0kCqc/PtM9aEivYT9FOpUxxjYaP/RG2zrRfm0/7Q0LGFCGKz8AAAAAAAAAAAAAAAAAAAAAafJbN4aXcT0AAAAAAAAAAAAAAAAAAAAA\",\"dtype\":\"float64\",\"order\":\"little\",\"shape\":[72]},\"TotalCoinsMined\":{\"__ndarray__\":\"7a3yu36APz7oNUAoKiDtPtBGv1Bre/s9IVsKpDC4fD7QAIY98U/UPnvuotH6MpI+mIGt0tHqwj6Yga3S0erCPkYu2bU7YMw+lCQn4M2f6z724E+oiKUXP2feXXZMspA+mIGt0tHqwj6Yga3S0erCPkrz4/0BVGc+U9K7LA5hVT6Yga3S0erCPrFbEFaQhOA+dGKYRiR9aj5UlKQ1vNbSPu/NnG+7XaQ+S4tBt1Q2aD7WLZT895tbPxXF/uKu9Zo+rGjO8X47xT5LXE7Q+UliP4d8qjLibbk+u/R3eYil9z6Yga3S0erCPoGI/kxFs4Y+tvZdiV3Qnj4/D9c1ddOPPrv0d3mIpfc+I3baN6ylsD6c67uE25vhPvmBhXqC9mE++vLoN8f5Iz7rLmXeBTX1Pq16jqB3HaE+yMJH+Pnlwj7yj8zlEaRSPs8CjiA/pJk+c9+Hz2ZEjj7EgfKfonrBPlwve9FY45M+wycG/5TZET/KtnAj80yPPigSdcez/oM+mIGt0tHqwj4hYk0tg1yFPnPfh89mRI4+dlz5aDSnZT5bX4Lm6rSFPmKbz2W3y5U+7gh6U13aZj4MLEMykkh7PowadRSv6Io+0pvAd6h6wz674jIgdtjnPt9KkLchVl8+IDHDECOPWD5fW1pJuVNLPhSlND1t+xI/PzZ+Vpz50z6NTcp92VyCPg6WOcrjU9w+rSPHayhNnj6lTmC5mtGXPks2rpd2obI+mIGt0tHqwj4sb1wUEtLAPgAAAAAAAPA/\",\"dtype\":\"float64\",\"order\":\"little\",\"shape\":[72]}},\"selected\":{\"id\":\"7342\"},\"selection_policy\":{\"id\":\"7356\"}},\"id\":\"7341\",\"type\":\"ColumnDataSource\"},{\"attributes\":{\"axis\":{\"id\":\"7312\"},\"dimension\":1,\"grid_line_color\":null,\"ticker\":null},\"id\":\"7315\",\"type\":\"Grid\"},{\"attributes\":{},\"id\":\"7342\",\"type\":\"Selection\"},{\"attributes\":{\"data_source\":{\"id\":\"7380\"},\"glyph\":{\"id\":\"7383\"},\"hover_glyph\":null,\"muted_glyph\":{\"id\":\"7385\"},\"nonselection_glyph\":{\"id\":\"7384\"},\"selection_glyph\":{\"id\":\"7401\"},\"view\":{\"id\":\"7387\"}},\"id\":\"7386\",\"type\":\"GlyphRenderer\"},{\"attributes\":{\"overlay\":{\"id\":\"7321\"}},\"id\":\"7319\",\"type\":\"BoxZoomTool\"},{\"attributes\":{},\"id\":\"7399\",\"type\":\"UnionRenderers\"},{\"attributes\":{\"source\":{\"id\":\"7341\"}},\"id\":\"7348\",\"type\":\"CDSView\"},{\"attributes\":{\"source\":{\"id\":\"7380\"}},\"id\":\"7387\",\"type\":\"CDSView\"},{\"attributes\":{\"label\":{\"value\":\"3\"},\"renderers\":[{\"id\":\"7408\"}]},\"id\":\"7424\",\"type\":\"LegendItem\"},{\"attributes\":{\"angle\":{\"value\":0.0},\"fill_alpha\":{\"value\":1.0},\"fill_color\":{\"value\":\"#e5ae38\"},\"hatch_alpha\":{\"value\":1.0},\"hatch_color\":{\"value\":\"black\"},\"hatch_scale\":{\"value\":12.0},\"hatch_weight\":{\"value\":1.0},\"line_alpha\":{\"value\":1.0},\"line_cap\":{\"value\":\"butt\"},\"line_color\":{\"value\":\"#e5ae38\"},\"line_dash\":{\"value\":[]},\"line_dash_offset\":{\"value\":0},\"line_join\":{\"value\":\"bevel\"},\"line_width\":{\"value\":1},\"marker\":{\"value\":\"circle\"},\"size\":{\"value\":5.477225575051661},\"x\":{\"field\":\"TotalCoinsMined\"},\"y\":{\"field\":\"MaxSupply\"}},\"id\":\"7401\",\"type\":\"Scatter\"},{\"attributes\":{},\"id\":\"7423\",\"type\":\"UnionRenderers\"},{\"attributes\":{\"fill_alpha\":{\"value\":0.1},\"fill_color\":{\"value\":\"#e5ae38\"},\"line_alpha\":{\"value\":0.1},\"line_color\":{\"value\":\"#e5ae38\"},\"size\":{\"value\":5.477225575051661},\"x\":{\"field\":\"TotalCoinsMined\"},\"y\":{\"field\":\"MaxSupply\"}},\"id\":\"7384\",\"type\":\"Scatter\"},{\"attributes\":{\"fill_alpha\":{\"value\":0.1},\"fill_color\":{\"value\":\"#6d904f\"},\"line_alpha\":{\"value\":0.1},\"line_color\":{\"value\":\"#6d904f\"},\"size\":{\"value\":5.477225575051661},\"x\":{\"field\":\"TotalCoinsMined\"},\"y\":{\"field\":\"MaxSupply\"}},\"id\":\"7406\",\"type\":\"Scatter\"},{\"attributes\":{\"fill_alpha\":{\"value\":0.2},\"fill_color\":{\"value\":\"#6d904f\"},\"line_alpha\":{\"value\":0.2},\"line_color\":{\"value\":\"#6d904f\"},\"size\":{\"value\":5.477225575051661},\"x\":{\"field\":\"TotalCoinsMined\"},\"y\":{\"field\":\"MaxSupply\"}},\"id\":\"7407\",\"type\":\"Scatter\"},{\"attributes\":{},\"id\":\"7316\",\"type\":\"SaveTool\"},{\"attributes\":{},\"id\":\"7317\",\"type\":\"PanTool\"},{\"attributes\":{},\"id\":\"7331\",\"type\":\"AllLabels\"},{\"attributes\":{},\"id\":\"7318\",\"type\":\"WheelZoomTool\"},{\"attributes\":{\"fill_alpha\":{\"value\":0.1},\"fill_color\":{\"value\":\"#30a2da\"},\"line_alpha\":{\"value\":0.1},\"line_color\":{\"value\":\"#30a2da\"},\"size\":{\"value\":5.477225575051661},\"x\":{\"field\":\"TotalCoinsMined\"},\"y\":{\"field\":\"MaxSupply\"}},\"id\":\"7345\",\"type\":\"Scatter\"},{\"attributes\":{\"source\":{\"id\":\"7402\"}},\"id\":\"7409\",\"type\":\"CDSView\"}],\"root_ids\":[\"7291\"]},\"title\":\"Bokeh Application\",\"version\":\"2.3.1\"}};\n    var render_items = [{\"docid\":\"f2698528-a373-4ae6-ae2d-287c9686062c\",\"root_ids\":[\"7291\"],\"roots\":{\"7291\":\"e32a6006-5850-4540-8b71-b02b162fa22b\"}}];\n    root.Bokeh.embed.embed_items_notebook(docs_json, render_items);\n  }\n  if (root.Bokeh !== undefined && root.Bokeh.Panel !== undefined) {\n    embed_document(root);\n  } else {\n    var attempts = 0;\n    var timer = setInterval(function(root) {\n      if (root.Bokeh !== undefined && root.Bokeh.Panel !== undefined) {\n        clearInterval(timer);\n        embed_document(root);\n      } else if (document.readyState == \"complete\") {\n        attempts++;\n        if (attempts > 100) {\n          clearInterval(timer);\n          console.log(\"Bokeh: ERROR: Unable to run BokehJS code because BokehJS library is missing\");\n        }\n      }\n    }, 10, root)\n  }\n})(window);</script>",
      "application/vnd.holoviews_exec.v0+json": "",
      "text/plain": [
       ":NdOverlay   [Class]\n",
       "   :Scatter   [TotalCoinsMined]   (MaxSupply,CoinName)"
      ]
     },
     "metadata": {
      "application/vnd.holoviews_exec.v0+json": {
       "id": "7291"
      }
     },
     "execution_count": 89
    }
   ],
   "source": [
    "xticks = 10\n",
    "scaled_df.hvplot.scatter (\n",
    "    x=\"TotalCoinsMined\",\n",
    "    y=\"MaxSupply\",\n",
    "    hover_cols=[\"CoinName\"],\n",
    "    by=\"Class\",\n",
    "    height=500,\n",
    "    width= 800).opts(xticks=list_index_x,yticks=list_index,xrotation=90)"
   ]
  },
  {
   "cell_type": "code",
   "execution_count": null,
   "metadata": {},
   "outputs": [],
   "source": []
  }
 ],
 "metadata": {
  "file_extension": ".py",
  "kernelspec": {
   "name": "python3710jvsc74a57bd02ec7e618890eaf650adabfc87b1462639950bbddc6236b16416d157c24e8754c",
   "display_name": "Python 3.7.10 64-bit ('mlenv': conda)"
  },
  "language_info": {
   "codemirror_mode": {
    "name": "ipython",
    "version": 3
   },
   "file_extension": ".py",
   "mimetype": "text/x-python",
   "name": "python",
   "nbconvert_exporter": "python",
   "pygments_lexer": "ipython3",
   "version": "3.7.10"
  },
  "mimetype": "text/x-python",
  "name": "python",
  "npconvert_exporter": "python",
  "pygments_lexer": "ipython3",
  "version": 3
 },
 "nbformat": 4,
 "nbformat_minor": 4
}