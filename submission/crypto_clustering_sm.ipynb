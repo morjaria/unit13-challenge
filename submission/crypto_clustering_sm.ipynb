{
 "cells": [
  {
   "cell_type": "markdown",
   "metadata": {},
   "source": [
    "# Clustering Crypto"
   ]
  },
  {
   "cell_type": "code",
   "execution_count": 2,
   "metadata": {},
   "outputs": [],
   "source": [
    "#!pip install -U altair"
   ]
  },
  {
   "cell_type": "code",
   "execution_count": 3,
   "metadata": {},
   "outputs": [],
   "source": [
    "# Initial imports\n",
    "import requests\n",
    "import pandas as pd\n",
    "import matplotlib.pyplot as plt\n",
    "from sklearn.preprocessing import StandardScaler, MinMaxScaler\n",
    "from sklearn.decomposition import PCA\n",
    "from sklearn.cluster import KMeans\n",
    "import altair as alt"
   ]
  },
  {
   "cell_type": "code",
   "execution_count": 4,
   "metadata": {},
   "outputs": [
    {
     "output_type": "execute_result",
     "data": {
      "text/plain": [
       "RendererRegistry.enable('default')"
      ]
     },
     "metadata": {},
     "execution_count": 4
    }
   ],
   "source": [
    "#alt.renderers.enable('mimetype')\n",
    "#alt.renderers.enable('notebook')\n",
    "alt.renderers.enable('default')"
   ]
  },
  {
   "cell_type": "markdown",
   "metadata": {},
   "source": [
    "### Fetching Cryptocurrency Data"
   ]
  },
  {
   "cell_type": "code",
   "execution_count": 5,
   "metadata": {},
   "outputs": [],
   "source": [
    "# Use the following endpoint to fetch json data\n",
    "url = \"https://min-api.cryptocompare.com/data/all/coinlist\"\n",
    "response = requests.get(url).json()"
   ]
  },
  {
   "cell_type": "code",
   "execution_count": 6,
   "metadata": {},
   "outputs": [],
   "source": [
    "# Create a DataFrame\n",
    "df_cryptocompare= pd.DataFrame.from_dict(response['Data']).T"
   ]
  },
  {
   "cell_type": "code",
   "execution_count": 7,
   "metadata": {},
   "outputs": [
    {
     "output_type": "execute_result",
     "data": {
      "text/plain": [
       "         Id                  Url                         ImageUrl  \\\n",
       "42     4321   /coins/42/overview           /media/35650717/42.jpg   \n",
       "300  749869  /coins/300/overview          /media/27010595/300.png   \n",
       "365   33639  /coins/365/overview            /media/352070/365.png   \n",
       "404   21227  /coins/404/overview  /media/35650851/404-300x300.jpg   \n",
       "433  926547  /coins/433/overview          /media/34836095/433.png   \n",
       "\n",
       "    ContentCreatedOn Name Symbol   CoinName         FullName  \\\n",
       "42        1427211129   42     42    42 Coin     42 Coin (42)   \n",
       "300       1517935016  300    300  300 token  300 token (300)   \n",
       "365       1480032918  365    365    365Coin    365Coin (365)   \n",
       "404       1466100361  404    404    404Coin    404Coin (404)   \n",
       "433       1541597321  433    433  433 Token  433 Token (433)   \n",
       "\n",
       "                                           Description AssetTokenStatus  ...  \\\n",
       "42   Everything about 42 coin is 42 - apart from th...              N/A  ...   \n",
       "300  300 token is an ERC20 token. This Token was cr...              N/A  ...   \n",
       "365  365Coin is a Proof of Work and Proof of Stake ...              N/A  ...   \n",
       "404  404 is a PoW/PoS hybrid cryptocurrency that al...              N/A  ...   \n",
       "433  433 Token is a decentralised soccer platform t...         Finished  ...   \n",
       "\n",
       "    AssetLaunchDate MaxSupply MktCapPenalty IsUsedInDefi IsUsedInNft  \\\n",
       "42       0000-00-00         0             0            0           0   \n",
       "300      2017-07-01       300             0            0           0   \n",
       "365      0000-00-00         0             0            0           0   \n",
       "404      0000-00-00         0             0            0           0   \n",
       "433             NaN       NaN           NaN          NaN         NaN   \n",
       "\n",
       "    PlatformType BuiltOn                        SmartContractAddress  \\\n",
       "42           NaN     NaN                                         NaN   \n",
       "300        token     ETH  0xaec98a708810414878c3bcdf46aad31ded4a4557   \n",
       "365          NaN     NaN                                         NaN   \n",
       "404          NaN     NaN                                         NaN   \n",
       "433          NaN     NaN                                         NaN   \n",
       "\n",
       "    DecimalPoints Difficulty  \n",
       "42            NaN        NaN  \n",
       "300            18        NaN  \n",
       "365           NaN        NaN  \n",
       "404           NaN        NaN  \n",
       "433           NaN        NaN  \n",
       "\n",
       "[5 rows x 32 columns]"
      ],
      "text/html": "<div>\n<style scoped>\n    .dataframe tbody tr th:only-of-type {\n        vertical-align: middle;\n    }\n\n    .dataframe tbody tr th {\n        vertical-align: top;\n    }\n\n    .dataframe thead th {\n        text-align: right;\n    }\n</style>\n<table border=\"1\" class=\"dataframe\">\n  <thead>\n    <tr style=\"text-align: right;\">\n      <th></th>\n      <th>Id</th>\n      <th>Url</th>\n      <th>ImageUrl</th>\n      <th>ContentCreatedOn</th>\n      <th>Name</th>\n      <th>Symbol</th>\n      <th>CoinName</th>\n      <th>FullName</th>\n      <th>Description</th>\n      <th>AssetTokenStatus</th>\n      <th>...</th>\n      <th>AssetLaunchDate</th>\n      <th>MaxSupply</th>\n      <th>MktCapPenalty</th>\n      <th>IsUsedInDefi</th>\n      <th>IsUsedInNft</th>\n      <th>PlatformType</th>\n      <th>BuiltOn</th>\n      <th>SmartContractAddress</th>\n      <th>DecimalPoints</th>\n      <th>Difficulty</th>\n    </tr>\n  </thead>\n  <tbody>\n    <tr>\n      <th>42</th>\n      <td>4321</td>\n      <td>/coins/42/overview</td>\n      <td>/media/35650717/42.jpg</td>\n      <td>1427211129</td>\n      <td>42</td>\n      <td>42</td>\n      <td>42 Coin</td>\n      <td>42 Coin (42)</td>\n      <td>Everything about 42 coin is 42 - apart from th...</td>\n      <td>N/A</td>\n      <td>...</td>\n      <td>0000-00-00</td>\n      <td>0</td>\n      <td>0</td>\n      <td>0</td>\n      <td>0</td>\n      <td>NaN</td>\n      <td>NaN</td>\n      <td>NaN</td>\n      <td>NaN</td>\n      <td>NaN</td>\n    </tr>\n    <tr>\n      <th>300</th>\n      <td>749869</td>\n      <td>/coins/300/overview</td>\n      <td>/media/27010595/300.png</td>\n      <td>1517935016</td>\n      <td>300</td>\n      <td>300</td>\n      <td>300 token</td>\n      <td>300 token (300)</td>\n      <td>300 token is an ERC20 token. This Token was cr...</td>\n      <td>N/A</td>\n      <td>...</td>\n      <td>2017-07-01</td>\n      <td>300</td>\n      <td>0</td>\n      <td>0</td>\n      <td>0</td>\n      <td>token</td>\n      <td>ETH</td>\n      <td>0xaec98a708810414878c3bcdf46aad31ded4a4557</td>\n      <td>18</td>\n      <td>NaN</td>\n    </tr>\n    <tr>\n      <th>365</th>\n      <td>33639</td>\n      <td>/coins/365/overview</td>\n      <td>/media/352070/365.png</td>\n      <td>1480032918</td>\n      <td>365</td>\n      <td>365</td>\n      <td>365Coin</td>\n      <td>365Coin (365)</td>\n      <td>365Coin is a Proof of Work and Proof of Stake ...</td>\n      <td>N/A</td>\n      <td>...</td>\n      <td>0000-00-00</td>\n      <td>0</td>\n      <td>0</td>\n      <td>0</td>\n      <td>0</td>\n      <td>NaN</td>\n      <td>NaN</td>\n      <td>NaN</td>\n      <td>NaN</td>\n      <td>NaN</td>\n    </tr>\n    <tr>\n      <th>404</th>\n      <td>21227</td>\n      <td>/coins/404/overview</td>\n      <td>/media/35650851/404-300x300.jpg</td>\n      <td>1466100361</td>\n      <td>404</td>\n      <td>404</td>\n      <td>404Coin</td>\n      <td>404Coin (404)</td>\n      <td>404 is a PoW/PoS hybrid cryptocurrency that al...</td>\n      <td>N/A</td>\n      <td>...</td>\n      <td>0000-00-00</td>\n      <td>0</td>\n      <td>0</td>\n      <td>0</td>\n      <td>0</td>\n      <td>NaN</td>\n      <td>NaN</td>\n      <td>NaN</td>\n      <td>NaN</td>\n      <td>NaN</td>\n    </tr>\n    <tr>\n      <th>433</th>\n      <td>926547</td>\n      <td>/coins/433/overview</td>\n      <td>/media/34836095/433.png</td>\n      <td>1541597321</td>\n      <td>433</td>\n      <td>433</td>\n      <td>433 Token</td>\n      <td>433 Token (433)</td>\n      <td>433 Token is a decentralised soccer platform t...</td>\n      <td>Finished</td>\n      <td>...</td>\n      <td>NaN</td>\n      <td>NaN</td>\n      <td>NaN</td>\n      <td>NaN</td>\n      <td>NaN</td>\n      <td>NaN</td>\n      <td>NaN</td>\n      <td>NaN</td>\n      <td>NaN</td>\n      <td>NaN</td>\n    </tr>\n  </tbody>\n</table>\n<p>5 rows × 32 columns</p>\n</div>"
     },
     "metadata": {},
     "execution_count": 7
    }
   ],
   "source": [
    "df_cryptocompare.head()"
   ]
  },
  {
   "source": [
    "https://compassmining.io/education/when-will-all-bitcoins-be-mined/"
   ],
   "cell_type": "markdown",
   "metadata": {}
  },
  {
   "cell_type": "markdown",
   "metadata": {},
   "source": [
    "### Data Preprocessing"
   ]
  },
  {
   "cell_type": "code",
   "execution_count": 8,
   "metadata": {},
   "outputs": [],
   "source": [
    "# Keep only necessary columns:\n",
    "# 'CoinName','Algorithm','IsTrading','ProofType','TotalCoinsMined','TotalCoinSupply'\n",
    "keep_list = ['CoinName','Algorithm','IsTrading','ProofType','TotalCoinsMined','MaxSupply']\n",
    "df_cryptocompare = df_cryptocompare[keep_list]"
   ]
  },
  {
   "cell_type": "code",
   "execution_count": 9,
   "metadata": {},
   "outputs": [
    {
     "output_type": "execute_result",
     "data": {
      "text/plain": [
       "      CoinName Algorithm IsTrading ProofType TotalCoinsMined MaxSupply\n",
       "42     42 Coin    Scrypt      True   PoW/PoS               0         0\n",
       "300  300 token       N/A      True       N/A             300       300\n",
       "365    365Coin       X11      True   PoW/PoS               0         0\n",
       "404    404Coin    Scrypt      True   PoW/PoS               0         0\n",
       "611  SixEleven   SHA-256      True       PoW               0         0"
      ],
      "text/html": "<div>\n<style scoped>\n    .dataframe tbody tr th:only-of-type {\n        vertical-align: middle;\n    }\n\n    .dataframe tbody tr th {\n        vertical-align: top;\n    }\n\n    .dataframe thead th {\n        text-align: right;\n    }\n</style>\n<table border=\"1\" class=\"dataframe\">\n  <thead>\n    <tr style=\"text-align: right;\">\n      <th></th>\n      <th>CoinName</th>\n      <th>Algorithm</th>\n      <th>IsTrading</th>\n      <th>ProofType</th>\n      <th>TotalCoinsMined</th>\n      <th>MaxSupply</th>\n    </tr>\n  </thead>\n  <tbody>\n    <tr>\n      <th>42</th>\n      <td>42 Coin</td>\n      <td>Scrypt</td>\n      <td>True</td>\n      <td>PoW/PoS</td>\n      <td>0</td>\n      <td>0</td>\n    </tr>\n    <tr>\n      <th>300</th>\n      <td>300 token</td>\n      <td>N/A</td>\n      <td>True</td>\n      <td>N/A</td>\n      <td>300</td>\n      <td>300</td>\n    </tr>\n    <tr>\n      <th>365</th>\n      <td>365Coin</td>\n      <td>X11</td>\n      <td>True</td>\n      <td>PoW/PoS</td>\n      <td>0</td>\n      <td>0</td>\n    </tr>\n    <tr>\n      <th>404</th>\n      <td>404Coin</td>\n      <td>Scrypt</td>\n      <td>True</td>\n      <td>PoW/PoS</td>\n      <td>0</td>\n      <td>0</td>\n    </tr>\n    <tr>\n      <th>611</th>\n      <td>SixEleven</td>\n      <td>SHA-256</td>\n      <td>True</td>\n      <td>PoW</td>\n      <td>0</td>\n      <td>0</td>\n    </tr>\n  </tbody>\n</table>\n</div>"
     },
     "metadata": {},
     "execution_count": 9
    }
   ],
   "source": [
    "# Keep only cryptocurrencies that are trading\n",
    "df_cryptocompare = df_cryptocompare[df_cryptocompare['IsTrading'] == True]\n",
    "df_cryptocompare.head()"
   ]
  },
  {
   "cell_type": "code",
   "execution_count": 10,
   "metadata": {},
   "outputs": [
    {
     "output_type": "execute_result",
     "data": {
      "text/plain": [
       "(1495, 6)"
      ]
     },
     "metadata": {},
     "execution_count": 10
    }
   ],
   "source": [
    "# Keep only cryptocurrencies with a working algorithm\n",
    "df_cryptocompare = df_cryptocompare[~df_cryptocompare.Algorithm.str.match('N/A')]\n",
    "df_cryptocompare.shape"
   ]
  },
  {
   "cell_type": "code",
   "execution_count": 11,
   "metadata": {},
   "outputs": [
    {
     "output_type": "execute_result",
     "data": {
      "text/plain": [
       "      CoinName Algorithm IsTrading ProofType TotalCoinsMined MaxSupply\n",
       "42     42 Coin    Scrypt      True   PoW/PoS               0         0\n",
       "365    365Coin       X11      True   PoW/PoS               0         0\n",
       "404    404Coin    Scrypt      True   PoW/PoS               0         0\n",
       "611  SixEleven   SHA-256      True       PoW               0         0\n",
       "808        808   SHA-256      True   PoW/PoS               0         0"
      ],
      "text/html": "<div>\n<style scoped>\n    .dataframe tbody tr th:only-of-type {\n        vertical-align: middle;\n    }\n\n    .dataframe tbody tr th {\n        vertical-align: top;\n    }\n\n    .dataframe thead th {\n        text-align: right;\n    }\n</style>\n<table border=\"1\" class=\"dataframe\">\n  <thead>\n    <tr style=\"text-align: right;\">\n      <th></th>\n      <th>CoinName</th>\n      <th>Algorithm</th>\n      <th>IsTrading</th>\n      <th>ProofType</th>\n      <th>TotalCoinsMined</th>\n      <th>MaxSupply</th>\n    </tr>\n  </thead>\n  <tbody>\n    <tr>\n      <th>42</th>\n      <td>42 Coin</td>\n      <td>Scrypt</td>\n      <td>True</td>\n      <td>PoW/PoS</td>\n      <td>0</td>\n      <td>0</td>\n    </tr>\n    <tr>\n      <th>365</th>\n      <td>365Coin</td>\n      <td>X11</td>\n      <td>True</td>\n      <td>PoW/PoS</td>\n      <td>0</td>\n      <td>0</td>\n    </tr>\n    <tr>\n      <th>404</th>\n      <td>404Coin</td>\n      <td>Scrypt</td>\n      <td>True</td>\n      <td>PoW/PoS</td>\n      <td>0</td>\n      <td>0</td>\n    </tr>\n    <tr>\n      <th>611</th>\n      <td>SixEleven</td>\n      <td>SHA-256</td>\n      <td>True</td>\n      <td>PoW</td>\n      <td>0</td>\n      <td>0</td>\n    </tr>\n    <tr>\n      <th>808</th>\n      <td>808</td>\n      <td>SHA-256</td>\n      <td>True</td>\n      <td>PoW/PoS</td>\n      <td>0</td>\n      <td>0</td>\n    </tr>\n  </tbody>\n</table>\n</div>"
     },
     "metadata": {},
     "execution_count": 11
    }
   ],
   "source": [
    "df_cryptocompare.head()"
   ]
  },
  {
   "cell_type": "code",
   "execution_count": 12,
   "metadata": {},
   "outputs": [],
   "source": [
    "# Remove the \"IsTrading\" column\n",
    "df_cryptocompare.drop([\"IsTrading\"],axis=1,inplace=True)"
   ]
  },
  {
   "cell_type": "code",
   "execution_count": 13,
   "metadata": {},
   "outputs": [
    {
     "output_type": "execute_result",
     "data": {
      "text/plain": [
       "            CoinName     Algorithm ProofType       TotalCoinsMined  \\\n",
       "ACT           Achain          DPoS      DPoS            1000000000   \n",
       "BTG     Bitcoin Gold      Equihash       PoW       18729704.860885   \n",
       "ICX     ICON Project     Loopchain       PoS      889168519.418303   \n",
       "DGB         DigiByte      Multiple       PoW    14324667000.795696   \n",
       "YOOSHI        YooShi  BEP-20 Token       N/A  443435939231077.1875   \n",
       "\n",
       "          MaxSupply  \n",
       "ACT               0  \n",
       "BTG        21000000  \n",
       "ICX              -1  \n",
       "DGB     21000000000  \n",
       "YOOSHI           -1  "
      ],
      "text/html": "<div>\n<style scoped>\n    .dataframe tbody tr th:only-of-type {\n        vertical-align: middle;\n    }\n\n    .dataframe tbody tr th {\n        vertical-align: top;\n    }\n\n    .dataframe thead th {\n        text-align: right;\n    }\n</style>\n<table border=\"1\" class=\"dataframe\">\n  <thead>\n    <tr style=\"text-align: right;\">\n      <th></th>\n      <th>CoinName</th>\n      <th>Algorithm</th>\n      <th>ProofType</th>\n      <th>TotalCoinsMined</th>\n      <th>MaxSupply</th>\n    </tr>\n  </thead>\n  <tbody>\n    <tr>\n      <th>ACT</th>\n      <td>Achain</td>\n      <td>DPoS</td>\n      <td>DPoS</td>\n      <td>1000000000</td>\n      <td>0</td>\n    </tr>\n    <tr>\n      <th>BTG</th>\n      <td>Bitcoin Gold</td>\n      <td>Equihash</td>\n      <td>PoW</td>\n      <td>18729704.860885</td>\n      <td>21000000</td>\n    </tr>\n    <tr>\n      <th>ICX</th>\n      <td>ICON Project</td>\n      <td>Loopchain</td>\n      <td>PoS</td>\n      <td>889168519.418303</td>\n      <td>-1</td>\n    </tr>\n    <tr>\n      <th>DGB</th>\n      <td>DigiByte</td>\n      <td>Multiple</td>\n      <td>PoW</td>\n      <td>14324667000.795696</td>\n      <td>21000000000</td>\n    </tr>\n    <tr>\n      <th>YOOSHI</th>\n      <td>YooShi</td>\n      <td>BEP-20 Token</td>\n      <td>N/A</td>\n      <td>443435939231077.1875</td>\n      <td>-1</td>\n    </tr>\n  </tbody>\n</table>\n</div>"
     },
     "metadata": {},
     "execution_count": 13
    }
   ],
   "source": [
    "df_cryptocompare.tail()"
   ]
  },
  {
   "cell_type": "code",
   "execution_count": 14,
   "metadata": {},
   "outputs": [
    {
     "output_type": "execute_result",
     "data": {
      "text/plain": [
       "(285, 5)"
      ]
     },
     "metadata": {},
     "execution_count": 14
    }
   ],
   "source": [
    "# Remove rows with at least 1 null value\n",
    "df_cryptocompare.dropna(axis=\"rows\",inplace=True)\n",
    "df_cryptocompare.shape"
   ]
  },
  {
   "cell_type": "code",
   "execution_count": 15,
   "metadata": {},
   "outputs": [
    {
     "output_type": "execute_result",
     "data": {
      "text/plain": [
       "            CoinName     Algorithm ProofType       TotalCoinsMined  \\\n",
       "ACT           Achain          DPoS      DPoS            1000000000   \n",
       "BTG     Bitcoin Gold      Equihash       PoW       18729704.860885   \n",
       "ICX     ICON Project     Loopchain       PoS      889168519.418303   \n",
       "DGB         DigiByte      Multiple       PoW    14324667000.795696   \n",
       "YOOSHI        YooShi  BEP-20 Token       N/A  443435939231077.1875   \n",
       "\n",
       "          MaxSupply  \n",
       "ACT               0  \n",
       "BTG        21000000  \n",
       "ICX              -1  \n",
       "DGB     21000000000  \n",
       "YOOSHI           -1  "
      ],
      "text/html": "<div>\n<style scoped>\n    .dataframe tbody tr th:only-of-type {\n        vertical-align: middle;\n    }\n\n    .dataframe tbody tr th {\n        vertical-align: top;\n    }\n\n    .dataframe thead th {\n        text-align: right;\n    }\n</style>\n<table border=\"1\" class=\"dataframe\">\n  <thead>\n    <tr style=\"text-align: right;\">\n      <th></th>\n      <th>CoinName</th>\n      <th>Algorithm</th>\n      <th>ProofType</th>\n      <th>TotalCoinsMined</th>\n      <th>MaxSupply</th>\n    </tr>\n  </thead>\n  <tbody>\n    <tr>\n      <th>ACT</th>\n      <td>Achain</td>\n      <td>DPoS</td>\n      <td>DPoS</td>\n      <td>1000000000</td>\n      <td>0</td>\n    </tr>\n    <tr>\n      <th>BTG</th>\n      <td>Bitcoin Gold</td>\n      <td>Equihash</td>\n      <td>PoW</td>\n      <td>18729704.860885</td>\n      <td>21000000</td>\n    </tr>\n    <tr>\n      <th>ICX</th>\n      <td>ICON Project</td>\n      <td>Loopchain</td>\n      <td>PoS</td>\n      <td>889168519.418303</td>\n      <td>-1</td>\n    </tr>\n    <tr>\n      <th>DGB</th>\n      <td>DigiByte</td>\n      <td>Multiple</td>\n      <td>PoW</td>\n      <td>14324667000.795696</td>\n      <td>21000000000</td>\n    </tr>\n    <tr>\n      <th>YOOSHI</th>\n      <td>YooShi</td>\n      <td>BEP-20 Token</td>\n      <td>N/A</td>\n      <td>443435939231077.1875</td>\n      <td>-1</td>\n    </tr>\n  </tbody>\n</table>\n</div>"
     },
     "metadata": {},
     "execution_count": 15
    }
   ],
   "source": [
    "df_cryptocompare.tail()"
   ]
  },
  {
   "cell_type": "code",
   "execution_count": 16,
   "metadata": {},
   "outputs": [
    {
     "output_type": "execute_result",
     "data": {
      "text/plain": [
       "(144, 5)"
      ]
     },
     "metadata": {},
     "execution_count": 16
    }
   ],
   "source": [
    "# Remove rows with cryptocurrencies having no coins mined\n",
    "df_cryptocompare = df_cryptocompare[df_cryptocompare.TotalCoinsMined > 0 ]\n",
    "df_cryptocompare.shape"
   ]
  },
  {
   "cell_type": "code",
   "execution_count": 17,
   "metadata": {},
   "outputs": [
    {
     "output_type": "execute_result",
     "data": {
      "text/plain": [
       "            CoinName     Algorithm ProofType       TotalCoinsMined  \\\n",
       "ACT           Achain          DPoS      DPoS            1000000000   \n",
       "BTG     Bitcoin Gold      Equihash       PoW       18729704.860885   \n",
       "ICX     ICON Project     Loopchain       PoS      889168519.418303   \n",
       "DGB         DigiByte      Multiple       PoW    14324667000.795696   \n",
       "YOOSHI        YooShi  BEP-20 Token       N/A  443435939231077.1875   \n",
       "\n",
       "          MaxSupply  \n",
       "ACT               0  \n",
       "BTG        21000000  \n",
       "ICX              -1  \n",
       "DGB     21000000000  \n",
       "YOOSHI           -1  "
      ],
      "text/html": "<div>\n<style scoped>\n    .dataframe tbody tr th:only-of-type {\n        vertical-align: middle;\n    }\n\n    .dataframe tbody tr th {\n        vertical-align: top;\n    }\n\n    .dataframe thead th {\n        text-align: right;\n    }\n</style>\n<table border=\"1\" class=\"dataframe\">\n  <thead>\n    <tr style=\"text-align: right;\">\n      <th></th>\n      <th>CoinName</th>\n      <th>Algorithm</th>\n      <th>ProofType</th>\n      <th>TotalCoinsMined</th>\n      <th>MaxSupply</th>\n    </tr>\n  </thead>\n  <tbody>\n    <tr>\n      <th>ACT</th>\n      <td>Achain</td>\n      <td>DPoS</td>\n      <td>DPoS</td>\n      <td>1000000000</td>\n      <td>0</td>\n    </tr>\n    <tr>\n      <th>BTG</th>\n      <td>Bitcoin Gold</td>\n      <td>Equihash</td>\n      <td>PoW</td>\n      <td>18729704.860885</td>\n      <td>21000000</td>\n    </tr>\n    <tr>\n      <th>ICX</th>\n      <td>ICON Project</td>\n      <td>Loopchain</td>\n      <td>PoS</td>\n      <td>889168519.418303</td>\n      <td>-1</td>\n    </tr>\n    <tr>\n      <th>DGB</th>\n      <td>DigiByte</td>\n      <td>Multiple</td>\n      <td>PoW</td>\n      <td>14324667000.795696</td>\n      <td>21000000000</td>\n    </tr>\n    <tr>\n      <th>YOOSHI</th>\n      <td>YooShi</td>\n      <td>BEP-20 Token</td>\n      <td>N/A</td>\n      <td>443435939231077.1875</td>\n      <td>-1</td>\n    </tr>\n  </tbody>\n</table>\n</div>"
     },
     "metadata": {},
     "execution_count": 17
    }
   ],
   "source": [
    "df_cryptocompare.tail()"
   ]
  },
  {
   "cell_type": "code",
   "execution_count": 18,
   "metadata": {},
   "outputs": [
    {
     "output_type": "execute_result",
     "data": {
      "text/plain": [
       "(144, 5)"
      ]
     },
     "metadata": {},
     "execution_count": 18
    }
   ],
   "source": [
    "# Drop rows where there are 'N/A' text values\n",
    "df_cryptocompare = df_cryptocompare[df_cryptocompare.iloc[:] != 'N/A']\n",
    "df_cryptocompare.shape"
   ]
  },
  {
   "cell_type": "code",
   "execution_count": 19,
   "metadata": {},
   "outputs": [
    {
     "output_type": "execute_result",
     "data": {
      "text/plain": [
       "            CoinName     Algorithm ProofType       TotalCoinsMined  \\\n",
       "ACT           Achain          DPoS      DPoS            1000000000   \n",
       "BTG     Bitcoin Gold      Equihash       PoW       18729704.860885   \n",
       "ICX     ICON Project     Loopchain       PoS      889168519.418303   \n",
       "DGB         DigiByte      Multiple       PoW    14324667000.795696   \n",
       "YOOSHI        YooShi  BEP-20 Token       NaN  443435939231077.1875   \n",
       "\n",
       "          MaxSupply  \n",
       "ACT               0  \n",
       "BTG        21000000  \n",
       "ICX              -1  \n",
       "DGB     21000000000  \n",
       "YOOSHI           -1  "
      ],
      "text/html": "<div>\n<style scoped>\n    .dataframe tbody tr th:only-of-type {\n        vertical-align: middle;\n    }\n\n    .dataframe tbody tr th {\n        vertical-align: top;\n    }\n\n    .dataframe thead th {\n        text-align: right;\n    }\n</style>\n<table border=\"1\" class=\"dataframe\">\n  <thead>\n    <tr style=\"text-align: right;\">\n      <th></th>\n      <th>CoinName</th>\n      <th>Algorithm</th>\n      <th>ProofType</th>\n      <th>TotalCoinsMined</th>\n      <th>MaxSupply</th>\n    </tr>\n  </thead>\n  <tbody>\n    <tr>\n      <th>ACT</th>\n      <td>Achain</td>\n      <td>DPoS</td>\n      <td>DPoS</td>\n      <td>1000000000</td>\n      <td>0</td>\n    </tr>\n    <tr>\n      <th>BTG</th>\n      <td>Bitcoin Gold</td>\n      <td>Equihash</td>\n      <td>PoW</td>\n      <td>18729704.860885</td>\n      <td>21000000</td>\n    </tr>\n    <tr>\n      <th>ICX</th>\n      <td>ICON Project</td>\n      <td>Loopchain</td>\n      <td>PoS</td>\n      <td>889168519.418303</td>\n      <td>-1</td>\n    </tr>\n    <tr>\n      <th>DGB</th>\n      <td>DigiByte</td>\n      <td>Multiple</td>\n      <td>PoW</td>\n      <td>14324667000.795696</td>\n      <td>21000000000</td>\n    </tr>\n    <tr>\n      <th>YOOSHI</th>\n      <td>YooShi</td>\n      <td>BEP-20 Token</td>\n      <td>NaN</td>\n      <td>443435939231077.1875</td>\n      <td>-1</td>\n    </tr>\n  </tbody>\n</table>\n</div>"
     },
     "metadata": {},
     "execution_count": 19
    }
   ],
   "source": [
    "df_cryptocompare.tail()"
   ]
  },
  {
   "cell_type": "code",
   "execution_count": 20,
   "metadata": {},
   "outputs": [
    {
     "output_type": "execute_result",
     "data": {
      "text/plain": [
       "NVC           NovaCoin\n",
       "XCP       CounterParty\n",
       "NSR           NuShares\n",
       "MONA          MonaCoin\n",
       "TRI     Triangles Coin\n",
       "Name: CoinName, dtype: object"
      ]
     },
     "metadata": {},
     "execution_count": 20
    }
   ],
   "source": [
    "# Store the 'CoinName'column in its own DataFrame prior to dropping it from crypto_df\n",
    "df_coinsname= df_cryptocompare[\"CoinName\"]\n",
    "df_coinsname.head()"
   ]
  },
  {
   "cell_type": "code",
   "execution_count": 21,
   "metadata": {},
   "outputs": [
    {
     "output_type": "execute_result",
     "data": {
      "text/plain": [
       "     Algorithm ProofType  TotalCoinsMined MaxSupply\n",
       "NVC     Scrypt   PoW/PoS    3254038.07424        -1\n",
       "XCP    SHA-256       PoW   2615025.583979        -1\n",
       "NSR        PoS       PoS  6158524533.0671         0\n",
       "MONA    Scrypt       PoW  81732287.471579        -1\n",
       "TRI        X13   PoW/PoS     178912.59513         0"
      ],
      "text/html": "<div>\n<style scoped>\n    .dataframe tbody tr th:only-of-type {\n        vertical-align: middle;\n    }\n\n    .dataframe tbody tr th {\n        vertical-align: top;\n    }\n\n    .dataframe thead th {\n        text-align: right;\n    }\n</style>\n<table border=\"1\" class=\"dataframe\">\n  <thead>\n    <tr style=\"text-align: right;\">\n      <th></th>\n      <th>Algorithm</th>\n      <th>ProofType</th>\n      <th>TotalCoinsMined</th>\n      <th>MaxSupply</th>\n    </tr>\n  </thead>\n  <tbody>\n    <tr>\n      <th>NVC</th>\n      <td>Scrypt</td>\n      <td>PoW/PoS</td>\n      <td>3254038.07424</td>\n      <td>-1</td>\n    </tr>\n    <tr>\n      <th>XCP</th>\n      <td>SHA-256</td>\n      <td>PoW</td>\n      <td>2615025.583979</td>\n      <td>-1</td>\n    </tr>\n    <tr>\n      <th>NSR</th>\n      <td>PoS</td>\n      <td>PoS</td>\n      <td>6158524533.0671</td>\n      <td>0</td>\n    </tr>\n    <tr>\n      <th>MONA</th>\n      <td>Scrypt</td>\n      <td>PoW</td>\n      <td>81732287.471579</td>\n      <td>-1</td>\n    </tr>\n    <tr>\n      <th>TRI</th>\n      <td>X13</td>\n      <td>PoW/PoS</td>\n      <td>178912.59513</td>\n      <td>0</td>\n    </tr>\n  </tbody>\n</table>\n</div>"
     },
     "metadata": {},
     "execution_count": 21
    }
   ],
   "source": [
    "# Drop the 'CoinName' column since it's not going to be used on the clustering algorithm\n",
    "df_cryptocompare.drop(columns=\"CoinName\", axis=1, inplace=True)\n",
    "df_cryptocompare.head()"
   ]
  },
  {
   "cell_type": "code",
   "execution_count": 22,
   "metadata": {},
   "outputs": [
    {
     "output_type": "execute_result",
     "data": {
      "text/plain": [
       "      TotalCoinsMined MaxSupply  Algorithm_BEP-2  Algorithm_BEP-20 Token  \\\n",
       "NVC     3254038.07424        -1                0                       0   \n",
       "XCP    2615025.583979        -1                0                       0   \n",
       "NSR   6158524533.0671         0                0                       0   \n",
       "MONA  81732287.471579        -1                0                       0   \n",
       "TRI      178912.59513         0                0                       0   \n",
       "\n",
       "      Algorithm_BEP2 Token  Algorithm_BEP20 Token  Algorithm_BLAKE256  \\\n",
       "NVC                      0                      0                   0   \n",
       "XCP                      0                      0                   0   \n",
       "NSR                      0                      0                   0   \n",
       "MONA                     0                      0                   0   \n",
       "TRI                      0                      0                   0   \n",
       "\n",
       "      Algorithm_BMW512 / Echo512  Algorithm_Blake2B + SHA3  Algorithm_Blake2b  \\\n",
       "NVC                            0                         0                  0   \n",
       "XCP                            0                         0                  0   \n",
       "NSR                            0                         0                  0   \n",
       "MONA                           0                         0                  0   \n",
       "TRI                            0                         0                  0   \n",
       "\n",
       "      ...  ProofType_PoW/PoS  ProofType_PoW/PoSe  ProofType_PoW/nPoS  \\\n",
       "NVC   ...                  1                   0                   0   \n",
       "XCP   ...                  0                   0                   0   \n",
       "NSR   ...                  0                   0                   0   \n",
       "MONA  ...                  0                   0                   0   \n",
       "TRI   ...                  1                   0                   0   \n",
       "\n",
       "      ProofType_Proof of Authority  ProofType_SPoS  ProofType_TPoS  \\\n",
       "NVC                              0               0               0   \n",
       "XCP                              0               0               0   \n",
       "NSR                              0               0               0   \n",
       "MONA                             0               0               0   \n",
       "TRI                              0               0               0   \n",
       "\n",
       "      ProofType_Zero-Knowledge Proof  ProofType_dPoW  ProofType_dPoW/PoW  \\\n",
       "NVC                                0               0                   0   \n",
       "XCP                                0               0                   0   \n",
       "NSR                                0               0                   0   \n",
       "MONA                               0               0                   0   \n",
       "TRI                                0               0                   0   \n",
       "\n",
       "      ProofType_mPoW  \n",
       "NVC                0  \n",
       "XCP                0  \n",
       "NSR                0  \n",
       "MONA               0  \n",
       "TRI                0  \n",
       "\n",
       "[5 rows x 82 columns]"
      ],
      "text/html": "<div>\n<style scoped>\n    .dataframe tbody tr th:only-of-type {\n        vertical-align: middle;\n    }\n\n    .dataframe tbody tr th {\n        vertical-align: top;\n    }\n\n    .dataframe thead th {\n        text-align: right;\n    }\n</style>\n<table border=\"1\" class=\"dataframe\">\n  <thead>\n    <tr style=\"text-align: right;\">\n      <th></th>\n      <th>TotalCoinsMined</th>\n      <th>MaxSupply</th>\n      <th>Algorithm_BEP-2</th>\n      <th>Algorithm_BEP-20 Token</th>\n      <th>Algorithm_BEP2 Token</th>\n      <th>Algorithm_BEP20 Token</th>\n      <th>Algorithm_BLAKE256</th>\n      <th>Algorithm_BMW512 / Echo512</th>\n      <th>Algorithm_Blake2B + SHA3</th>\n      <th>Algorithm_Blake2b</th>\n      <th>...</th>\n      <th>ProofType_PoW/PoS</th>\n      <th>ProofType_PoW/PoSe</th>\n      <th>ProofType_PoW/nPoS</th>\n      <th>ProofType_Proof of Authority</th>\n      <th>ProofType_SPoS</th>\n      <th>ProofType_TPoS</th>\n      <th>ProofType_Zero-Knowledge Proof</th>\n      <th>ProofType_dPoW</th>\n      <th>ProofType_dPoW/PoW</th>\n      <th>ProofType_mPoW</th>\n    </tr>\n  </thead>\n  <tbody>\n    <tr>\n      <th>NVC</th>\n      <td>3254038.07424</td>\n      <td>-1</td>\n      <td>0</td>\n      <td>0</td>\n      <td>0</td>\n      <td>0</td>\n      <td>0</td>\n      <td>0</td>\n      <td>0</td>\n      <td>0</td>\n      <td>...</td>\n      <td>1</td>\n      <td>0</td>\n      <td>0</td>\n      <td>0</td>\n      <td>0</td>\n      <td>0</td>\n      <td>0</td>\n      <td>0</td>\n      <td>0</td>\n      <td>0</td>\n    </tr>\n    <tr>\n      <th>XCP</th>\n      <td>2615025.583979</td>\n      <td>-1</td>\n      <td>0</td>\n      <td>0</td>\n      <td>0</td>\n      <td>0</td>\n      <td>0</td>\n      <td>0</td>\n      <td>0</td>\n      <td>0</td>\n      <td>...</td>\n      <td>0</td>\n      <td>0</td>\n      <td>0</td>\n      <td>0</td>\n      <td>0</td>\n      <td>0</td>\n      <td>0</td>\n      <td>0</td>\n      <td>0</td>\n      <td>0</td>\n    </tr>\n    <tr>\n      <th>NSR</th>\n      <td>6158524533.0671</td>\n      <td>0</td>\n      <td>0</td>\n      <td>0</td>\n      <td>0</td>\n      <td>0</td>\n      <td>0</td>\n      <td>0</td>\n      <td>0</td>\n      <td>0</td>\n      <td>...</td>\n      <td>0</td>\n      <td>0</td>\n      <td>0</td>\n      <td>0</td>\n      <td>0</td>\n      <td>0</td>\n      <td>0</td>\n      <td>0</td>\n      <td>0</td>\n      <td>0</td>\n    </tr>\n    <tr>\n      <th>MONA</th>\n      <td>81732287.471579</td>\n      <td>-1</td>\n      <td>0</td>\n      <td>0</td>\n      <td>0</td>\n      <td>0</td>\n      <td>0</td>\n      <td>0</td>\n      <td>0</td>\n      <td>0</td>\n      <td>...</td>\n      <td>0</td>\n      <td>0</td>\n      <td>0</td>\n      <td>0</td>\n      <td>0</td>\n      <td>0</td>\n      <td>0</td>\n      <td>0</td>\n      <td>0</td>\n      <td>0</td>\n    </tr>\n    <tr>\n      <th>TRI</th>\n      <td>178912.59513</td>\n      <td>0</td>\n      <td>0</td>\n      <td>0</td>\n      <td>0</td>\n      <td>0</td>\n      <td>0</td>\n      <td>0</td>\n      <td>0</td>\n      <td>0</td>\n      <td>...</td>\n      <td>1</td>\n      <td>0</td>\n      <td>0</td>\n      <td>0</td>\n      <td>0</td>\n      <td>0</td>\n      <td>0</td>\n      <td>0</td>\n      <td>0</td>\n      <td>0</td>\n    </tr>\n  </tbody>\n</table>\n<p>5 rows × 82 columns</p>\n</div>"
     },
     "metadata": {},
     "execution_count": 22
    }
   ],
   "source": [
    "# Create dummy variables for text features\n",
    "X= pd.get_dummies(df_cryptocompare,columns=[\"Algorithm\",\"ProofType\"])\n",
    "X.head()"
   ]
  },
  {
   "cell_type": "code",
   "execution_count": 23,
   "metadata": {},
   "outputs": [
    {
     "output_type": "execute_result",
     "data": {
      "text/plain": [
       "array([[-0.08431186, -0.12921792, -0.14586499, -0.0836242 , -0.0836242 ,\n",
       "        -0.0836242 , -0.11867817, -0.0836242 , -0.0836242 , -0.14586499,\n",
       "        -0.11867817, -0.11867817, -0.0836242 , -0.0836242 , -0.27317918,\n",
       "        -0.11867817, -0.0836242 , -0.0836242 , -0.0836242 , -0.28758784,\n",
       "        -0.0836242 , -0.24253563, -0.0836242 , -0.0836242 , -0.0836242 ,\n",
       "        -0.0836242 , -0.11867817, -0.0836242 , -0.0836242 , -0.0836242 ,\n",
       "        -0.0836242 , -0.0836242 , -0.0836242 , -0.16903085, -0.11867817,\n",
       "        -0.0836242 , -0.0836242 , -0.0836242 , -0.11867817, -0.18966081,\n",
       "        -0.0836242 , -0.14586499, -0.11867817, -0.31501848, -0.11867817,\n",
       "        -0.0836242 , -0.0836242 , -0.0836242 ,  2.56494588, -0.0836242 ,\n",
       "        -0.0836242 , -0.0836242 , -0.0836242 , -0.0836242 , -0.16903085,\n",
       "        -0.0836242 , -0.20851441, -0.0836242 , -0.0836242 , -0.0836242 ,\n",
       "        -0.0836242 , -0.0836242 , -0.24253563, -0.0836242 , -0.0836242 ,\n",
       "        -0.11867817, -0.11867817, -0.0836242 , -0.27317918, -0.0836242 ,\n",
       "        -0.0836242 , -0.83313723,  2.23606798, -0.0836242 , -0.0836242 ,\n",
       "        -0.0836242 , -0.0836242 , -0.0836242 , -0.0836242 , -0.0836242 ,\n",
       "        -0.0836242 , -0.0836242 ],\n",
       "       [-0.08431188, -0.12921792, -0.14586499, -0.0836242 , -0.0836242 ,\n",
       "        -0.0836242 , -0.11867817, -0.0836242 , -0.0836242 , -0.14586499,\n",
       "        -0.11867817, -0.11867817, -0.0836242 , -0.0836242 , -0.27317918,\n",
       "        -0.11867817, -0.0836242 , -0.0836242 , -0.0836242 , -0.28758784,\n",
       "        -0.0836242 , -0.24253563, -0.0836242 , -0.0836242 , -0.0836242 ,\n",
       "        -0.0836242 , -0.11867817, -0.0836242 , -0.0836242 , -0.0836242 ,\n",
       "        -0.0836242 , -0.0836242 , -0.0836242 , -0.16903085, -0.11867817,\n",
       "        -0.0836242 , -0.0836242 , -0.0836242 , -0.11867817, -0.18966081,\n",
       "        -0.0836242 , -0.14586499, -0.11867817,  3.17441697, -0.11867817,\n",
       "        -0.0836242 , -0.0836242 , -0.0836242 , -0.38987177, -0.0836242 ,\n",
       "        -0.0836242 , -0.0836242 , -0.0836242 , -0.0836242 , -0.16903085,\n",
       "        -0.0836242 , -0.20851441, -0.0836242 , -0.0836242 , -0.0836242 ,\n",
       "        -0.0836242 , -0.0836242 , -0.24253563, -0.0836242 , -0.0836242 ,\n",
       "        -0.11867817, -0.11867817, -0.0836242 , -0.27317918, -0.0836242 ,\n",
       "        -0.0836242 ,  1.20028245, -0.4472136 , -0.0836242 , -0.0836242 ,\n",
       "        -0.0836242 , -0.0836242 , -0.0836242 , -0.0836242 , -0.0836242 ,\n",
       "        -0.0836242 , -0.0836242 ],\n",
       "       [-0.0841447 , -0.12921792, -0.14586499, -0.0836242 , -0.0836242 ,\n",
       "        -0.0836242 , -0.11867817, -0.0836242 , -0.0836242 , -0.14586499,\n",
       "        -0.11867817, -0.11867817, -0.0836242 , -0.0836242 , -0.27317918,\n",
       "        -0.11867817, -0.0836242 , -0.0836242 , -0.0836242 , -0.28758784,\n",
       "        -0.0836242 , -0.24253563, -0.0836242 , -0.0836242 , -0.0836242 ,\n",
       "        -0.0836242 , -0.11867817, -0.0836242 , -0.0836242 , -0.0836242 ,\n",
       "        -0.0836242 , -0.0836242 , -0.0836242 , -0.16903085, -0.11867817,\n",
       "        -0.0836242 , -0.0836242 , -0.0836242 , -0.11867817,  5.27257053,\n",
       "        -0.0836242 , -0.14586499, -0.11867817, -0.31501848, -0.11867817,\n",
       "        -0.0836242 , -0.0836242 , -0.0836242 , -0.38987177, -0.0836242 ,\n",
       "        -0.0836242 , -0.0836242 , -0.0836242 , -0.0836242 , -0.16903085,\n",
       "        -0.0836242 , -0.20851441, -0.0836242 , -0.0836242 , -0.0836242 ,\n",
       "        -0.0836242 , -0.0836242 , -0.24253563, -0.0836242 , -0.0836242 ,\n",
       "        -0.11867817, -0.11867817, -0.0836242 ,  3.66060104, -0.0836242 ,\n",
       "        -0.0836242 , -0.83313723, -0.4472136 , -0.0836242 , -0.0836242 ,\n",
       "        -0.0836242 , -0.0836242 , -0.0836242 , -0.0836242 , -0.0836242 ,\n",
       "        -0.0836242 , -0.0836242 ]])"
      ]
     },
     "metadata": {},
     "execution_count": 23
    }
   ],
   "source": [
    "# Standardize data\n",
    "X = StandardScaler().fit_transform(X)\n",
    "X[:3]"
   ]
  },
  {
   "cell_type": "markdown",
   "metadata": {},
   "source": [
    "### Reducing Dimensions Using PCA"
   ]
  },
  {
   "cell_type": "code",
   "execution_count": 24,
   "metadata": {},
   "outputs": [],
   "source": [
    "# Use PCA to reduce dimensions to 3 principal components\n",
    "pca = PCA(n_components=3)\n",
    "principal_components = pca.fit_transform(X)"
   ]
  },
  {
   "cell_type": "code",
   "execution_count": 25,
   "metadata": {},
   "outputs": [
    {
     "output_type": "execute_result",
     "data": {
      "text/plain": [
       "(3, 82)"
      ]
     },
     "metadata": {},
     "execution_count": 25
    }
   ],
   "source": [
    "pca.components_.shape"
   ]
  },
  {
   "cell_type": "code",
   "execution_count": 26,
   "metadata": {},
   "outputs": [
    {
     "output_type": "execute_result",
     "data": {
      "text/plain": [
       "array([[-0.73833363, -0.7514798 ,  0.06511541],\n",
       "       [ 1.82966475,  0.12134861, -0.05015627],\n",
       "       [-1.3522361 , -0.36859789,  0.13292491]])"
      ]
     },
     "metadata": {},
     "execution_count": 26
    }
   ],
   "source": [
    "principal_components[:3]"
   ]
  },
  {
   "source": [
    "Once you have reduced the data dimensions, create a DataFrame named pcs_df using as columns names \"PC 1\", \"PC 2\" and \"PC 3\"; use the crypto_df.index as the index for this new DataFrame."
   ],
   "cell_type": "markdown",
   "metadata": {}
  },
  {
   "cell_type": "code",
   "execution_count": 27,
   "metadata": {},
   "outputs": [
    {
     "output_type": "stream",
     "name": "stdout",
     "text": [
      "(144, 3)\n"
     ]
    },
    {
     "output_type": "execute_result",
     "data": {
      "text/plain": [
       "          PC 1      PC 2      PC 3\n",
       "NVC  -0.738334 -0.751480  0.065115\n",
       "XCP   1.829665  0.121349 -0.050156\n",
       "NSR  -1.352236 -0.368598  0.132925\n",
       "MONA  1.057846 -0.250667 -0.033410\n",
       "TRI  -1.471110 -0.874997  0.112899"
      ],
      "text/html": "<div>\n<style scoped>\n    .dataframe tbody tr th:only-of-type {\n        vertical-align: middle;\n    }\n\n    .dataframe tbody tr th {\n        vertical-align: top;\n    }\n\n    .dataframe thead th {\n        text-align: right;\n    }\n</style>\n<table border=\"1\" class=\"dataframe\">\n  <thead>\n    <tr style=\"text-align: right;\">\n      <th></th>\n      <th>PC 1</th>\n      <th>PC 2</th>\n      <th>PC 3</th>\n    </tr>\n  </thead>\n  <tbody>\n    <tr>\n      <th>NVC</th>\n      <td>-0.738334</td>\n      <td>-0.751480</td>\n      <td>0.065115</td>\n    </tr>\n    <tr>\n      <th>XCP</th>\n      <td>1.829665</td>\n      <td>0.121349</td>\n      <td>-0.050156</td>\n    </tr>\n    <tr>\n      <th>NSR</th>\n      <td>-1.352236</td>\n      <td>-0.368598</td>\n      <td>0.132925</td>\n    </tr>\n    <tr>\n      <th>MONA</th>\n      <td>1.057846</td>\n      <td>-0.250667</td>\n      <td>-0.033410</td>\n    </tr>\n    <tr>\n      <th>TRI</th>\n      <td>-1.471110</td>\n      <td>-0.874997</td>\n      <td>0.112899</td>\n    </tr>\n  </tbody>\n</table>\n</div>"
     },
     "metadata": {},
     "execution_count": 27
    }
   ],
   "source": [
    "# Create a DataFrame with the principal components data\n",
    "df_pcs = pd.DataFrame( principal_components,\n",
    "columns= [f\"PC {i}\" for i in range(1, pca.components_.shape[0] + 1)], index=df_cryptocompare.index)\n",
    "print(df_pcs.shape)\n",
    "df_pcs.head()"
   ]
  },
  {
   "cell_type": "markdown",
   "metadata": {},
   "source": [
    "### Clustering Crytocurrencies Using K-Means\n",
    "\n",
    "#### Find the Best Value for `k` Using the Elbow Curve"
   ]
  },
  {
   "cell_type": "code",
   "execution_count": 28,
   "metadata": {},
   "outputs": [
    {
     "output_type": "execute_result",
     "data": {
      "text/html": "\n<div id=\"altair-viz-7910b85f949a4bc0b62d1d09bae47613\"></div>\n<script type=\"text/javascript\">\n  (function(spec, embedOpt){\n    let outputDiv = document.currentScript.previousElementSibling;\n    if (outputDiv.id !== \"altair-viz-7910b85f949a4bc0b62d1d09bae47613\") {\n      outputDiv = document.getElementById(\"altair-viz-7910b85f949a4bc0b62d1d09bae47613\");\n    }\n    const paths = {\n      \"vega\": \"https://cdn.jsdelivr.net/npm//vega@5?noext\",\n      \"vega-lib\": \"https://cdn.jsdelivr.net/npm//vega-lib?noext\",\n      \"vega-lite\": \"https://cdn.jsdelivr.net/npm//vega-lite@4.8.1?noext\",\n      \"vega-embed\": \"https://cdn.jsdelivr.net/npm//vega-embed@6?noext\",\n    };\n\n    function loadScript(lib) {\n      return new Promise(function(resolve, reject) {\n        var s = document.createElement('script');\n        s.src = paths[lib];\n        s.async = true;\n        s.onload = () => resolve(paths[lib]);\n        s.onerror = () => reject(`Error loading script: ${paths[lib]}`);\n        document.getElementsByTagName(\"head\")[0].appendChild(s);\n      });\n    }\n\n    function showError(err) {\n      outputDiv.innerHTML = `<div class=\"error\" style=\"color:red;\">${err}</div>`;\n      throw err;\n    }\n\n    function displayChart(vegaEmbed) {\n      vegaEmbed(outputDiv, spec, embedOpt)\n        .catch(err => showError(`Javascript Error: ${err.message}<br>This usually means there's a typo in your chart specification. See the javascript console for the full traceback.`));\n    }\n\n    if(typeof define === \"function\" && define.amd) {\n      requirejs.config({paths});\n      require([\"vega-embed\"], displayChart, err => showError(`Error loading script: ${err.message}`));\n    } else if (typeof vegaEmbed === \"function\") {\n      displayChart(vegaEmbed);\n    } else {\n      loadScript(\"vega\")\n        .then(() => loadScript(\"vega-lite\"))\n        .then(() => loadScript(\"vega-embed\"))\n        .catch(showError)\n        .then(() => displayChart(vegaEmbed));\n    }\n  })({\"config\": {\"view\": {\"continuousWidth\": 400, \"continuousHeight\": 300}}, \"data\": {\"name\": \"data-fce825bc6298cc49ef3c17f27e4330f7\"}, \"mark\": \"line\", \"encoding\": {\"x\": {\"type\": \"quantitative\", \"field\": \"k\"}, \"y\": {\"type\": \"quantitative\", \"field\": \"inertia\"}}, \"$schema\": \"https://vega.github.io/schema/vega-lite/v4.8.1.json\", \"datasets\": {\"data-fce825bc6298cc49ef3c17f27e4330f7\": [{\"k\": 1, \"inertia\": 905.1791087538716}, {\"k\": 2, \"inertia\": 617.4044442028268}, {\"k\": 3, \"inertia\": 342.95853532864754}, {\"k\": 4, \"inertia\": 80.48700022979767}, {\"k\": 5, \"inertia\": 48.332942790252375}, {\"k\": 6, \"inertia\": 35.8016094117843}, {\"k\": 7, \"inertia\": 24.75429226050124}, {\"k\": 8, \"inertia\": 20.362458337344872}, {\"k\": 9, \"inertia\": 14.765874593411784}, {\"k\": 10, \"inertia\": 11.201440346420728}]}}, {\"mode\": \"vega-lite\"});\n</script>",
      "text/plain": [
       "alt.Chart(...)"
      ]
     },
     "metadata": {},
     "execution_count": 28
    }
   ],
   "source": [
    "inertia = []\n",
    "# creating 10 possible k values \n",
    "k = list(range(1, 11))\n",
    "\n",
    "# Calculate the inertia for the range of k values\n",
    "for i in k:\n",
    "    km = KMeans(n_clusters=i, random_state=0)\n",
    "    km.fit(df_pcs)\n",
    "    inertia.append(km.inertia_)\n",
    "\n",
    "# Create the Elbow Curve using hvPlot\n",
    "elbow_dict = {\"k\": k, \"inertia\": inertia}\n",
    "df_elbow = pd.DataFrame(elbow_dict)\n",
    "alt.Chart(df_elbow).mark_line().encode(x=\"k\", y=\"inertia\")\n"
   ]
  },
  {
   "cell_type": "markdown",
   "metadata": {},
   "source": [
    "Running K-Means with `k=<your best value for k here>`"
   ]
  },
  {
   "cell_type": "code",
   "execution_count": 29,
   "metadata": {},
   "outputs": [
    {
     "output_type": "execute_result",
     "data": {
      "text/plain": [
       "     Algorithm ProofType  TotalCoinsMined MaxSupply      PC 1      PC 2  \\\n",
       "NVC     Scrypt   PoW/PoS    3254038.07424        -1 -0.738334 -0.751480   \n",
       "XCP    SHA-256       PoW   2615025.583979        -1  1.829665  0.121349   \n",
       "NSR        PoS       PoS  6158524533.0671         0 -1.352236 -0.368598   \n",
       "MONA    Scrypt       PoW  81732287.471579        -1  1.057846 -0.250667   \n",
       "TRI        X13   PoW/PoS     178912.59513         0 -1.471110 -0.874997   \n",
       "\n",
       "          PC 3        CoinName  Class  \n",
       "NVC   0.065115        NovaCoin      0  \n",
       "XCP  -0.050156    CounterParty      2  \n",
       "NSR   0.132925        NuShares      0  \n",
       "MONA -0.033410        MonaCoin      2  \n",
       "TRI   0.112899  Triangles Coin      0  "
      ],
      "text/html": "<div>\n<style scoped>\n    .dataframe tbody tr th:only-of-type {\n        vertical-align: middle;\n    }\n\n    .dataframe tbody tr th {\n        vertical-align: top;\n    }\n\n    .dataframe thead th {\n        text-align: right;\n    }\n</style>\n<table border=\"1\" class=\"dataframe\">\n  <thead>\n    <tr style=\"text-align: right;\">\n      <th></th>\n      <th>Algorithm</th>\n      <th>ProofType</th>\n      <th>TotalCoinsMined</th>\n      <th>MaxSupply</th>\n      <th>PC 1</th>\n      <th>PC 2</th>\n      <th>PC 3</th>\n      <th>CoinName</th>\n      <th>Class</th>\n    </tr>\n  </thead>\n  <tbody>\n    <tr>\n      <th>NVC</th>\n      <td>Scrypt</td>\n      <td>PoW/PoS</td>\n      <td>3254038.07424</td>\n      <td>-1</td>\n      <td>-0.738334</td>\n      <td>-0.751480</td>\n      <td>0.065115</td>\n      <td>NovaCoin</td>\n      <td>0</td>\n    </tr>\n    <tr>\n      <th>XCP</th>\n      <td>SHA-256</td>\n      <td>PoW</td>\n      <td>2615025.583979</td>\n      <td>-1</td>\n      <td>1.829665</td>\n      <td>0.121349</td>\n      <td>-0.050156</td>\n      <td>CounterParty</td>\n      <td>2</td>\n    </tr>\n    <tr>\n      <th>NSR</th>\n      <td>PoS</td>\n      <td>PoS</td>\n      <td>6158524533.0671</td>\n      <td>0</td>\n      <td>-1.352236</td>\n      <td>-0.368598</td>\n      <td>0.132925</td>\n      <td>NuShares</td>\n      <td>0</td>\n    </tr>\n    <tr>\n      <th>MONA</th>\n      <td>Scrypt</td>\n      <td>PoW</td>\n      <td>81732287.471579</td>\n      <td>-1</td>\n      <td>1.057846</td>\n      <td>-0.250667</td>\n      <td>-0.033410</td>\n      <td>MonaCoin</td>\n      <td>2</td>\n    </tr>\n    <tr>\n      <th>TRI</th>\n      <td>X13</td>\n      <td>PoW/PoS</td>\n      <td>178912.59513</td>\n      <td>0</td>\n      <td>-1.471110</td>\n      <td>-0.874997</td>\n      <td>0.112899</td>\n      <td>Triangles Coin</td>\n      <td>0</td>\n    </tr>\n  </tbody>\n</table>\n</div>"
     },
     "metadata": {},
     "execution_count": 29
    }
   ],
   "source": [
    "# Initialize the K-Means model\n",
    "kmodel = KMeans(n_clusters=4, random_state=0)\n",
    "# Fit the model\n",
    "kmodel.fit(df_pcs)\n",
    "# Predict clusters\n",
    "predictions = kmodel.predict(df_pcs)\n",
    "# Create a new DataFrame including predicted clusters and cryptocurrencies features\n",
    "df_crypto_predict = pd.concat([df_cryptocompare, df_pcs], axis=1, sort=False)\n",
    "# add coin name deleted before clustering \n",
    "df_crypto_predict[\"CoinName\"] = df_coinsname.iloc[:]\n",
    "df_crypto_predict[\"Class\"] = kmodel.labels_\n",
    "df_crypto_predict.head()"
   ]
  },
  {
   "cell_type": "markdown",
   "metadata": {},
   "source": [
    "### Visualizing Results\n",
    "\n",
    "#### Scatter with Clusters"
   ]
  },
  {
   "cell_type": "code",
   "execution_count": 30,
   "metadata": {},
   "outputs": [
    {
     "output_type": "execute_result",
     "data": {
      "text/html": "\n<div id=\"altair-viz-555b0d5f4c664e26a9743c2c09580528\"></div>\n<script type=\"text/javascript\">\n  (function(spec, embedOpt){\n    let outputDiv = document.currentScript.previousElementSibling;\n    if (outputDiv.id !== \"altair-viz-555b0d5f4c664e26a9743c2c09580528\") {\n      outputDiv = document.getElementById(\"altair-viz-555b0d5f4c664e26a9743c2c09580528\");\n    }\n    const paths = {\n      \"vega\": \"https://cdn.jsdelivr.net/npm//vega@5?noext\",\n      \"vega-lib\": \"https://cdn.jsdelivr.net/npm//vega-lib?noext\",\n      \"vega-lite\": \"https://cdn.jsdelivr.net/npm//vega-lite@4.8.1?noext\",\n      \"vega-embed\": \"https://cdn.jsdelivr.net/npm//vega-embed@6?noext\",\n    };\n\n    function loadScript(lib) {\n      return new Promise(function(resolve, reject) {\n        var s = document.createElement('script');\n        s.src = paths[lib];\n        s.async = true;\n        s.onload = () => resolve(paths[lib]);\n        s.onerror = () => reject(`Error loading script: ${paths[lib]}`);\n        document.getElementsByTagName(\"head\")[0].appendChild(s);\n      });\n    }\n\n    function showError(err) {\n      outputDiv.innerHTML = `<div class=\"error\" style=\"color:red;\">${err}</div>`;\n      throw err;\n    }\n\n    function displayChart(vegaEmbed) {\n      vegaEmbed(outputDiv, spec, embedOpt)\n        .catch(err => showError(`Javascript Error: ${err.message}<br>This usually means there's a typo in your chart specification. See the javascript console for the full traceback.`));\n    }\n\n    if(typeof define === \"function\" && define.amd) {\n      requirejs.config({paths});\n      require([\"vega-embed\"], displayChart, err => showError(`Error loading script: ${err.message}`));\n    } else if (typeof vegaEmbed === \"function\") {\n      displayChart(vegaEmbed);\n    } else {\n      loadScript(\"vega\")\n        .then(() => loadScript(\"vega-lite\"))\n        .then(() => loadScript(\"vega-embed\"))\n        .catch(showError)\n        .then(() => displayChart(vegaEmbed));\n    }\n  })({\"config\": {\"view\": {\"continuousWidth\": 400, \"continuousHeight\": 300}}, \"data\": {\"name\": \"data-78509248258aee7619c381f1329d537b\"}, \"mark\": {\"type\": \"circle\", \"size\": 60}, \"encoding\": {\"color\": {\"type\": \"quantitative\", \"field\": \"Class\", \"scale\": {\"domain\": [0, 1, 2, 3], \"range\": [\"red\", \"green\", \"blue\", \"orange\"]}}, \"tooltip\": [{\"type\": \"nominal\", \"field\": \"CoinName\"}, {\"type\": \"nominal\", \"field\": \"Algorithm\"}, {\"type\": \"quantitative\", \"field\": \"TotalCoinsMined\"}, {\"type\": \"quantitative\", \"field\": \"MaxSupply\"}], \"x\": {\"type\": \"quantitative\", \"field\": \"PC 1\"}, \"y\": {\"type\": \"quantitative\", \"field\": \"PC 2\"}}, \"selection\": {\"selector001\": {\"type\": \"interval\", \"bind\": \"scales\", \"encodings\": [\"x\", \"y\"]}}, \"$schema\": \"https://vega.github.io/schema/vega-lite/v4.8.1.json\", \"datasets\": {\"data-78509248258aee7619c381f1329d537b\": [{\"Algorithm\": \"Scrypt\", \"ProofType\": \"PoW/PoS\", \"TotalCoinsMined\": 3254038.07424, \"MaxSupply\": -1, \"PC 1\": -0.7383336333062469, \"PC 2\": -0.7514798022842951, \"PC 3\": 0.06511540714682414, \"CoinName\": \"NovaCoin\", \"Class\": 0}, {\"Algorithm\": \"SHA-256\", \"ProofType\": \"PoW\", \"TotalCoinsMined\": 2615025.5839785, \"MaxSupply\": -1, \"PC 1\": 1.8296647530454984, \"PC 2\": 0.12134861197392413, \"PC 3\": -0.05015627368968944, \"CoinName\": \"CounterParty\", \"Class\": 2}, {\"Algorithm\": \"PoS\", \"ProofType\": \"PoS\", \"TotalCoinsMined\": 6158524533.0671, \"MaxSupply\": 0, \"PC 1\": -1.3522360963018658, \"PC 2\": -0.36859789271089366, \"PC 3\": 0.13292490585306602, \"CoinName\": \"NuShares\", \"Class\": 0}, {\"Algorithm\": \"Scrypt\", \"ProofType\": \"PoW\", \"TotalCoinsMined\": 81732287.47157931, \"MaxSupply\": -1, \"PC 1\": 1.0578464313467788, \"PC 2\": -0.25066693300398746, \"PC 3\": -0.03341006746462999, \"CoinName\": \"MonaCoin\", \"Class\": 2}, {\"Algorithm\": \"X13\", \"ProofType\": \"PoW/PoS\", \"TotalCoinsMined\": 178912.59513, \"MaxSupply\": 0, \"PC 1\": -1.4711104837453208, \"PC 2\": -0.8749973356018215, \"PC 3\": 0.11289883595881361, \"CoinName\": \"Triangles Coin\", \"Class\": 0}, {\"Algorithm\": \"SHA-256\", \"ProofType\": \"PoW/PoS\", \"TotalCoinsMined\": 47444129.697603, \"MaxSupply\": -1, \"PC 1\": 0.03348439654317789, \"PC 2\": -0.379464267764824, \"PC 3\": 0.04836942938721978, \"CoinName\": \"Emercoin\", \"Class\": 0}, {\"Algorithm\": \"Scrypt\", \"ProofType\": \"PoC\", \"TotalCoinsMined\": 2147483647, \"MaxSupply\": -1, \"PC 1\": -0.5078625437386608, \"PC 2\": -0.52548471614137, \"PC 3\": 0.036035780618950644, \"CoinName\": \"SafeExchangeCoin\", \"Class\": 0}, {\"Algorithm\": \"Scrypt\", \"ProofType\": \"PoW\", \"TotalCoinsMined\": 872830, \"MaxSupply\": 0, \"PC 1\": 1.0578466227300747, \"PC 2\": -0.25066692614423586, \"PC 3\": -0.03341021728174786, \"CoinName\": \"CometCoin\", \"Class\": 2}, {\"Algorithm\": \"X11\", \"ProofType\": \"TPoS\", \"TotalCoinsMined\": 120256219.1329657, \"MaxSupply\": -1, \"PC 1\": -0.811046196638309, \"PC 2\": -0.5074639241467492, \"PC 3\": 0.039202180002351206, \"CoinName\": \"Stakenet\", \"Class\": 0}, {\"Algorithm\": \"Scrypt\", \"ProofType\": \"PoW/PoS\", \"TotalCoinsMined\": 1000000000, \"MaxSupply\": -1, \"PC 1\": -0.7383359924485804, \"PC 2\": -0.7514798868243043, \"PC 3\": 0.06511725393060255, \"CoinName\": \"OpenChat\", \"Class\": 0}, {\"Algorithm\": \"RandomX\", \"ProofType\": \"PoW\", \"TotalCoinsMined\": 74003580.7520097, \"MaxSupply\": 105000000, \"PC 1\": 1.8022879760454587, \"PC 2\": 0.023734497673034306, \"PC 3\": -0.08552257410642425, \"CoinName\": \"Quantum Resistant Ledger\", \"Class\": 2}, {\"Algorithm\": \"Dagger\", \"ProofType\": \"PoA\", \"TotalCoinsMined\": 720594084, \"MaxSupply\": -1, \"PC 1\": -2.108156991574869, \"PC 2\": 5.750012054346476, \"PC 3\": -7.535646892830639, \"CoinName\": \"Amber\", \"Class\": 3}, {\"Algorithm\": \"Equihash\", \"ProofType\": \"PoW\", \"TotalCoinsMined\": 9431921862.7422, \"MaxSupply\": 21000000000, \"PC 1\": 1.5440022103396525, \"PC 2\": -0.013814596535938639, \"PC 3\": -0.06805143316051071, \"CoinName\": \"BitcoinZ\", \"Class\": 2}, {\"Algorithm\": \"X11\", \"ProofType\": \"PoW\", \"TotalCoinsMined\": 188358976.83969808, \"MaxSupply\": -1, \"PC 1\": 0.7652302211688663, \"PC 2\": -0.2405290910912535, \"PC 3\": -0.02696224769998853, \"CoinName\": \"Pura\", \"Class\": 2}, {\"Algorithm\": \"SHA-256\", \"ProofType\": \"PoW\", \"TotalCoinsMined\": 21000000, \"MaxSupply\": 21000000, \"PC 1\": 1.829697501535817, \"PC 2\": 0.12138166668454321, \"PC 3\": -0.050149423161015165, \"CoinName\": \"UnitedBitcoin\", \"Class\": 2}, {\"Algorithm\": \"Equihash\", \"ProofType\": \"PoW\", \"TotalCoinsMined\": 3818878.3878015447, \"MaxSupply\": 22873588, \"PC 1\": 1.5112682397112023, \"PC 2\": -0.046834059769448974, \"PC 3\": -0.07487794148296185, \"CoinName\": \"Bitcoin Private\", \"Class\": 2}, {\"Algorithm\": \"Ethash\", \"ProofType\": \"PoW\", \"TotalCoinsMined\": 2970596149.669318, \"MaxSupply\": 6500000000, \"PC 1\": 1.4059994038877033, \"PC 2\": -0.03592498175549253, \"PC 3\": -0.06072985447380436, \"CoinName\": \"Callisto Network\", \"Class\": 2}, {\"Algorithm\": \"IMesh\", \"ProofType\": \"PoW\", \"TotalCoinsMined\": 25000000, \"MaxSupply\": 0, \"PC 1\": 1.3452165307052895, \"PC 2\": 0.01847256987316068, \"PC 3\": -0.0769257803174298, \"CoinName\": \"Aidos Kuneen\", \"Class\": 2}, {\"Algorithm\": \"SHA-512\", \"ProofType\": \"Zero-Knowledge Proof\", \"TotalCoinsMined\": 1000000000, \"MaxSupply\": -1, \"PC 1\": -2.323962056950779, \"PC 2\": -0.3269204380403823, \"PC 3\": 0.27755224393829164, \"CoinName\": \"Kcash\", \"Class\": 0}, {\"Algorithm\": \"Dagger\", \"ProofType\": \" PoW/PoS/PoA\", \"TotalCoinsMined\": 62319462900, \"MaxSupply\": 70000000000, \"PC 1\": -1.8592864162045912, \"PC 2\": 6.0116991929607515, \"PC 3\": -7.439762313969928, \"CoinName\": \"DAPS Coin\", \"Class\": 3}, {\"Algorithm\": \"X13\", \"ProofType\": null, \"TotalCoinsMined\": 1500000000, \"MaxSupply\": 1502169571, \"PC 1\": -0.8827392818439539, \"PC 2\": -0.3876352691883523, \"PC 3\": 0.06148853865664, \"CoinName\": \"ABBC Coin\", \"Class\": 0}, {\"Algorithm\": \"Equihash\", \"ProofType\": \"PoW\", \"TotalCoinsMined\": 69527581.68901487, \"MaxSupply\": 262800000, \"PC 1\": 1.5116427350296258, \"PC 2\": -0.04645639525364894, \"PC 3\": -0.07479994117258491, \"CoinName\": \"Beam\", \"Class\": 2}, {\"Algorithm\": \"SPoS\", \"ProofType\": \"SPoS\", \"TotalCoinsMined\": 5841068200, \"MaxSupply\": -1, \"PC 1\": -2.3399072464327535, \"PC 2\": -0.3917241697591239, \"PC 3\": 1.279920725931236, \"CoinName\": \"V Systems\", \"Class\": 0}, {\"Algorithm\": \"SHA-256\", \"ProofType\": null, \"TotalCoinsMined\": 92534448.8161, \"MaxSupply\": 100000000, \"PC 1\": 0.619669520187705, \"PC 2\": 0.10569075566984205, \"PC 3\": -0.0034986984493421006, \"CoinName\": \"Foin\", \"Class\": 2}, {\"Algorithm\": \"CryptoNight\", \"ProofType\": \"PoW\", \"TotalCoinsMined\": 1400222610, \"MaxSupply\": -1, \"PC 1\": 1.9219196216364594, \"PC 2\": 0.16770442444170644, \"PC 3\": -0.055225610449542877, \"CoinName\": \"Beldex\", \"Class\": 2}, {\"Algorithm\": \"Eaglesong\", \"ProofType\": \"PoW\", \"TotalCoinsMined\": 32154447717.187862, \"MaxSupply\": -1, \"PC 1\": 1.7914741747319427, \"PC 2\": 0.02331970373817616, \"PC 3\": -0.0848564083592857, \"CoinName\": \"Nervos Network\", \"Class\": 2}, {\"Algorithm\": \"NEP-5\", \"ProofType\": null, \"TotalCoinsMined\": 40000000000, \"MaxSupply\": 40000000000, \"PC 1\": -0.3284388506075384, \"PC 2\": 0.08619372337813337, \"PC 3\": 0.027686400110259874, \"CoinName\": \"Nevula\", \"Class\": 0}, {\"Algorithm\": \"X16RT\", \"ProofType\": \"PoW/PoS\", \"TotalCoinsMined\": 110327523.90719739, \"MaxSupply\": 300000000, \"PC 1\": -1.4817909549376995, \"PC 2\": -0.9671583478245338, \"PC 3\": 0.11165442209473456, \"CoinName\": \"VEIL\", \"Class\": 0}, {\"Algorithm\": \"Blake2B + SHA3\", \"ProofType\": \"PoW\", \"TotalCoinsMined\": 387077363.009687, \"MaxSupply\": 2040000000, \"PC 1\": 1.7974181004729353, \"PC 2\": 0.029681948588155788, \"PC 3\": -0.08365355782953544, \"CoinName\": \"Handshake\", \"Class\": 2}, {\"Algorithm\": \"C31\", \"ProofType\": \"PoW\", \"TotalCoinsMined\": 10734636.1069404, \"MaxSupply\": 20000000, \"PC 1\": 1.8021000920985528, \"PC 2\": 0.02353424835662577, \"PC 3\": -0.08556419647224121, \"CoinName\": \"MimbleWimbleCoin\", \"Class\": 2}, {\"Algorithm\": \"X16R\", \"ProofType\": \"PoW\", \"TotalCoinsMined\": 8785710000, \"MaxSupply\": 21000000000, \"PC 1\": 1.8513515486662544, \"PC 2\": 0.08876241714051578, \"PC 3\": -0.07135243504044933, \"CoinName\": \"Ravencoin Classic\", \"Class\": 2}, {\"Algorithm\": \"ECC 256K1\", \"ProofType\": \"DPOS\", \"TotalCoinsMined\": 1000000000, \"MaxSupply\": -1, \"PC 1\": -2.3397893079114094, \"PC 2\": -0.3916842895540789, \"PC 3\": 1.2770612858887236, \"CoinName\": \"Acute Angle Cloud\", \"Class\": 0}, {\"Algorithm\": \"Scrypt\", \"ProofType\": \"PoW\", \"TotalCoinsMined\": 100000000, \"MaxSupply\": -1, \"PC 1\": 1.0578463881099514, \"PC 2\": -0.25066693455338024, \"PC 3\": -0.03341003361797625, \"CoinName\": \"Primas\", \"Class\": 2}, {\"Algorithm\": \"BEP20 Token\", \"ProofType\": null, \"TotalCoinsMined\": 1000000000, \"MaxSupply\": -1, \"PC 1\": -0.4143762214654497, \"PC 2\": -0.007983240445932254, \"PC 3\": 0.007986809558318687, \"CoinName\": \"Alpha Finance Lab\", \"Class\": 0}, {\"Algorithm\": \"Scrypt\", \"ProofType\": \"PoW/PoS\", \"TotalCoinsMined\": 19269809.99295899, \"MaxSupply\": 21000000, \"PC 1\": -0.7383008792083856, \"PC 2\": -0.7514467473727291, \"PC 3\": 0.06512225328580863, \"CoinName\": \"Auroracoin\", \"Class\": 0}, {\"Algorithm\": \"IMesh\", \"ProofType\": \"DPoS+dBFT\", \"TotalCoinsMined\": 503230816.32641166, \"MaxSupply\": 1000000000, \"PC 1\": 0.24905510743847967, \"PC 2\": 0.008376512497364624, \"PC 3\": -0.05976323538796176, \"CoinName\": \"INT\", \"Class\": 2}, {\"Algorithm\": \"HEX\", \"ProofType\": \"PoW/PoS\", \"TotalCoinsMined\": 8830765, \"MaxSupply\": 0, \"PC 1\": -1.4826444677282686, \"PC 2\": -0.9680931706359084, \"PC 3\": 0.11145990004285548, \"CoinName\": \"XDNA\", \"Class\": 0}, {\"Algorithm\": \"BEP2 Token\", \"ProofType\": null, \"TotalCoinsMined\": 1000000000, \"MaxSupply\": -1, \"PC 1\": -0.41437622146544856, \"PC 2\": -0.007983240445932497, \"PC 3\": 0.007986809558320145, \"CoinName\": \"Swingby\", \"Class\": 0}, {\"Algorithm\": \"SHA-256\", \"ProofType\": \"PoW\", \"TotalCoinsMined\": 1000016730264.435, \"MaxSupply\": 1000016730264.435, \"PC 1\": 3.388847958992461, \"PC 2\": 1.6953981483900176, \"PC 3\": 0.2762955402147812, \"CoinName\": \"Wibcoin\", \"Class\": 2}, {\"Algorithm\": \"Multiple\", \"ProofType\": null, \"TotalCoinsMined\": 85056346011.83401, \"MaxSupply\": -1, \"PC 1\": 0.36704674180482766, \"PC 2\": 0.019064162550207587, \"PC 3\": -0.02473537338630586, \"CoinName\": \"Revain\", \"Class\": 2}, {\"Algorithm\": \"BEP-2\", \"ProofType\": null, \"TotalCoinsMined\": 3492642215.1356096, \"MaxSupply\": -1, \"PC 1\": -0.5456659925957367, \"PC 2\": -0.01206527877579844, \"PC 3\": 0.012253719920427408, \"CoinName\": \"Red Pulse Phoenix Binance\", \"Class\": 0}, {\"Algorithm\": \"POS 3.0\", \"ProofType\": \"PoS\", \"TotalCoinsMined\": 21880393, \"MaxSupply\": 25000000, \"PC 1\": -1.8558801952539552, \"PC 2\": -0.48404090006440537, \"PC 3\": 0.1846377237026743, \"CoinName\": \"TokenPay\", \"Class\": 0}, {\"Algorithm\": \"CryptoNight-Heavy\", \"ProofType\": \"PoW\", \"TotalCoinsMined\": 15070363.436854115, \"MaxSupply\": -1, \"PC 1\": 1.7916128407390395, \"PC 2\": 0.023325100045742654, \"PC 3\": -0.0849751324472834, \"CoinName\": \"Haven Protocol\", \"Class\": 2}, {\"Algorithm\": \"Ethash\", \"ProofType\": \"PoW\", \"TotalCoinsMined\": 223967918.95, \"MaxSupply\": -1, \"PC 1\": 1.395855998994988, \"PC 2\": -0.046156450918454855, \"PC 3\": -0.0628448015003921, \"CoinName\": \"EtherZero\", \"Class\": 2}, {\"Algorithm\": \"SHA-256\", \"ProofType\": \"PoW\", \"TotalCoinsMined\": 18732814.64678941, \"MaxSupply\": 20999999.9769, \"PC 1\": 1.8296975069018542, \"PC 2\": 0.12138166687680069, \"PC 3\": -0.050149427361693436, \"CoinName\": \"Bitcoin ABC\", \"Class\": 2}, {\"Algorithm\": \"NRC20 Token\", \"ProofType\": null, \"TotalCoinsMined\": 1991703920.6544197, \"MaxSupply\": 10000000000, \"PC 1\": -0.385915476841951, \"PC 2\": 0.02317792148063587, \"PC 3\": 0.01446204358363934, \"CoinName\": \"NextDAO\", \"Class\": 0}, {\"Algorithm\": \"Quark\", \"ProofType\": \"PoW/PoS\", \"TotalCoinsMined\": 269148702.03298014, \"MaxSupply\": -1, \"PC 1\": -1.500155616285175, \"PC 2\": -0.9817346927680745, \"PC 3\": 0.11305414842893331, \"CoinName\": \"QuarkCoin\", \"Class\": 0}, {\"Algorithm\": \"Scrypt\", \"ProofType\": null, \"TotalCoinsMined\": 20000000, \"MaxSupply\": -1, \"PC 1\": -0.15230459497248158, \"PC 2\": -0.2664821872489863, \"PC 3\": 0.013214767438714529, \"CoinName\": \"United Emirates Coin\", \"Class\": 0}, {\"Algorithm\": \"CryptoNight-Lite\", \"ProofType\": \"PoW\", \"TotalCoinsMined\": 17857770.884147216, \"MaxSupply\": -1, \"PC 1\": 1.7916128287127124, \"PC 2\": 0.023325099577730383, \"PC 3\": -0.08497512215049274, \"CoinName\": \"AEON\", \"Class\": 2}, {\"Algorithm\": \"Multiple\", \"ProofType\": \"PoW\", \"TotalCoinsMined\": 1776257418.3471327, \"MaxSupply\": -1, \"PC 1\": 1.5773950252240672, \"PC 2\": 0.034886485515357196, \"PC 3\": -0.07151462509053526, \"CoinName\": \"Circuits of Value\", \"Class\": 2}, {\"Algorithm\": \"Equihash\", \"ProofType\": \"mPoW\", \"TotalCoinsMined\": 35406500, \"MaxSupply\": 84096000, \"PC 1\": 0.5490804952385613, \"PC 2\": -0.12383095920605049, \"PC 3\": -0.056289551476506085, \"CoinName\": \"TENT\", \"Class\": 2}, {\"Algorithm\": \"GO20\", \"ProofType\": null, \"TotalCoinsMined\": 747243485211.3625, \"MaxSupply\": -1, \"PC 1\": -0.4175959043882672, \"PC 2\": -0.008108537190868882, \"PC 3\": 0.010743461506807996, \"CoinName\": \"ECOMI\", \"Class\": 0}, {\"Algorithm\": \"DPoS\", \"ProofType\": \"PoS\", \"TotalCoinsMined\": 178144443.41, \"MaxSupply\": -1, \"PC 1\": -1.8628504886276716, \"PC 2\": -0.3816821358491368, \"PC 3\": 0.18885137252697037, \"CoinName\": \"Rise\", \"Class\": 0}, {\"Algorithm\": \"DPoS\", \"ProofType\": \"DPoS\", \"TotalCoinsMined\": 1122382283.37, \"MaxSupply\": -1, \"PC 1\": -2.093348082002162, \"PC 2\": -0.3030139536634532, \"PC 3\": 0.22170565038934342, \"CoinName\": \"Oxycoin\", \"Class\": 0}, {\"Algorithm\": \"TRC10\", \"ProofType\": \"DPoS\", \"TotalCoinsMined\": 989988496319.4324, \"MaxSupply\": -1, \"PC 1\": -2.269691172299943, \"PC 2\": -0.32527694119098544, \"PC 3\": 0.2524724534153634, \"CoinName\": \"BitTorrent\", \"Class\": 0}, {\"Algorithm\": \"BEP-2\", \"ProofType\": null, \"TotalCoinsMined\": 672118157.8222682, \"MaxSupply\": -1, \"PC 1\": -0.5456593168549162, \"PC 2\": -0.012065039550220107, \"PC 3\": 0.012248494017068822, \"CoinName\": \"BakeryTokeN\", \"Class\": 0}, {\"Algorithm\": \"NEP-5\", \"ProofType\": null, \"TotalCoinsMined\": 10000000000, \"MaxSupply\": -1, \"PC 1\": -0.3908288036362619, \"PC 2\": 0.023231947121795594, \"PC 3\": 0.014647073950323641, \"CoinName\": \"DeepBrain Chain\", \"Class\": 0}, {\"Algorithm\": \"PoS\", \"ProofType\": \"PoS\", \"TotalCoinsMined\": 1000000000, \"MaxSupply\": -1, \"PC 1\": -1.3522238868798842, \"PC 2\": -0.36859745518703435, \"PC 3\": 0.13291534807193833, \"CoinName\": \"Anchor Protocol\", \"Class\": 0}, {\"Algorithm\": \"Blake2b\", \"ProofType\": null, \"TotalCoinsMined\": 10000000000, \"MaxSupply\": -1, \"PC 1\": 0.26198840728645406, \"PC 2\": 0.0025951008255775485, \"PC 3\": -0.023607829059568118, \"CoinName\": \"Yee\", \"Class\": 2}, {\"Algorithm\": \"SHA-256\", \"ProofType\": \"PoW\", \"TotalCoinsMined\": 64201359.69262023, \"MaxSupply\": 66000000, \"PC 1\": 1.829767667863077, \"PC 2\": 0.12145249788120337, \"PC 3\": -0.05013473640748501, \"CoinName\": \"Arweave\", \"Class\": 2}, {\"Algorithm\": \"SPL Token\", \"ProofType\": \"PoH\", \"TotalCoinsMined\": 75000000, \"MaxSupply\": 10000000000, \"PC 1\": -2.179038058748192, \"PC 2\": 1.1372015940350217, \"PC 3\": 2.311295112857102, \"CoinName\": \"MAPS\", \"Class\": 0}, {\"Algorithm\": \"DPoS\", \"ProofType\": null, \"TotalCoinsMined\": 203610958.80345434, \"MaxSupply\": -1, \"PC 1\": -1.0779047215229047, \"PC 2\": -0.14281750542936059, \"PC 3\": 0.10091008114594897, \"CoinName\": \"Tenset\", \"Class\": 0}, {\"Algorithm\": \"Scrypt\", \"ProofType\": \"PoW\", \"TotalCoinsMined\": 39500766.86809969, \"MaxSupply\": 42000000, \"PC 1\": 1.0579121153100373, \"PC 2\": -0.25060081688373126, \"PC 3\": -0.033396512782550125, \"CoinName\": \"MegaCoin\", \"Class\": 2}, {\"Algorithm\": \"Equihash\", \"ProofType\": \"dPoW\", \"TotalCoinsMined\": 181585327.64477, \"MaxSupply\": 200000000, \"PC 1\": 0.5494097855536013, \"PC 2\": -0.12346981148888064, \"PC 3\": -0.05621400339407271, \"CoinName\": \"Pirate Chain\", \"Class\": 2}, {\"Algorithm\": \"Equihash\", \"ProofType\": \"PoW\", \"TotalCoinsMined\": 30886000, \"MaxSupply\": 0, \"PC 1\": 1.511232457991859, \"PC 2\": -0.04687006756345323, \"PC 3\": -0.07488531595165049, \"CoinName\": \"Bithereum\", \"Class\": 2}, {\"Algorithm\": \"Leased POS\", \"ProofType\": \"LPoS\", \"TotalCoinsMined\": 105150250, \"MaxSupply\": -1, \"PC 1\": -2.339767507504571, \"PC 2\": -0.39167691787724335, \"PC 3\": 1.2765327312175414, \"CoinName\": \"Waves\", \"Class\": 0}, {\"Algorithm\": \"Equihash\", \"ProofType\": \"PoW\", \"TotalCoinsMined\": 11100637.5, \"MaxSupply\": 21000000, \"PC 1\": 1.5112652968238633, \"PC 2\": -0.046837009616952294, \"PC 3\": -0.07487853614579469, \"CoinName\": \"Horizen\", \"Class\": 2}, {\"Algorithm\": \"C31\", \"ProofType\": \"PoW\", \"TotalCoinsMined\": 68433315.50249997, \"MaxSupply\": -1, \"PC 1\": 1.8020687250540348, \"PC 2\": 0.02350276130091224, \"PC 3\": -0.08557058143859426, \"CoinName\": \"Grin\", \"Class\": 2}, {\"Algorithm\": \"Ethash\", \"ProofType\": \"PoW/PoS\", \"TotalCoinsMined\": 10000000000, \"MaxSupply\": -1, \"PC 1\": -0.40034738974802003, \"PC 2\": -0.5469701560189442, \"PC 3\": 0.035698931674931246, \"CoinName\": \"BeforeCoinMarketCap\", \"Class\": 0}, {\"Algorithm\": \"Equihash\", \"ProofType\": \"PoW/PoS\", \"TotalCoinsMined\": 440000000, \"MaxSupply\": 210000000, \"PC 1\": -0.28462084068467886, \"PC 2\": -0.5473524155155307, \"PC 3\": 0.02370922672131986, \"CoinName\": \"Zelcash\", \"Class\": 0}, {\"Algorithm\": \"SHA-256\", \"ProofType\": \"PoW\", \"TotalCoinsMined\": 1574.3405203602172, \"MaxSupply\": 21000000, \"PC 1\": 1.8296975512358173, \"PC 2\": 0.12138166846554593, \"PC 3\": -0.0501494620671699, \"CoinName\": \"Smart Bitcoin\", \"Class\": 2}, {\"Algorithm\": \"DPoS\", \"ProofType\": null, \"TotalCoinsMined\": 3723328685.446701, \"MaxSupply\": -1, \"PC 1\": -1.0779130521461644, \"PC 2\": -0.14281780395775034, \"PC 3\": 0.10091660252435992, \"CoinName\": \"Worldwide Asset eXchange\", \"Class\": 0}, {\"Algorithm\": \"DPoS\", \"ProofType\": \"DPoS\", \"TotalCoinsMined\": 14838303, \"MaxSupply\": -1, \"PC 1\": -2.0933454606181883, \"PC 2\": -0.3030138597259992, \"PC 3\": 0.2217035983175693, \"CoinName\": \"Shift\", \"Class\": 0}, {\"Algorithm\": \"Scrypt\", \"ProofType\": \"PoW/PoS\", \"TotalCoinsMined\": 1032774.54981111, \"MaxSupply\": -1, \"PC 1\": -0.7383336280488608, \"PC 2\": -0.7514798020958964, \"PC 3\": 0.06511540303123893, \"CoinName\": \"SaluS\", \"Class\": 0}, {\"Algorithm\": \"KAWPOW\", \"ProofType\": null, \"TotalCoinsMined\": 8968354397.773466, \"MaxSupply\": 21000000000, \"PC 1\": -0.35463405206200604, \"PC 2\": 0.05745421135518184, \"PC 3\": 0.021606543292826647, \"CoinName\": \"Ravencoin\", \"Class\": 0}, {\"Algorithm\": \"Scrypt\", \"ProofType\": \"PoW/PoS\", \"TotalCoinsMined\": 226184910.63495135, \"MaxSupply\": 420000000, \"PC 1\": -0.7376783208846243, \"PC 2\": -0.7508186958231104, \"PC 3\": 0.0652521494849579, \"CoinName\": \"PotCoin\", \"Class\": 0}, {\"Algorithm\": \"PoS\", \"ProofType\": \"PoS/LPoS\", \"TotalCoinsMined\": 998999927.9376907, \"MaxSupply\": 1000000000, \"PC 1\": -1.031244780739977, \"PC 2\": -0.2537053205789441, \"PC 3\": 0.09031390252212879, \"CoinName\": \"Nxt\", \"Class\": 0}, {\"Algorithm\": \"SHA-256\", \"ProofType\": \"PoW\", \"TotalCoinsMined\": 17498487.5, \"MaxSupply\": -1, \"PC 1\": 1.8296647178186545, \"PC 2\": 0.12134861071156788, \"PC 3\": -0.050156246113418596, \"CoinName\": \"Namecoin\", \"Class\": 2}, {\"Algorithm\": \"RandomX\", \"ProofType\": \"PoW\", \"TotalCoinsMined\": 17913482.659280334, \"MaxSupply\": -1, \"PC 1\": 1.802124148784744, \"PC 2\": 0.023569221086869593, \"PC 3\": -0.08555676035336077, \"CoinName\": \"Monero\", \"Class\": 2}, {\"Algorithm\": \"Scrypt\", \"ProofType\": \"PoW\", \"TotalCoinsMined\": 67691458.23347135, \"MaxSupply\": 84000000, \"PC 1\": 1.0579776325933334, \"PC 2\": -0.2505347067379813, \"PC 3\": -0.033382827621612224, \"CoinName\": \"Litecoin\", \"Class\": 2}, {\"Algorithm\": \"Ethash\", \"ProofType\": \"PoW\", \"TotalCoinsMined\": 115948713.31150001, \"MaxSupply\": -1, \"PC 1\": 1.39585625465961, \"PC 2\": -0.046156441756697156, \"PC 3\": -0.06284500163976968, \"CoinName\": \"Ethereum\", \"Class\": 2}, {\"Algorithm\": \"CryptoNight\", \"ProofType\": \"PoW\", \"TotalCoinsMined\": 184467440737.09552, \"MaxSupply\": 184470000000, \"PC 1\": 2.209540654742673, \"PC 2\": 0.4580646035625166, \"PC 3\": 0.004991349973959001, \"CoinName\": \"ByteCoin\", \"Class\": 2}, {\"Algorithm\": \"Quark\", \"ProofType\": \"PoW/PoS\", \"TotalCoinsMined\": 7699952.86531109, \"MaxSupply\": -1, \"PC 1\": -1.5001549974767365, \"PC 2\": -0.9817346705930368, \"PC 3\": 0.11305366401331791, \"CoinName\": \"BlockNet\", \"Class\": 0}, {\"Algorithm\": \"SHA-256\", \"ProofType\": \"PoW\", \"TotalCoinsMined\": 18713700, \"MaxSupply\": 20999999.9769, \"PC 1\": 1.829697506947096, \"PC 2\": 0.1213816668784222, \"PC 3\": -0.0501494273971094, \"CoinName\": \"Bitcoin\", \"Class\": 2}, {\"Algorithm\": \"BEP-2\", \"ProofType\": \"PoSA\", \"TotalCoinsMined\": 169433763.9, \"MaxSupply\": -1, \"PC 1\": -0.9946803082866902, \"PC 2\": -0.023884087179469767, \"PC 3\": 0.024418528362336007, \"CoinName\": \"Binance Coin\", \"Class\": 0}, {\"Algorithm\": \"HRC-20 Token\", \"ProofType\": null, \"TotalCoinsMined\": 100000000, \"MaxSupply\": -1, \"PC 1\": -0.414372338396867, \"PC 2\": -0.007983089332960441, \"PC 3\": 0.00798348492393035, \"CoinName\": \"WeStarter\", \"Class\": 0}, {\"Algorithm\": \"Equihash\", \"ProofType\": \"PoW\", \"TotalCoinsMined\": 11112917.90842859, \"MaxSupply\": 21000000, \"PC 1\": 1.5112652967947964, \"PC 2\": -0.0468370096179935, \"PC 3\": -0.07487853612304159, \"CoinName\": \"ZCash\", \"Class\": 2}, {\"Algorithm\": \"Scrypt\", \"ProofType\": \"PoW/PoS\", \"TotalCoinsMined\": 923975800, \"MaxSupply\": 1000000000, \"PC 1\": -0.7367742885508065, \"PC 2\": -0.749905772356289, \"PC 3\": 0.06544170661662255, \"CoinName\": \"WhiteCoin\", \"Class\": 0}, {\"Algorithm\": \"Ethash\", \"ProofType\": null, \"TotalCoinsMined\": 26878827.155190237, \"MaxSupply\": -1, \"PC 1\": 0.18570529304418384, \"PC 2\": -0.06197169368303168, \"PC 3\": -0.016220217387881194, \"CoinName\": \"Waltonchain\", \"Class\": 2}, {\"Algorithm\": \"Scrypt\", \"ProofType\": \"PoW\", \"TotalCoinsMined\": 23174187.873363193, \"MaxSupply\": -1, \"PC 1\": 1.0578465699446746, \"PC 2\": -0.25066692803732177, \"PC 3\": -0.033410175961832114, \"CoinName\": \"ViaCoin\", \"Class\": 2}, {\"Algorithm\": \"Lyra2REv2\", \"ProofType\": \"PoW\", \"TotalCoinsMined\": 60093898.81663466, \"MaxSupply\": 84000000, \"PC 1\": 1.7918517526830335, \"PC 2\": 0.023586847648102715, \"PC 3\": -0.08492060493466258, \"CoinName\": \"Vertcoin\", \"Class\": 2}, {\"Algorithm\": \"Multiple\", \"ProofType\": \"PoW\", \"TotalCoinsMined\": 16453906744.459188, \"MaxSupply\": 16555000000, \"PC 1\": 1.6032113146550124, \"PC 2\": 0.06094459886151958, \"PC 3\": -0.06611378402605683, \"CoinName\": \"Verge\", \"Class\": 2}, {\"Algorithm\": \"VeChainThor Authority\", \"ProofType\": \"Proof of Authority\", \"TotalCoinsMined\": 85985041177, \"MaxSupply\": 86712634466, \"PC 1\": -0.9481386963920829, \"PC 2\": 12.86492181246227, \"PC 3\": 10.300110446810656, \"CoinName\": \"VeChain\", \"Class\": 1}, {\"Algorithm\": \"Dagger-Hashimoto\", \"ProofType\": \"PoW\", \"TotalCoinsMined\": 50909516.603966296, \"MaxSupply\": -1, \"PC 1\": 1.7916126861102732, \"PC 2\": 0.023325094028232386, \"PC 3\": -0.08497500005608061, \"CoinName\": \"Ubiq\", \"Class\": 2}, {\"Algorithm\": \"SHA-256\", \"ProofType\": \"PoW\", \"TotalCoinsMined\": 612271296.4289129, \"MaxSupply\": 888000000, \"PC 1\": 1.8310499433610796, \"PC 2\": 0.12274636818720343, \"PC 3\": -0.04986690504300886, \"CoinName\": \"SysCoin\", \"Class\": 2}, {\"Algorithm\": \"X13\", \"ProofType\": \"PoS\", \"TotalCoinsMined\": 131416802, \"MaxSupply\": -1, \"PC 1\": -1.6700275437777057, \"PC 2\": -0.6288643628585783, \"PC 3\": 0.14893974694820708, \"CoinName\": \"Stratis\", \"Class\": 0}, {\"Algorithm\": \"PoS\", \"ProofType\": \"PoW\", \"TotalCoinsMined\": 383150103.988, \"MaxSupply\": -1, \"PC 1\": 0.6428745729176782, \"PC 2\": -0.11391751080766097, \"PC 3\": -0.0016520826829388173, \"CoinName\": \"Steem\", \"Class\": 2}, {\"Algorithm\": \"KECCAK\", \"ProofType\": \"PoW\", \"TotalCoinsMined\": 2662003260.561149, \"MaxSupply\": 5000000000, \"PC 1\": 1.8058339321691, \"PC 2\": 0.03890531983699312, \"PC 3\": -0.08172956925912656, \"CoinName\": \"SmartCash\", \"Class\": 2}, {\"Algorithm\": \"X11GOST\", \"ProofType\": \"PoW\", \"TotalCoinsMined\": 19173765.76936104, \"MaxSupply\": 21000000, \"PC 1\": 1.7916725995867018, \"PC 2\": 0.0233905381495954, \"PC 3\": -0.08496152699018225, \"CoinName\": \"SibCoin\", \"Class\": 2}, {\"Algorithm\": \"Blake2b\", \"ProofType\": \"PoW\", \"TotalCoinsMined\": 47815702992, \"MaxSupply\": -1, \"PC 1\": 1.4720500758415693, \"PC 2\": 0.018407152929676644, \"PC 3\": -0.07016271291894313, \"CoinName\": \"Siacoin\", \"Class\": 2}, {\"Algorithm\": \"Scrypt\", \"ProofType\": \"PoW/PoS\", \"TotalCoinsMined\": 30194502072.25483, \"MaxSupply\": -1, \"PC 1\": -0.7384050912845925, \"PC 2\": -0.7514823629852853, \"PC 3\": 0.06517134588066652, \"CoinName\": \"Reddcoin\", \"Class\": 0}, {\"Algorithm\": \"POS 3.0\", \"ProofType\": \"PoS\", \"TotalCoinsMined\": 103414218, \"MaxSupply\": 107822402.25, \"PC 1\": -1.855751059066373, \"PC 2\": -0.48391053557229563, \"PC 3\": 0.18466475838669244, \"CoinName\": \"QTUM\", \"Class\": 0}, {\"Algorithm\": \"Proof-of-Authority\", \"ProofType\": \"PoA\", \"TotalCoinsMined\": 287710731.24143845, \"MaxSupply\": -1, \"PC 1\": -2.199057137105872, \"PC 2\": 5.581265014750301, \"PC 3\": -7.530890411802509, \"CoinName\": \"Poa Network\", \"Class\": 3}, {\"Algorithm\": \"Quark\", \"ProofType\": \"PoW/PoS\", \"TotalCoinsMined\": 66061930.24243663, \"MaxSupply\": -1, \"PC 1\": -1.5001551356104408, \"PC 2\": -0.981734675543067, \"PC 3\": 0.11305377214714235, \"CoinName\": \"Private Instant Verified Transaction\", \"Class\": 0}, {\"Algorithm\": \"VBFT\", \"ProofType\": \"PoS\", \"TotalCoinsMined\": 1000000000, \"MaxSupply\": -1, \"PC 1\": -1.8452541261818742, \"PC 2\": -0.48084400858685056, \"PC 3\": 0.18331949685668586, \"CoinName\": \"Ontology\", \"Class\": 0}, {\"Algorithm\": \"SHA3\", \"ProofType\": \"PoW/nPoS\", \"TotalCoinsMined\": 70576516.887703, \"MaxSupply\": 78000000, \"PC 1\": -2.3385129812293353, \"PC 2\": -0.3797513824551777, \"PC 3\": 1.2845835953789886, \"CoinName\": \"Nexus\", \"Class\": 0}, {\"Algorithm\": \"dBFT2.0\", \"ProofType\": null, \"TotalCoinsMined\": 100000000, \"MaxSupply\": 100000000, \"PC 1\": -0.41408768816054314, \"PC 2\": -0.0076714760455056825, \"PC 3\": 0.008048200630904317, \"CoinName\": \"NEO\", \"Class\": 0}, {\"Algorithm\": \"PoS\", \"ProofType\": null, \"TotalCoinsMined\": 17886325.805876568, \"MaxSupply\": -1, \"PC 1\": -0.5672757349898547, \"PC 2\": -0.1297327393083332, \"PC 3\": 0.04497218983334401, \"CoinName\": \"Neblio\", \"Class\": 0}, {\"Algorithm\": \"X13\", \"ProofType\": \"PoW/PoS\", \"TotalCoinsMined\": 71717748.82744475, \"MaxSupply\": -1, \"PC 1\": -1.4711106530681581, \"PC 2\": -0.8749973416710338, \"PC 3\": 0.112898968506566, \"CoinName\": \"NavCoin\", \"Class\": 0}, {\"Algorithm\": \"Blake2b\", \"ProofType\": \"PoW\", \"TotalCoinsMined\": 133248290, \"MaxSupply\": 133248290, \"PC 1\": 1.4723710031787023, \"PC 2\": 0.018620944368206636, \"PC 3\": -0.07020780805109687, \"CoinName\": \"Nano\", \"Class\": 2}, {\"Algorithm\": \"Ethash\", \"ProofType\": null, \"TotalCoinsMined\": 80352601.48674873, \"MaxSupply\": 100000000, \"PC 1\": 0.1858613188775347, \"PC 2\": -0.061814287415052134, \"PC 3\": -0.01618765895622611, \"CoinName\": \"Metaverse\", \"Class\": 2}, {\"Algorithm\": \"DPoS\", \"ProofType\": \"DPoS\", \"TotalCoinsMined\": 144021692, \"MaxSupply\": -1, \"PC 1\": -2.0933457663751343, \"PC 2\": -0.30301387068281765, \"PC 3\": 0.22170383767021842, \"CoinName\": \"Lisk\", \"Class\": 0}, {\"Algorithm\": \"Equihash\", \"ProofType\": \"dPoW/PoW\", \"TotalCoinsMined\": 127845633.90573388, \"MaxSupply\": 200000000, \"PC 1\": 0.5494100174146193, \"PC 2\": -0.12346980246580837, \"PC 3\": -0.05621420191055545, \"CoinName\": \"Komodo\", \"Class\": 2}, {\"Algorithm\": \"X11\", \"ProofType\": \"PoW/PoS\", \"TotalCoinsMined\": 18877343.97434563, \"MaxSupply\": 22000000, \"PC 1\": -1.0309152745646806, \"PC 2\": -0.7413073222750408, \"PC 3\": 0.07157019935752604, \"CoinName\": \"IOCoin\", \"Class\": 0}, {\"Algorithm\": \"BLAKE256\", \"ProofType\": \"PoW/PoS\", \"TotalCoinsMined\": 45071909.329052, \"MaxSupply\": 84000000, \"PC 1\": -1.4910872057034086, \"PC 2\": -0.974603854730868, \"PC 3\": 0.11228996185438705, \"CoinName\": \"HyperCash\", \"Class\": 0}, {\"Algorithm\": \"DPoS\", \"ProofType\": null, \"TotalCoinsMined\": 88904754.71849898, \"MaxSupply\": 100000000, \"PC 1\": -1.0777482976337591, \"PC 2\": -0.1426600848970275, \"PC 3\": 0.10094232797157067, \"CoinName\": \"High Performance Blockchain\", \"Class\": 0}, {\"Algorithm\": \"Scrypt\", \"ProofType\": \"PoW\", \"TotalCoinsMined\": 537044745.4665133, \"MaxSupply\": 1680000000, \"PC 1\": 1.0604687139454718, \"PC 2\": -0.2480224701493302, \"PC 3\": -0.03286390670106022, \"CoinName\": \"Gulden\", \"Class\": 2}, {\"Algorithm\": \"Groestl\", \"ProofType\": \"PoW\", \"TotalCoinsMined\": 77584958.8873888, \"MaxSupply\": 105000000, \"PC 1\": 1.7919114537665237, \"PC 2\": 0.023652283501007582, \"PC 3\": -0.08490695002369116, \"CoinName\": \"Groestlcoin\", \"Class\": 2}, {\"Algorithm\": \"MTP\", \"ProofType\": \"PoW\", \"TotalCoinsMined\": 11879475.70589338, \"MaxSupply\": 21400000, \"PC 1\": 1.7916737696590015, \"PC 2\": 0.023391785827468325, \"PC 3\": -0.08496129507274387, \"CoinName\": \"Firo\", \"Class\": 2}, {\"Algorithm\": \"NeoScrypt\", \"ProofType\": \"PoW\", \"TotalCoinsMined\": 243224038.00773004, \"MaxSupply\": 336000000, \"PC 1\": 1.7925682811526291, \"PC 2\": 0.02437208237647983, \"PC 3\": -0.08475684486499233, \"CoinName\": \"FeatherCoin\", \"Class\": 2}, {\"Algorithm\": \"Ethash\", \"ProofType\": \"PoW\", \"TotalCoinsMined\": 34700351.97, \"MaxSupply\": 100000000, \"PC 1\": 1.3960125993592583, \"PC 2\": -0.04599902406212505, \"PC 3\": -0.06281269282302578, \"CoinName\": \"Expanse\", \"Class\": 2}, {\"Algorithm\": \"Ethash\", \"ProofType\": \"PoW\", \"TotalCoinsMined\": 127667335.42877105, \"MaxSupply\": 210700000, \"PC 1\": 1.396185240023136, \"PC 2\": -0.045824778189579335, \"PC 3\": -0.06277658806724332, \"CoinName\": \"Ethereum Classic\", \"Class\": 2}, {\"Algorithm\": \"DPoS\", \"ProofType\": \"DPoS\", \"TotalCoinsMined\": 1029701801.1791, \"MaxSupply\": -1, \"PC 1\": -2.0933478626419073, \"PC 2\": -0.3030139458026648, \"PC 3\": 0.22170547866974993, \"CoinName\": \"EOS\", \"Class\": 0}, {\"Algorithm\": \"Scrypt\", \"ProofType\": \"PoW\", \"TotalCoinsMined\": 221659866.49999905, \"MaxSupply\": -1, \"PC 1\": 1.0578461001600103, \"PC 2\": -0.2506669448720837, \"PC 3\": -0.03340980820500622, \"CoinName\": \"Einsteinium\", \"Class\": 2}, {\"Algorithm\": \"Scrypt\", \"ProofType\": \"PoW\", \"TotalCoinsMined\": 129539506383.70422, \"MaxSupply\": -1, \"PC 1\": 1.0575400249733922, \"PC 2\": -0.2506779130949718, \"PC 3\": -0.033170206430706096, \"CoinName\": \"Dogecoin\", \"Class\": 2}, {\"Algorithm\": \"BMW512 / Echo512\", \"ProofType\": \"PoW/PoS\", \"TotalCoinsMined\": 5042066640.365834, \"MaxSupply\": -1, \"PC 1\": -1.4826661837312078, \"PC 2\": -0.9680940157359437, \"PC 3\": 0.11147849300785156, \"CoinName\": \"DigitalNote\", \"Class\": 0}, {\"Algorithm\": \"BLAKE256\", \"ProofType\": \"PoW/PoS\", \"TotalCoinsMined\": 12943046.68688761, \"MaxSupply\": 21000000, \"PC 1\": -1.4911855056688013, \"PC 2\": -0.9747030208109833, \"PC 3\": 0.11226945293232377, \"CoinName\": \"Decred\", \"Class\": 0}, {\"Algorithm\": \"X11\", \"ProofType\": \"PoW/PoSe\", \"TotalCoinsMined\": 10144063.42557962, \"MaxSupply\": 18900000, \"PC 1\": -0.8109919226601663, \"PC 2\": -0.5074050107446993, \"PC 3\": 0.03921400451298224, \"CoinName\": \"Dash\", \"Class\": 0}, {\"Algorithm\": \"X13\", \"ProofType\": \"PoW/PoS\", \"TotalCoinsMined\": 5644364.70731235, \"MaxSupply\": -1, \"PC 1\": -1.4711104966827573, \"PC 2\": -0.874997336066954, \"PC 3\": 0.11289884608494745, \"CoinName\": \"CloakCoin\", \"Class\": 0}, {\"Algorithm\": \"Ouroboros\", \"ProofType\": \"PoS\", \"TotalCoinsMined\": 32109714760.12439, \"MaxSupply\": 45000000000, \"PC 1\": -1.7172957446210058, \"PC 2\": -0.3406232540553939, \"PC 3\": 0.21255648517859652, \"CoinName\": \"Cardano\", \"Class\": 0}, {\"Algorithm\": \"Tensority\", \"ProofType\": \"PoW\", \"TotalCoinsMined\": 1678342912.5, \"MaxSupply\": 210000000, \"PC 1\": 1.7922034300084375, \"PC 2\": 0.023979208677017038, \"PC 3\": -0.08483308527100329, \"CoinName\": \"Bytom\", \"Class\": 2}, {\"Algorithm\": \"Shabal256\", \"ProofType\": \"PoC\", \"TotalCoinsMined\": 2111830238, \"MaxSupply\": 2158812800, \"PC 1\": -1.056373429192231, \"PC 2\": -0.5139820361403855, \"PC 3\": 0.054879451172177476, \"CoinName\": \"BurstCoin\", \"Class\": 0}, {\"Algorithm\": \"Scrypt\", \"ProofType\": \"PoS\", \"TotalCoinsMined\": 60669291.34647821, \"MaxSupply\": 100000000, \"PC 1\": -0.9370943662129546, \"PC 2\": -0.5051894124747254, \"PC 3\": 0.10118864071176771, \"CoinName\": \"BlackCoin\", \"Class\": 0}, {\"Algorithm\": \"SHA-512\", \"ProofType\": \"DPoS\", \"TotalCoinsMined\": 2994900734.38869, \"MaxSupply\": 3600570502, \"PC 1\": -2.284694232914955, \"PC 2\": -0.3196720312695544, \"PC 3\": 0.26117772491393637, \"CoinName\": \"Bitshares\", \"Class\": 0}, {\"Algorithm\": \"SHA-256\", \"ProofType\": \"PoW\", \"TotalCoinsMined\": 18737545.39423905, \"MaxSupply\": 20999999.9769, \"PC 1\": 1.8296975068906576, \"PC 2\": 0.12138166687639963, \"PC 3\": -0.05014942735292867, \"CoinName\": \"Bitcoin SV\", \"Class\": 2}, {\"Algorithm\": \"X13\", \"ProofType\": \"PoW/PoS\", \"TotalCoinsMined\": 200224750, \"MaxSupply\": 210000000, \"PC 1\": -1.4707830371912942, \"PC 2\": -0.8746667898850518, \"PC 3\": 0.11296737125062682, \"CoinName\": \"Bitcoin Diamond\", \"Class\": 0}, {\"Algorithm\": \"SHA-256\", \"ProofType\": \"PoW\", \"TotalCoinsMined\": 18741649.89678946, \"MaxSupply\": 20999999.9769, \"PC 1\": 1.8296975068809433, \"PC 2\": 0.12138166687605134, \"PC 3\": -0.050149427345323544, \"CoinName\": \"Bitcoin Cash\", \"Class\": 2}, {\"Algorithm\": \"DPoS\", \"ProofType\": \"DPoS\", \"TotalCoinsMined\": 157389470.00000003, \"MaxSupply\": -1, \"PC 1\": -2.0933457980145818, \"PC 2\": -0.30301387181661993, \"PC 3\": 0.2217038624382098, \"CoinName\": \"ARK\", \"Class\": 0}, {\"Algorithm\": \"Equihash210,9\", \"ProofType\": \"PoW/PoS\", \"TotalCoinsMined\": 492427074, \"MaxSupply\": -1, \"PC 1\": -1.4826465542173743, \"PC 2\": -0.9680932518364386, \"PC 3\": 0.11146168646545179, \"CoinName\": \"Aion\", \"Class\": 0}, {\"Algorithm\": \"DPoS\", \"ProofType\": \"DPoS\", \"TotalCoinsMined\": 1000000000, \"MaxSupply\": 0, \"PC 1\": -2.0933477923408126, \"PC 2\": -0.303013943281903, \"PC 3\": 0.22170542363819543, \"CoinName\": \"Achain\", \"Class\": 0}, {\"Algorithm\": \"Equihash\", \"ProofType\": \"PoW\", \"TotalCoinsMined\": 18729704.860885046, \"MaxSupply\": 21000000, \"PC 1\": 1.5112652787670489, \"PC 2\": -0.04683701026401923, \"PC 3\": -0.07487852201056036, \"CoinName\": \"Bitcoin Gold\", \"Class\": 2}, {\"Algorithm\": \"Loopchain\", \"ProofType\": \"PoS\", \"TotalCoinsMined\": 889168519.4183025, \"MaxSupply\": -1, \"PC 1\": -1.8452536479971635, \"PC 2\": -0.48084398997787997, \"PC 3\": 0.18331908744096143, \"CoinName\": \"ICON Project\", \"Class\": 0}, {\"Algorithm\": \"Multiple\", \"ProofType\": \"PoW\", \"TotalCoinsMined\": 14324667000.795696, \"MaxSupply\": 21000000000, \"PC 1\": 1.6101573282303914, \"PC 2\": 0.06794168959678602, \"PC 3\": -0.0646749108044427, \"CoinName\": \"DigiByte\", \"Class\": 2}, {\"Algorithm\": \"BEP-20 Token\", \"ProofType\": null, \"TotalCoinsMined\": 443435939231077.2, \"MaxSupply\": -1, \"PC 1\": -2.327585421301802, \"PC 2\": -0.08243743077244112, \"PC 3\": 1.646052418818496, \"CoinName\": \"YooShi\", \"Class\": 0}]}}, {\"mode\": \"vega-lite\"});\n</script>",
      "text/plain": [
       "alt.Chart(...)"
      ]
     },
     "metadata": {},
     "execution_count": 30
    }
   ],
   "source": [
    "# Create a Scatter with the PCA data and the clusters\n",
    "alt.Chart(df_crypto_predict).mark_circle(size=60).encode(\n",
    "    x=\"PC 1\",\n",
    "    y=\"PC 2\",\n",
    "    color=alt.Color(\n",
    "        \"Class\",\n",
    "        scale=alt.Scale(domain=[0, 1, 2, 3], range=[\"red\", \"green\", \"blue\", \"orange\"]),\n",
    "    ),\n",
    "    tooltip=[\"CoinName\", \"Algorithm\", \"TotalCoinsMined\", \"MaxSupply\"],\n",
    ").interactive()"
   ]
  },
  {
   "source": [],
   "cell_type": "markdown",
   "metadata": {}
  },
  {
   "cell_type": "code",
   "execution_count": 31,
   "metadata": {},
   "outputs": [
    {
     "output_type": "stream",
     "name": "stdout",
     "text": [
      "There total number of tradable cryptocurrencies are 144\n"
     ]
    }
   ],
   "source": [
    "# Print the total number of tradable cryptocurrencies\n",
    "print(f\"There total number of tradable cryptocurrencies are {df_crypto_predict.shape[0]}\")"
   ]
  },
  {
   "cell_type": "markdown",
   "metadata": {},
   "source": [
    "#### Scatter Plot with Tradable Cryptocurrencies"
   ]
  },
  {
   "cell_type": "code",
   "execution_count": 32,
   "metadata": {},
   "outputs": [
    {
     "output_type": "execute_result",
     "data": {
      "text/plain": [
       "         MaxSupply  TotalCoinsMined        CoinName  Class\n",
       "NVC   0.000000e+00     7.334687e-09        NovaCoin      0\n",
       "XCP   0.000000e+00     5.893639e-09    CounterParty      2\n",
       "NSR   9.999833e-13     1.388819e-05        NuShares      0\n",
       "MONA  0.000000e+00     1.843123e-07        MonaCoin      2\n",
       "TRI   9.999833e-13     3.999185e-10  Triangles Coin      0"
      ],
      "text/html": "<div>\n<style scoped>\n    .dataframe tbody tr th:only-of-type {\n        vertical-align: middle;\n    }\n\n    .dataframe tbody tr th {\n        vertical-align: top;\n    }\n\n    .dataframe thead th {\n        text-align: right;\n    }\n</style>\n<table border=\"1\" class=\"dataframe\">\n  <thead>\n    <tr style=\"text-align: right;\">\n      <th></th>\n      <th>MaxSupply</th>\n      <th>TotalCoinsMined</th>\n      <th>CoinName</th>\n      <th>Class</th>\n    </tr>\n  </thead>\n  <tbody>\n    <tr>\n      <th>NVC</th>\n      <td>0.000000e+00</td>\n      <td>7.334687e-09</td>\n      <td>NovaCoin</td>\n      <td>0</td>\n    </tr>\n    <tr>\n      <th>XCP</th>\n      <td>0.000000e+00</td>\n      <td>5.893639e-09</td>\n      <td>CounterParty</td>\n      <td>2</td>\n    </tr>\n    <tr>\n      <th>NSR</th>\n      <td>9.999833e-13</td>\n      <td>1.388819e-05</td>\n      <td>NuShares</td>\n      <td>0</td>\n    </tr>\n    <tr>\n      <th>MONA</th>\n      <td>0.000000e+00</td>\n      <td>1.843123e-07</td>\n      <td>MonaCoin</td>\n      <td>2</td>\n    </tr>\n    <tr>\n      <th>TRI</th>\n      <td>9.999833e-13</td>\n      <td>3.999185e-10</td>\n      <td>Triangles Coin</td>\n      <td>0</td>\n    </tr>\n  </tbody>\n</table>\n</div>"
     },
     "metadata": {},
     "execution_count": 32
    }
   ],
   "source": [
    "# Scale data to create the scatter plot\n",
    "mm_scaler = MinMaxScaler()\n",
    "scaled = mm_scaler.fit_transform(\n",
    "    df_crypto_predict[[\"MaxSupply\", \"TotalCoinsMined\"]]\n",
    ")\n",
    "scaled_df = pd.DataFrame(\n",
    "    scaled, columns=[\"MaxSupply\", \"TotalCoinsMined\"], index=df_crypto_predict.index\n",
    ")\n",
    "scaled_df[\"CoinName\"] = df_crypto_predict[\"CoinName\"]\n",
    "scaled_df[\"Class\"] = df_crypto_predict[\"Class\"]\n",
    "scaled_df.head()"
   ]
  },
  {
   "cell_type": "code",
   "execution_count": 33,
   "metadata": {},
   "outputs": [
    {
     "output_type": "execute_result",
     "data": {
      "text/html": "\n<div id=\"altair-viz-d3df25748b37468782d5f7ddc06cd053\"></div>\n<script type=\"text/javascript\">\n  (function(spec, embedOpt){\n    let outputDiv = document.currentScript.previousElementSibling;\n    if (outputDiv.id !== \"altair-viz-d3df25748b37468782d5f7ddc06cd053\") {\n      outputDiv = document.getElementById(\"altair-viz-d3df25748b37468782d5f7ddc06cd053\");\n    }\n    const paths = {\n      \"vega\": \"https://cdn.jsdelivr.net/npm//vega@5?noext\",\n      \"vega-lib\": \"https://cdn.jsdelivr.net/npm//vega-lib?noext\",\n      \"vega-lite\": \"https://cdn.jsdelivr.net/npm//vega-lite@4.8.1?noext\",\n      \"vega-embed\": \"https://cdn.jsdelivr.net/npm//vega-embed@6?noext\",\n    };\n\n    function loadScript(lib) {\n      return new Promise(function(resolve, reject) {\n        var s = document.createElement('script');\n        s.src = paths[lib];\n        s.async = true;\n        s.onload = () => resolve(paths[lib]);\n        s.onerror = () => reject(`Error loading script: ${paths[lib]}`);\n        document.getElementsByTagName(\"head\")[0].appendChild(s);\n      });\n    }\n\n    function showError(err) {\n      outputDiv.innerHTML = `<div class=\"error\" style=\"color:red;\">${err}</div>`;\n      throw err;\n    }\n\n    function displayChart(vegaEmbed) {\n      vegaEmbed(outputDiv, spec, embedOpt)\n        .catch(err => showError(`Javascript Error: ${err.message}<br>This usually means there's a typo in your chart specification. See the javascript console for the full traceback.`));\n    }\n\n    if(typeof define === \"function\" && define.amd) {\n      requirejs.config({paths});\n      require([\"vega-embed\"], displayChart, err => showError(`Error loading script: ${err.message}`));\n    } else if (typeof vegaEmbed === \"function\") {\n      displayChart(vegaEmbed);\n    } else {\n      loadScript(\"vega\")\n        .then(() => loadScript(\"vega-lite\"))\n        .then(() => loadScript(\"vega-embed\"))\n        .catch(showError)\n        .then(() => displayChart(vegaEmbed));\n    }\n  })({\"config\": {\"view\": {\"continuousWidth\": 400, \"continuousHeight\": 300}}, \"data\": {\"name\": \"data-e731b4019038cefc88e7abbcdede5421\"}, \"mark\": {\"type\": \"circle\", \"size\": 100}, \"encoding\": {\"color\": {\"type\": \"quantitative\", \"field\": \"Class\", \"scale\": {\"domain\": [0.0, 3.0], \"range\": [\"#203B57\", \"#2387EF\", \"#98EF23\", \"#8914EE\", \"#F20535\"]}}, \"tooltip\": [{\"type\": \"nominal\", \"field\": \"CoinName\"}, {\"type\": \"quantitative\", \"field\": \"TotalCoinsMined\"}, {\"type\": \"quantitative\", \"field\": \"MaxSupply\"}], \"x\": {\"type\": \"quantitative\", \"field\": \"TotalCoinsMined\", \"scale\": {\"domain\": [-0.1, 1.1]}}, \"y\": {\"type\": \"quantitative\", \"field\": \"MaxSupply\", \"scale\": {\"domain\": [-0.1, 1.1000000000000003]}}}, \"selection\": {\"selector002\": {\"type\": \"interval\", \"bind\": \"scales\", \"encodings\": [\"x\", \"y\"]}}, \"$schema\": \"https://vega.github.io/schema/vega-lite/v4.8.1.json\", \"datasets\": {\"data-e731b4019038cefc88e7abbcdede5421\": [{\"MaxSupply\": 0.0, \"TotalCoinsMined\": 7.334686808135117e-09, \"CoinName\": \"NovaCoin\", \"Class\": 0}, {\"MaxSupply\": 0.0, \"TotalCoinsMined\": 5.89363877000852e-09, \"CoinName\": \"CounterParty\", \"Class\": 2}, {\"MaxSupply\": 9.999832700144621e-13, \"TotalCoinsMined\": 1.3888190861181418e-05, \"CoinName\": \"NuShares\", \"Class\": 0}, {\"MaxSupply\": 0.0, \"TotalCoinsMined\": 1.8431233443340448e-07, \"CoinName\": \"MonaCoin\", \"Class\": 2}, {\"MaxSupply\": 9.999832700144621e-13, \"TotalCoinsMined\": 3.999185427274476e-10, \"CoinName\": \"Triangles Coin\", \"Class\": 0}, {\"MaxSupply\": 0.0, \"TotalCoinsMined\": 1.0698852113682303e-07, \"CoinName\": \"Emercoin\", \"Class\": 0}, {\"MaxSupply\": 0.0, \"TotalCoinsMined\": 4.84282369261919e-06, \"CoinName\": \"SafeExchangeCoin\", \"Class\": 0}, {\"MaxSupply\": 9.999832700144621e-13, \"TotalCoinsMined\": 1.9647835964615317e-09, \"CoinName\": \"CometCoin\", \"Class\": 2}, {\"MaxSupply\": 0.0, \"TotalCoinsMined\": 2.7118831414836413e-07, \"CoinName\": \"Stakenet\", \"Class\": 0}, {\"MaxSupply\": 0.0, \"TotalCoinsMined\": 2.255113618884925e-06, \"CoinName\": \"OpenChat\", \"Class\": 0}, {\"MaxSupply\": 0.00010499824435150179, \"TotalCoinsMined\": 1.6688319521433554e-07, \"CoinName\": \"Quantum Resistant Ledger\", \"Class\": 2}, {\"MaxSupply\": 0.0, \"TotalCoinsMined\": 1.6250205405352423e-06, \"CoinName\": \"Amber\", \"Class\": 3}, {\"MaxSupply\": 0.02099964867130369, \"TotalCoinsMined\": 2.1270085380968942e-05, \"CoinName\": \"BitcoinZ\", \"Class\": 2}, {\"MaxSupply\": 0.0, \"TotalCoinsMined\": 4.2476801232317854e-07, \"CoinName\": \"Pura\", \"Class\": 2}, {\"MaxSupply\": 2.0999649670286972e-05, \"TotalCoinsMined\": 4.735391023101487e-08, \"CoinName\": \"UnitedBitcoin\", \"Class\": 2}, {\"MaxSupply\": 2.287320632518683e-05, \"TotalCoinsMined\": 8.608467897108169e-09, \"CoinName\": \"Bitcoin Private\", \"Class\": 2}, {\"MaxSupply\": 0.006499891256093987, \"TotalCoinsMined\": 6.699038829577928e-06, \"CoinName\": \"Callisto Network\", \"Class\": 2}, {\"MaxSupply\": 9.999832700144621e-13, \"TotalCoinsMined\": 5.637437890784392e-08, \"CoinName\": \"Aidos Kuneen\", \"Class\": 2}, {\"MaxSupply\": 0.0, \"TotalCoinsMined\": 2.255113618884925e-06, \"CoinName\": \"Kcash\", \"Class\": 0}, {\"MaxSupply\": 0.06999882890201232, \"TotalCoinsMined\": 0.00014053768721124268, \"CoinName\": \"DAPS Coin\", \"Class\": 3}, {\"MaxSupply\": 0.001502144440724785, \"TotalCoinsMined\": 3.3826722034885558e-06, \"CoinName\": \"ABBC Coin\", \"Class\": 0}, {\"MaxSupply\": 0.00026279560435978386, \"TotalCoinsMined\": 1.5678929287802026e-07, \"CoinName\": \"Beam\", \"Class\": 2}, {\"MaxSupply\": 0.0, \"TotalCoinsMined\": 1.317228963400822e-05, \"CoinName\": \"V Systems\", \"Class\": 0}, {\"MaxSupply\": 9.999832800142948e-05, \"TotalCoinsMined\": 2.086724739459801e-07, \"CoinName\": \"Foin\", \"Class\": 2}, {\"MaxSupply\": 0.0, \"TotalCoinsMined\": 3.1576624982008666e-06, \"CoinName\": \"Beldex\", \"Class\": 2}, {\"MaxSupply\": 0.0, \"TotalCoinsMined\": 7.251204356308527e-05, \"CoinName\": \"Nervos Network\", \"Class\": 2}, {\"MaxSupply\": 0.03999933080157847, \"TotalCoinsMined\": 9.020468321796815e-05, \"CoinName\": \"Nevula\", \"Class\": 0}, {\"MaxSupply\": 0.00029999498200432187, \"TotalCoinsMined\": 2.4879794307690785e-07, \"CoinName\": \"VEIL\", \"Class\": 0}, {\"MaxSupply\": 0.0020399658718294857, \"TotalCoinsMined\": 8.729012568122795e-07, \"CoinName\": \"Handshake\", \"Class\": 2}, {\"MaxSupply\": 1.9999666400272512e-05, \"TotalCoinsMined\": 2.4204311867615857e-08, \"CoinName\": \"MimbleWimbleCoin\", \"Class\": 2}, {\"MaxSupply\": 0.02099964867130369, \"TotalCoinsMined\": 1.98128019143536e-05, \"CoinName\": \"Ravencoin Classic\", \"Class\": 2}, {\"MaxSupply\": 0.0, \"TotalCoinsMined\": 2.255113618884925e-06, \"CoinName\": \"Acute Angle Cloud\", \"Class\": 0}, {\"MaxSupply\": 0.0, \"TotalCoinsMined\": 2.255081665983886e-07, \"CoinName\": \"Primas\", \"Class\": 2}, {\"MaxSupply\": 0.0, \"TotalCoinsMined\": 2.255113618884925e-06, \"CoinName\": \"Alpha Finance Lab\", \"Class\": 0}, {\"MaxSupply\": 2.0999649670286972e-05, \"TotalCoinsMined\": 4.345212904014585e-08, \"CoinName\": \"Auroracoin\", \"Class\": 0}, {\"MaxSupply\": 0.0009999832710144453, \"TotalCoinsMined\": 1.1348409036495395e-06, \"CoinName\": \"INT\", \"Class\": 2}, {\"MaxSupply\": 9.999832700144621e-13, \"TotalCoinsMined\": 1.9910859446396925e-08, \"CoinName\": \"XDNA\", \"Class\": 0}, {\"MaxSupply\": 0.0, \"TotalCoinsMined\": 2.255113618884925e-06, \"CoinName\": \"Swingby\", \"Class\": 0}, {\"MaxSupply\": 1.0000000000000002, \"TotalCoinsMined\": 0.0022551548943635126, \"CoinName\": \"Wibcoin\", \"Class\": 2}, {\"MaxSupply\": 0.0, \"TotalCoinsMined\": 0.0001918120226909982, \"CoinName\": \"Revain\", \"Class\": 2}, {\"MaxSupply\": 0.0, \"TotalCoinsMined\": 7.876313874928061e-06, \"CoinName\": \"Red Pulse Phoenix Binance\", \"Class\": 0}, {\"MaxSupply\": 2.4999582750344822e-05, \"TotalCoinsMined\": 4.9339299600964756e-08, \"CoinName\": \"TokenPay\", \"Class\": 0}, {\"MaxSupply\": 0.0, \"TotalCoinsMined\": 3.398188501030544e-08, \"CoinName\": \"Haven Protocol\", \"Class\": 2}, {\"MaxSupply\": 0.0, \"TotalCoinsMined\": 5.050703490534279e-07, \"CoinName\": \"EtherZero\", \"Class\": 2}, {\"MaxSupply\": 2.099964964718736e-05, \"TotalCoinsMined\": 4.224114161521443e-08, \"CoinName\": \"Bitcoin ABC\", \"Class\": 2}, {\"MaxSupply\": 0.009999832701144604, \"TotalCoinsMined\": 4.491522157122863e-06, \"CoinName\": \"NextDAO\", \"Class\": 0}, {\"MaxSupply\": 0.0, \"TotalCoinsMined\": 6.069583087020854e-07, \"CoinName\": \"QuarkCoin\", \"Class\": 0}, {\"MaxSupply\": 0.0, \"TotalCoinsMined\": 4.5098793061807606e-08, \"CoinName\": \"United Emirates Coin\", \"Class\": 0}, {\"MaxSupply\": 0.0, \"TotalCoinsMined\": 4.0267815402272296e-08, \"CoinName\": \"AEON\", \"Class\": 2}, {\"MaxSupply\": 0.0, \"TotalCoinsMined\": 4.005665050724048e-06, \"CoinName\": \"Circuits of Value\", \"Class\": 2}, {\"MaxSupply\": 8.409459407511947e-05, \"TotalCoinsMined\": 7.984225572919929e-08, \"CoinName\": \"TENT\", \"Class\": 2}, {\"MaxSupply\": 0.0, \"TotalCoinsMined\": 0.0016851216095280942, \"CoinName\": \"ECOMI\", \"Class\": 0}, {\"MaxSupply\": 0.0, \"TotalCoinsMined\": 4.0173304261042484e-07, \"CoinName\": \"Rise\", \"Class\": 0}, {\"MaxSupply\": 0.0, \"TotalCoinsMined\": 2.5311000073194e-06, \"CoinName\": \"Oxycoin\", \"Class\": 0}, {\"MaxSupply\": 0.0, \"TotalCoinsMined\": 0.0022325400518173103, \"CoinName\": \"BitTorrent\", \"Class\": 0}, {\"MaxSupply\": 0.0, \"TotalCoinsMined\": 1.5157016471186158e-06, \"CoinName\": \"BakeryTokeN\", \"Class\": 0}, {\"MaxSupply\": 0.0, \"TotalCoinsMined\": 2.2551168141750284e-05, \"CoinName\": \"DeepBrain Chain\", \"Class\": 0}, {\"MaxSupply\": 0.0, \"TotalCoinsMined\": 2.255113618884925e-06, \"CoinName\": \"Anchor Protocol\", \"Class\": 0}, {\"MaxSupply\": 0.0, \"TotalCoinsMined\": 2.2551168141750284e-05, \"CoinName\": \"Yee\", \"Class\": 2}, {\"MaxSupply\": 6.599889682093777e-05, \"TotalCoinsMined\": 1.4477803820694133e-07, \"CoinName\": \"Arweave\", \"Class\": 2}, {\"MaxSupply\": 0.009999832701144604, \"TotalCoinsMined\": 1.6913023736820704e-07, \"CoinName\": \"MAPS\", \"Class\": 0}, {\"MaxSupply\": 0.0, \"TotalCoinsMined\": 4.5916301871408475e-07, \"CoinName\": \"Tenset\", \"Class\": 0}, {\"MaxSupply\": 4.199929834059068e-05, \"TotalCoinsMined\": 8.907530723876734e-08, \"CoinName\": \"MegaCoin\", \"Class\": 2}, {\"MaxSupply\": 0.0001999966550028757, \"TotalCoinsMined\": 4.094926397255093e-07, \"CoinName\": \"Pirate Chain\", \"Class\": 2}, {\"MaxSupply\": 9.999832700144621e-13, \"TotalCoinsMined\": 6.964799856579785e-08, \"CoinName\": \"Bithereum\", \"Class\": 2}, {\"MaxSupply\": 0.0, \"TotalCoinsMined\": 2.371225837990983e-07, \"CoinName\": \"Waves\", \"Class\": 0}, {\"MaxSupply\": 2.0999649670286972e-05, \"TotalCoinsMined\": 2.5029687893058338e-08, \"CoinName\": \"Horizen\", \"Class\": 2}, {\"MaxSupply\": 0.0, \"TotalCoinsMined\": 1.5432159441312754e-07, \"CoinName\": \"Grin\", \"Class\": 2}, {\"MaxSupply\": 0.0, \"TotalCoinsMined\": 2.2551168141750284e-05, \"CoinName\": \"BeforeCoinMarketCap\", \"Class\": 0}, {\"MaxSupply\": 0.0002099964877030203, \"TotalCoinsMined\": 9.922480041288577e-07, \"CoinName\": \"Zelcash\", \"Class\": 0}, {\"MaxSupply\": 2.0999649670286972e-05, \"TotalCoinsMined\": 0.0, \"CoinName\": \"Smart Bitcoin\", \"Class\": 2}, {\"MaxSupply\": 0.0, \"TotalCoinsMined\": 8.396538894830424e-06, \"CoinName\": \"Worldwide Asset eXchange\", \"Class\": 0}, {\"MaxSupply\": 0.0, \"TotalCoinsMined\": 3.345856153486198e-08, \"CoinName\": \"Shift\", \"Class\": 0}, {\"MaxSupply\": 0.0, \"TotalCoinsMined\": 2.325477296861692e-09, \"CoinName\": \"SaluS\", \"Class\": 0}, {\"MaxSupply\": 0.02099964867130369, \"TotalCoinsMined\": 2.022468643163206e-05, \"CoinName\": \"Ravencoin\", \"Class\": 0}, {\"MaxSupply\": 0.0004199929744060573, \"TotalCoinsMined\": 5.100699250661514e-07, \"CoinName\": \"PotCoin\", \"Class\": 0}, {\"MaxSupply\": 0.0009999832710144453, \"TotalCoinsMined\": 2.2528583392067665e-06, \"CoinName\": \"Nxt\", \"Class\": 0}, {\"MaxSupply\": 0.0, \"TotalCoinsMined\": 3.945758927407102e-08, \"CoinName\": \"Namecoin\", \"Class\": 2}, {\"MaxSupply\": 0.0, \"TotalCoinsMined\": 4.0393451982902006e-08, \"CoinName\": \"Monero\", \"Class\": 2}, {\"MaxSupply\": 8.399859568119808e-05, \"TotalCoinsMined\": 1.526486193486399e-07, \"CoinName\": \"Litecoin\", \"Class\": 2}, {\"MaxSupply\": 0.0, \"TotalCoinsMined\": 2.6147438381391665e-07, \"CoinName\": \"Ethereum\", \"Class\": 2}, {\"MaxSupply\": 0.1844669138205678, \"TotalCoinsMined\": 0.0004159956892156249, \"CoinName\": \"ByteCoin\", \"Class\": 2}, {\"MaxSupply\": 0.0, \"TotalCoinsMined\": 1.7360745586312048e-08, \"CoinName\": \"BlockNet\", \"Class\": 0}, {\"MaxSupply\": 2.099964964718736e-05, \"TotalCoinsMined\": 4.21980358470563e-08, \"CoinName\": \"Bitcoin\", \"Class\": 2}, {\"MaxSupply\": 0.0, \"TotalCoinsMined\": 3.8208943969196195e-07, \"CoinName\": \"Binance Coin\", \"Class\": 0}, {\"MaxSupply\": 0.0, \"TotalCoinsMined\": 2.255081665983886e-07, \"CoinName\": \"WeStarter\", \"Class\": 0}, {\"MaxSupply\": 2.0999649670286972e-05, \"TotalCoinsMined\": 2.5057381652950527e-08, \"CoinName\": \"ZCash\", \"Class\": 2}, {\"MaxSupply\": 0.0009999832710144453, \"TotalCoinsMined\": 2.083670140189678e-06, \"CoinName\": \"WhiteCoin\", \"Class\": 0}, {\"MaxSupply\": 0.0, \"TotalCoinsMined\": 6.061135428348624e-08, \"CoinName\": \"Waltonchain\", \"Class\": 2}, {\"MaxSupply\": 0.0, \"TotalCoinsMined\": 5.225695863331843e-08, \"CoinName\": \"ViaCoin\", \"Class\": 2}, {\"MaxSupply\": 8.399859568119808e-05, \"TotalCoinsMined\": 1.3551523266365918e-07, \"CoinName\": \"Vertcoin\", \"Class\": 2}, {\"MaxSupply\": 0.016554723036089406, \"TotalCoinsMined\": 3.7105484049642746e-05, \"CoinName\": \"Verge\", \"Class\": 2}, {\"MaxSupply\": 0.08671118376587941, \"TotalCoinsMined\": 0.00019390633910292378, \"CoinName\": \"VeChain\", \"Class\": 1}, {\"MaxSupply\": 0.0, \"TotalCoinsMined\": 1.1480337464730894e-07, \"CoinName\": \"Ubiq\", \"Class\": 2}, {\"MaxSupply\": 0.0008879851447728257, \"TotalCoinsMined\": 1.3807399624672927e-06, \"CoinName\": \"SysCoin\", \"Class\": 2}, {\"MaxSupply\": 0.0, \"TotalCoinsMined\": 2.963567361901736e-07, \"CoinName\": \"Stratis\", \"Class\": 0}, {\"MaxSupply\": 0.0, \"TotalCoinsMined\": 8.64044827564549e-07, \"CoinName\": \"Steem\", \"Class\": 2}, {\"MaxSupply\": 0.004999916351072294, \"TotalCoinsMined\": 6.003125707054823e-06, \"CoinName\": \"SmartCash\", \"Class\": 2}, {\"MaxSupply\": 2.0999649670286972e-05, \"TotalCoinsMined\": 4.323553806250694e-08, \"CoinName\": \"SibCoin\", \"Class\": 2}, {\"MaxSupply\": 0.0, \"TotalCoinsMined\": 0.00010783000922465193, \"CoinName\": \"Siacoin\", \"Class\": 2}, {\"MaxSupply\": 0.0, \"TotalCoinsMined\": 6.809213648848379e-05, \"CoinName\": \"Reddcoin\", \"Class\": 0}, {\"MaxSupply\": 0.00010782059938275297, \"TotalCoinsMined\": 2.3320762822960507e-07, \"CoinName\": \"QTUM\", \"Class\": 0}, {\"MaxSupply\": 0.0, \"TotalCoinsMined\": 6.488178594654065e-07, \"CoinName\": \"Poa Network\", \"Class\": 3}, {\"MaxSupply\": 0.0, \"TotalCoinsMined\": 1.489738427983537e-07, \"CoinName\": \"Private Instant Verified Transaction\", \"Class\": 0}, {\"MaxSupply\": 0.0, \"TotalCoinsMined\": 2.255113618884925e-06, \"CoinName\": \"Ontology\", \"Class\": 0}, {\"MaxSupply\": 7.799869606111132e-05, \"TotalCoinsMined\": 1.5915476465396768e-07, \"CoinName\": \"Nexus\", \"Class\": 0}, {\"MaxSupply\": 9.999832800142948e-05, \"TotalCoinsMined\": 2.255081665983886e-07, \"CoinName\": \"NEO\", \"Class\": 0}, {\"MaxSupply\": 0.0, \"TotalCoinsMined\": 4.033221009652953e-08, \"CoinName\": \"Neblio\", \"Class\": 0}, {\"MaxSupply\": 0.0, \"TotalCoinsMined\": 1.6172837639532702e-07, \"CoinName\": \"NavCoin\", \"Class\": 0}, {\"MaxSupply\": 0.00013324606175801863, \"TotalCoinsMined\": 3.004869562241707e-07, \"CoinName\": \"Nano\", \"Class\": 2}, {\"MaxSupply\": 9.999832800142948e-05, \"TotalCoinsMined\": 1.812009808808984e-07, \"CoinName\": \"Metaverse\", \"Class\": 2}, {\"MaxSupply\": 0.0, \"TotalCoinsMined\": 3.247822400451425e-07, \"CoinName\": \"Lisk\", \"Class\": 0}, {\"MaxSupply\": 0.0001999966550028757, \"TotalCoinsMined\": 2.883033337066689e-07, \"CoinName\": \"Komodo\", \"Class\": 2}, {\"MaxSupply\": 2.1999632940301435e-05, \"TotalCoinsMined\": 4.256707218324044e-08, \"CoinName\": \"IOCoin\", \"Class\": 0}, {\"MaxSupply\": 8.399859568119808e-05, \"TotalCoinsMined\": 1.0163888625456049e-07, \"CoinName\": \"HyperCash\", \"Class\": 0}, {\"MaxSupply\": 9.999832800142948e-05, \"TotalCoinsMined\": 2.0048708846750977e-07, \"CoinName\": \"High Performance Blockchain\", \"Class\": 0}, {\"MaxSupply\": 0.0016799718946242795, \"TotalCoinsMined\": 1.2110952758117403e-06, \"CoinName\": \"Gulden\", \"Class\": 2}, {\"MaxSupply\": 0.00010499824435150179, \"TotalCoinsMined\": 1.749596225368524e-07, \"CoinName\": \"Groestlcoin\", \"Class\": 2}, {\"MaxSupply\": 2.1399642978292757e-05, \"TotalCoinsMined\": 2.6786059303203078e-08, \"CoinName\": \"Firo\", \"Class\": 2}, {\"MaxSupply\": 0.0003359943797248425, \"TotalCoinsMined\": 5.484951537528141e-07, \"CoinName\": \"FeatherCoin\", \"Class\": 2}, {\"MaxSupply\": 9.999832800142948e-05, \"TotalCoinsMined\": 7.824980918274439e-08, \"CoinName\": \"Expanse\", \"Class\": 2}, {\"MaxSupply\": 0.00021069647599203045, \"TotalCoinsMined\": 2.879012497500265e-07, \"CoinName\": \"Ethereum Classic\", \"Class\": 2}, {\"MaxSupply\": 0.0, \"TotalCoinsMined\": 2.3220946606802935e-06, \"CoinName\": \"EOS\", \"Class\": 0}, {\"MaxSupply\": 0.0, \"TotalCoinsMined\": 4.998654203459999e-07, \"CoinName\": \"Einsteinium\", \"Class\": 2}, {\"MaxSupply\": 0.0, \"TotalCoinsMined\": 0.00029212676138620276, \"CoinName\": \"Dogecoin\", \"Class\": 2}, {\"MaxSupply\": 0.0, \"TotalCoinsMined\": 1.1370447498653835e-05, \"CoinName\": \"DigitalNote\", \"Class\": 0}, {\"MaxSupply\": 2.0999649670286972e-05, \"TotalCoinsMined\": 2.918453648311378e-08, \"CoinName\": \"Decred\", \"Class\": 0}, {\"MaxSupply\": 1.88996848032566e-05, \"TotalCoinsMined\": 2.2872501274214392e-08, \"CoinName\": \"Dash\", \"Class\": 0}, {\"MaxSupply\": 0.0, \"TotalCoinsMined\": 1.2725153438389961e-08, \"CoinName\": \"CloakCoin\", \"Class\": 0}, {\"MaxSupply\": 0.04499924715165078, \"TotalCoinsMined\": 7.241116550358203e-05, \"CoinName\": \"Cardano\", \"Class\": 0}, {\"MaxSupply\": 0.0002099964877030203, \"TotalCoinsMined\": 3.7848563674737343e-06, \"CoinName\": \"Bytom\", \"Class\": 2}, {\"MaxSupply\": 0.0021587766840930602, \"TotalCoinsMined\": 4.762421077842521e-06, \"CoinName\": \"BurstCoin\", \"Class\": 0}, {\"MaxSupply\": 9.999832800142948e-05, \"TotalCoinsMined\": 1.3681281023674295e-07, \"CoinName\": \"BlackCoin\", \"Class\": 0}, {\"MaxSupply\": 0.0036005102655075564, \"TotalCoinsMined\": 6.753848515869035e-06, \"CoinName\": \"Bitshares\", \"Class\": 0}, {\"MaxSupply\": 2.099964964718736e-05, \"TotalCoinsMined\": 4.22518100050113e-08, \"CoinName\": \"Bitcoin SV\", \"Class\": 2}, {\"MaxSupply\": 0.0002099964877030203, \"TotalCoinsMined\": 4.515267211028941e-07, \"CoinName\": \"Bitcoin Diamond\", \"Class\": 0}, {\"MaxSupply\": 2.099964964718736e-05, \"TotalCoinsMined\": 4.226106613918379e-08, \"CoinName\": \"Bitcoin Cash\", \"Class\": 2}, {\"MaxSupply\": 0.0, \"TotalCoinsMined\": 3.5492814572709373e-07, \"CoinName\": \"ARK\", \"Class\": 0}, {\"MaxSupply\": 0.0, \"TotalCoinsMined\": 1.1104771988375573e-06, \"CoinName\": \"Aion\", \"Class\": 0}, {\"MaxSupply\": 9.999832700144621e-13, \"TotalCoinsMined\": 2.255113618884925e-06, \"CoinName\": \"Achain\", \"Class\": 0}, {\"MaxSupply\": 2.0999649670286972e-05, \"TotalCoinsMined\": 4.2234128683628943e-08, \"CoinName\": \"Bitcoin Gold\", \"Class\": 2}, {\"MaxSupply\": 0.0, \"TotalCoinsMined\": 2.0051756441364774e-06, \"CoinName\": \"ICON Project\", \"Class\": 0}, {\"MaxSupply\": 0.02099964867130369, \"TotalCoinsMined\": 3.230379894634874e-05, \"CoinName\": \"DigiByte\", \"Class\": 2}, {\"MaxSupply\": 0.0, \"TotalCoinsMined\": 1.0, \"CoinName\": \"YooShi\", \"Class\": 0}]}}, {\"mode\": \"vega-lite\"});\n</script>",
      "text/plain": [
       "alt.Chart(...)"
      ]
     },
     "metadata": {},
     "execution_count": 33
    }
   ],
   "source": [
    "# Plot the scatter with x=\"TotalCoinsMined\" and y=\"TotalCoinSupply\"\n",
    "#set up styling\n",
    "col_pal =[ '#203B57','#2387EF','#98EF23','#8914EE','#F20535']\n",
    "color= ['red', 'steelblue', 'chartreuse', '#F4D03F', '#D35400', '#7D3C98']\n",
    "#scale for the axis\n",
    "scale= (scaled_df.Class.min() - .1,scaled_df.Class.max() +.1)\n",
    "\n",
    "alt.Chart(scaled_df).mark_circle(size=100).encode(\n",
    "    alt.X('TotalCoinsMined',\n",
    "    scale=alt.Scale(domain=(scaled_df.TotalCoinsMined.min() - .1,scaled_df.TotalCoinsMined.max() +.1))\n",
    "    ),\n",
    "    alt.Y('MaxSupply',scale=alt.Scale(domain=((scaled_df.MaxSupply.min() - .1,scaled_df.MaxSupply.max() + .1)))\n",
    "    ),\n",
    "    color=alt.Color(\n",
    "        \"Class\",\n",
    "       \n",
    "        scale=alt.Scale(domain=(scaled_df.Class.min(),scaled_df.Class.max()),range=col_pal),\n",
    "    ),\n",
    "    tooltip=[\"CoinName\", \"TotalCoinsMined\", \"MaxSupply\"],\n",
    ").interactive()"
   ]
  },
  {
   "source": [
    "#### Table current tradable cryptocurrencies using the display() command."
   ],
   "cell_type": "markdown",
   "metadata": {}
  },
  {
   "cell_type": "code",
   "execution_count": 34,
   "metadata": {},
   "outputs": [
    {
     "output_type": "display_data",
     "data": {
      "text/plain": "                                     CoinName              Algorithm  \\\nNVC                                  NovaCoin                 Scrypt   \nXCP                              CounterParty                SHA-256   \nNSR                                  NuShares                    PoS   \nMONA                                 MonaCoin                 Scrypt   \nTRI                            Triangles Coin                    X13   \nEMC                                  Emercoin                SHA-256   \nSAFEX                        SafeExchangeCoin                 Scrypt   \nCMTC                                CometCoin                 Scrypt   \nXSN                                  Stakenet                    X11   \nCHAT                                 OpenChat                 Scrypt   \nQRL                  Quantum Resistant Ledger                RandomX   \nAMB                                     Amber                 Dagger   \nBTCZ                                 BitcoinZ               Equihash   \nPURA                                     Pura                    X11   \nUBTC                            UnitedBitcoin                SHA-256   \nBTCP                          Bitcoin Private               Equihash   \nCLO                          Callisto Network                 Ethash   \nADK                              Aidos Kuneen                  IMesh   \nKCASH                                   Kcash                SHA-512   \nDAPS                                DAPS Coin                 Dagger   \nABBC                                ABBC Coin                    X13   \nBEAM                                     Beam               Equihash   \nVSYS                                V Systems                   SPoS   \nFOIN                                     Foin                SHA-256   \nBDX                                    Beldex            CryptoNight   \nCKB                            Nervos Network              Eaglesong   \nNVL                                    Nevula                  NEP-5   \nVEIL                                     VEIL                  X16RT   \nHNS                                 Handshake         Blake2B + SHA3   \nMWC                          MimbleWimbleCoin                    C31   \nRVC                         Ravencoin Classic                   X16R   \nAAC                         Acute Angle Cloud              ECC 256K1   \nPST                                    Primas                 Scrypt   \nALPHA                       Alpha Finance Lab            BEP20 Token   \nAUR                                Auroracoin                 Scrypt   \nINT                                       INT                  IMesh   \nXDNA                                     XDNA                    HEX   \nSWINGBY                               Swingby             BEP2 Token   \nWBBC                                  Wibcoin                SHA-256   \nREV                                    Revain               Multiple   \nPHB                 Red Pulse Phoenix Binance                  BEP-2   \nTPAY                                 TokenPay                POS 3.0   \nXHV                            Haven Protocol      CryptoNight-Heavy   \nETZ                                 EtherZero                 Ethash   \nBCHA                              Bitcoin ABC                SHA-256   \nNAX                                   NextDAO            NRC20 Token   \nQRK                                 QuarkCoin                  Quark   \nUEC                      United Emirates Coin                 Scrypt   \nAEON                                     AEON       CryptoNight-Lite   \nCOVAL                       Circuits of Value               Multiple   \nTENT                                     TENT               Equihash   \nOMI                                     ECOMI                   GO20   \nRISE                                     Rise                   DPoS   \nOXYC                                  Oxycoin                   DPoS   \nBTT                                BitTorrent                  TRC10   \nBAKE                              BakeryTokeN                  BEP-2   \nDBC                           DeepBrain Chain                  NEP-5   \nANC                           Anchor Protocol                    PoS   \nYEE                                       Yee                Blake2b   \nAR                                    Arweave                SHA-256   \nMAPS                                     MAPS              SPL Token   \n10SET                                  Tenset                   DPoS   \nMEC                                  MegaCoin                 Scrypt   \nARRR                             Pirate Chain               Equihash   \nBTH                                 Bithereum               Equihash   \nWAVES                                   Waves             Leased POS   \nZEN                                   Horizen               Equihash   \nGRIN                                     Grin                    C31   \nBCMC1                     BeforeCoinMarketCap                 Ethash   \nZEL                                   Zelcash               Equihash   \nRBTC                            Smart Bitcoin                SHA-256   \nWAXP                 Worldwide Asset eXchange                   DPoS   \nSHIFT                                   Shift                   DPoS   \nSLS                                     SaluS                 Scrypt   \nRVN                                 Ravencoin                 KAWPOW   \nPOT                                   PotCoin                 Scrypt   \nNXT                                       Nxt                    PoS   \nNMC                                  Namecoin                SHA-256   \nXMR                                    Monero                RandomX   \nLTC                                  Litecoin                 Scrypt   \nETH                                  Ethereum                 Ethash   \nBCN                                  ByteCoin            CryptoNight   \nBLOCK                                BlockNet                  Quark   \nBTC                                   Bitcoin                SHA-256   \nBNB                              Binance Coin                  BEP-2   \nWAR                                 WeStarter           HRC-20 Token   \nZEC                                     ZCash               Equihash   \nXWC                                 WhiteCoin                 Scrypt   \nWTC                               Waltonchain                 Ethash   \nVIA                                   ViaCoin                 Scrypt   \nVTC                                  Vertcoin              Lyra2REv2   \nXVG                                     Verge               Multiple   \nVET                                   VeChain  VeChainThor Authority   \nUBQ                                      Ubiq       Dagger-Hashimoto   \nSYS                                   SysCoin                SHA-256   \nSTRAX                                 Stratis                    X13   \nSTEEM                                   Steem                    PoS   \nSMART                               SmartCash                 KECCAK   \nSIB                                   SibCoin                X11GOST   \nSC                                    Siacoin                Blake2b   \nRDD                                  Reddcoin                 Scrypt   \nQTUM                                     QTUM                POS 3.0   \nPOA                               Poa Network     Proof-of-Authority   \nPIVX     Private Instant Verified Transaction                  Quark   \nONT                                  Ontology                   VBFT   \nNXS                                     Nexus                   SHA3   \nNEO                                       NEO                dBFT2.0   \nNEBL                                   Neblio                    PoS   \nNAV                                   NavCoin                    X13   \nNANO                                     Nano                Blake2b   \nETP                                 Metaverse                 Ethash   \nLSK                                      Lisk                   DPoS   \nKMD                                    Komodo               Equihash   \nIOC                                    IOCoin                    X11   \nHC                                  HyperCash               BLAKE256   \nHPB               High Performance Blockchain                   DPoS   \nNLG                                    Gulden                 Scrypt   \nGRS                               Groestlcoin                Groestl   \nFIRO                                     Firo                    MTP   \nFTC                               FeatherCoin              NeoScrypt   \nEXP                                   Expanse                 Ethash   \nETC                          Ethereum Classic                 Ethash   \nEOS                                       EOS                   DPoS   \nEMC2                              Einsteinium                 Scrypt   \nDOGE                                 Dogecoin                 Scrypt   \nXDN                               DigitalNote       BMW512 / Echo512   \nDCR                                    Decred               BLAKE256   \nDASH                                     Dash                    X11   \nCLOAK                               CloakCoin                    X13   \nADA                                   Cardano              Ouroboros   \nBTM                                     Bytom              Tensority   \nBURST                               BurstCoin              Shabal256   \nBLK                                 BlackCoin                 Scrypt   \nBTS                                 Bitshares                SHA-512   \nBSV                                Bitcoin SV                SHA-256   \nBCD                           Bitcoin Diamond                    X13   \nBCH                              Bitcoin Cash                SHA-256   \nARK                                       ARK                   DPoS   \nAION                                     Aion          Equihash210,9   \nACT                                    Achain                   DPoS   \nBTG                              Bitcoin Gold               Equihash   \nICX                              ICON Project              Loopchain   \nDGB                                  DigiByte               Multiple   \nYOOSHI                                 YooShi           BEP-20 Token   \n\n                    ProofType             MaxSupply       TotalCoinsMined  \\\nNVC                   PoW/PoS                    -1         3254038.07424   \nXCP                       PoW                    -1        2615025.583979   \nNSR                       PoS                     0       6158524533.0671   \nMONA                      PoW                    -1       81732287.471579   \nTRI                   PoW/PoS                     0          178912.59513   \nEMC                   PoW/PoS                    -1       47444129.697603   \nSAFEX                     PoC                    -1            2147483647   \nCMTC                      PoW                     0                872830   \nXSN                      TPoS                    -1      120256219.132966   \nCHAT                  PoW/PoS                    -1            1000000000   \nQRL                       PoW             105000000        74003580.75201   \nAMB                       PoA                    -1             720594084   \nBTCZ                      PoW           21000000000     9431921862.742201   \nPURA                      PoW                    -1      188358976.839698   \nUBTC                      PoW              21000000              21000000   \nBTCP                      PoW              22873588        3818878.387802   \nCLO                       PoW            6500000000     2970596149.669318   \nADK                       PoW                     0              25000000   \nKCASH    Zero-Knowledge Proof                    -1            1000000000   \nDAPS              PoW/PoS/PoA           70000000000           62319462900   \nABBC                      NaN            1502169571            1500000000   \nBEAM                      PoW             262800000       69527581.689015   \nVSYS                     SPoS                    -1            5841068200   \nFOIN                      NaN             100000000         92534448.8161   \nBDX                       PoW                    -1            1400222610   \nCKB                       PoW                    -1    32154447717.187862   \nNVL                       NaN           40000000000           40000000000   \nVEIL                  PoW/PoS             300000000      110327523.907197   \nHNS                       PoW            2040000000      387077363.009687   \nMWC                       PoW              20000000        10734636.10694   \nRVC                       PoW           21000000000            8785710000   \nAAC                      DPOS                    -1            1000000000   \nPST                       PoW                    -1             100000000   \nALPHA                     NaN                    -1            1000000000   \nAUR                   PoW/PoS              21000000       19269809.992959   \nINT                 DPoS+dBFT            1000000000      503230816.326412   \nXDNA                  PoW/PoS                     0               8830765   \nSWINGBY                   NaN                    -1            1000000000   \nWBBC                      PoW  1000016730264.435059  1000016730264.435059   \nREV                       NaN                    -1    85056346011.834015   \nPHB                       NaN                    -1      3492642215.13561   \nTPAY                      PoS              25000000              21880393   \nXHV                       PoW                    -1       15070363.436854   \nETZ                       PoW                    -1          223967918.95   \nBCHA                      PoW         20999999.9769       18732814.646789   \nNAX                       NaN           10000000000      1991703920.65442   \nQRK                   PoW/PoS                    -1       269148702.03298   \nUEC                       NaN                    -1              20000000   \nAEON                      PoW                    -1       17857770.884147   \nCOVAL                     PoW                    -1     1776257418.347133   \nTENT                     mPoW              84096000              35406500   \nOMI                       NaN                    -1   747243485211.362549   \nRISE                      PoS                    -1          178144443.41   \nOXYC                     DPoS                    -1         1122382283.37   \nBTT                      DPoS                    -1   989988496319.432373   \nBAKE                      NaN                    -1      672118157.822268   \nDBC                       NaN                    -1           10000000000   \nANC                       PoS                    -1            1000000000   \nYEE                       NaN                    -1           10000000000   \nAR                        PoW              66000000        64201359.69262   \nMAPS                      PoH           10000000000              75000000   \n10SET                     NaN                    -1      203610958.803454   \nMEC                       PoW              42000000         39500766.8681   \nARRR                     dPoW             200000000       181585327.64477   \nBTH                       PoW                     0              30886000   \nWAVES                    LPoS                    -1             105150250   \nZEN                       PoW              21000000            11100637.5   \nGRIN                      PoW                    -1         68433315.5025   \nBCMC1                 PoW/PoS                    -1           10000000000   \nZEL                   PoW/PoS             210000000             440000000   \nRBTC                      PoW              21000000            1574.34052   \nWAXP                      NaN                    -1     3723328685.446701   \nSHIFT                    DPoS                    -1              14838303   \nSLS                   PoW/PoS                    -1        1032774.549811   \nRVN                       NaN           21000000000     8968354397.773466   \nPOT                   PoW/PoS             420000000      226184910.634951   \nNXT                  PoS/LPoS            1000000000      998999927.937691   \nNMC                       PoW                    -1            17498487.5   \nXMR                       PoW                    -1        17913482.65928   \nLTC                       PoW              84000000       67691458.233471   \nETH                       PoW                    -1        115948713.3115   \nBCN                       PoW          184470000000    184467440737.09552   \nBLOCK                 PoW/PoS                    -1        7699952.865311   \nBTC                       PoW         20999999.9769              18713700   \nBNB                      PoSA                    -1           169433763.9   \nWAR                       NaN                    -1             100000000   \nZEC                       PoW              21000000       11112917.908429   \nXWC                   PoW/PoS            1000000000             923975800   \nWTC                       NaN                    -1        26878827.15519   \nVIA                       PoW                    -1       23174187.873363   \nVTC                       PoW              84000000       60093898.816635   \nXVG                       PoW           16555000000    16453906744.459188   \nVET        Proof of Authority           86712634466           85985041177   \nUBQ                       PoW                    -1       50909516.603966   \nSYS                       PoW             888000000      612271296.428913   \nSTRAX                     PoS                    -1             131416802   \nSTEEM                     PoW                    -1         383150103.988   \nSMART                     PoW            5000000000     2662003260.561149   \nSIB                       PoW              21000000       19173765.769361   \nSC                        PoW                    -1           47815702992   \nRDD                   PoW/PoS                    -1    30194502072.254829   \nQTUM                      PoS          107822402.25             103414218   \nPOA                       PoA                    -1      287710731.241438   \nPIVX                  PoW/PoS                    -1       66061930.242437   \nONT                       PoS                    -1            1000000000   \nNXS                  PoW/nPoS              78000000       70576516.887703   \nNEO                       NaN             100000000             100000000   \nNEBL                      NaN                    -1       17886325.805877   \nNAV                   PoW/PoS                    -1       71717748.827445   \nNANO                      PoW             133248290             133248290   \nETP                       NaN             100000000       80352601.486749   \nLSK                      DPoS                    -1             144021692   \nKMD                  dPoW/PoW             200000000      127845633.905734   \nIOC                   PoW/PoS              22000000       18877343.974346   \nHC                    PoW/PoS              84000000       45071909.329052   \nHPB                       NaN             100000000       88904754.718499   \nNLG                       PoW            1680000000      537044745.466513   \nGRS                       PoW             105000000       77584958.887389   \nFIRO                      PoW              21400000       11879475.705893   \nFTC                       PoW             336000000       243224038.00773   \nEXP                       PoW             100000000           34700351.97   \nETC                       PoW             210700000      127667335.428771   \nEOS                      DPoS                    -1       1029701801.1791   \nEMC2                      PoW                    -1      221659866.499999   \nDOGE                      PoW                    -1   129539506383.704224   \nXDN                   PoW/PoS                    -1     5042066640.365834   \nDCR                   PoW/PoS              21000000       12943046.686888   \nDASH                 PoW/PoSe              18900000        10144063.42558   \nCLOAK                 PoW/PoS                    -1        5644364.707312   \nADA                       PoS           45000000000     32109714760.12439   \nBTM                       PoW             210000000          1678342912.5   \nBURST                     PoC            2158812800            2111830238   \nBLK                       PoS             100000000       60669291.346478   \nBTS                      DPoS            3600570502      2994900734.38869   \nBSV                       PoW         20999999.9769       18737545.394239   \nBCD                   PoW/PoS             210000000             200224750   \nBCH                       PoW         20999999.9769       18741649.896789   \nARK                      DPoS                    -1           157389470.0   \nAION                  PoW/PoS                    -1             492427074   \nACT                      DPoS                     0            1000000000   \nBTG                       PoW              21000000       18729704.860885   \nICX                       PoS                    -1      889168519.418303   \nDGB                       PoW           21000000000    14324667000.795696   \nYOOSHI                    NaN                    -1  443435939231077.1875   \n\n         Class  \nNVC          0  \nXCP          2  \nNSR          0  \nMONA         2  \nTRI          0  \nEMC          0  \nSAFEX        0  \nCMTC         2  \nXSN          0  \nCHAT         0  \nQRL          2  \nAMB          3  \nBTCZ         2  \nPURA         2  \nUBTC         2  \nBTCP         2  \nCLO          2  \nADK          2  \nKCASH        0  \nDAPS         3  \nABBC         0  \nBEAM         2  \nVSYS         0  \nFOIN         2  \nBDX          2  \nCKB          2  \nNVL          0  \nVEIL         0  \nHNS          2  \nMWC          2  \nRVC          2  \nAAC          0  \nPST          2  \nALPHA        0  \nAUR          0  \nINT          2  \nXDNA         0  \nSWINGBY      0  \nWBBC         2  \nREV          2  \nPHB          0  \nTPAY         0  \nXHV          2  \nETZ          2  \nBCHA         2  \nNAX          0  \nQRK          0  \nUEC          0  \nAEON         2  \nCOVAL        2  \nTENT         2  \nOMI          0  \nRISE         0  \nOXYC         0  \nBTT          0  \nBAKE         0  \nDBC          0  \nANC          0  \nYEE          2  \nAR           2  \nMAPS         0  \n10SET        0  \nMEC          2  \nARRR         2  \nBTH          2  \nWAVES        0  \nZEN          2  \nGRIN         2  \nBCMC1        0  \nZEL          0  \nRBTC         2  \nWAXP         0  \nSHIFT        0  \nSLS          0  \nRVN          0  \nPOT          0  \nNXT          0  \nNMC          2  \nXMR          2  \nLTC          2  \nETH          2  \nBCN          2  \nBLOCK        0  \nBTC          2  \nBNB          0  \nWAR          0  \nZEC          2  \nXWC          0  \nWTC          2  \nVIA          2  \nVTC          2  \nXVG          2  \nVET          1  \nUBQ          2  \nSYS          2  \nSTRAX        0  \nSTEEM        2  \nSMART        2  \nSIB          2  \nSC           2  \nRDD          0  \nQTUM         0  \nPOA          3  \nPIVX         0  \nONT          0  \nNXS          0  \nNEO          0  \nNEBL         0  \nNAV          0  \nNANO         2  \nETP          2  \nLSK          0  \nKMD          2  \nIOC          0  \nHC           0  \nHPB          0  \nNLG          2  \nGRS          2  \nFIRO         2  \nFTC          2  \nEXP          2  \nETC          2  \nEOS          0  \nEMC2         2  \nDOGE         2  \nXDN          0  \nDCR          0  \nDASH         0  \nCLOAK        0  \nADA          0  \nBTM          2  \nBURST        0  \nBLK          0  \nBTS          0  \nBSV          2  \nBCD          0  \nBCH          2  \nARK          0  \nAION         0  \nACT          0  \nBTG          2  \nICX          0  \nDGB          2  \nYOOSHI       0  ",
      "text/html": "<div>\n<style scoped>\n    .dataframe tbody tr th:only-of-type {\n        vertical-align: middle;\n    }\n\n    .dataframe tbody tr th {\n        vertical-align: top;\n    }\n\n    .dataframe thead th {\n        text-align: right;\n    }\n</style>\n<table border=\"1\" class=\"dataframe\">\n  <thead>\n    <tr style=\"text-align: right;\">\n      <th></th>\n      <th>CoinName</th>\n      <th>Algorithm</th>\n      <th>ProofType</th>\n      <th>MaxSupply</th>\n      <th>TotalCoinsMined</th>\n      <th>Class</th>\n    </tr>\n  </thead>\n  <tbody>\n    <tr>\n      <th>NVC</th>\n      <td>NovaCoin</td>\n      <td>Scrypt</td>\n      <td>PoW/PoS</td>\n      <td>-1</td>\n      <td>3254038.07424</td>\n      <td>0</td>\n    </tr>\n    <tr>\n      <th>XCP</th>\n      <td>CounterParty</td>\n      <td>SHA-256</td>\n      <td>PoW</td>\n      <td>-1</td>\n      <td>2615025.583979</td>\n      <td>2</td>\n    </tr>\n    <tr>\n      <th>NSR</th>\n      <td>NuShares</td>\n      <td>PoS</td>\n      <td>PoS</td>\n      <td>0</td>\n      <td>6158524533.0671</td>\n      <td>0</td>\n    </tr>\n    <tr>\n      <th>MONA</th>\n      <td>MonaCoin</td>\n      <td>Scrypt</td>\n      <td>PoW</td>\n      <td>-1</td>\n      <td>81732287.471579</td>\n      <td>2</td>\n    </tr>\n    <tr>\n      <th>TRI</th>\n      <td>Triangles Coin</td>\n      <td>X13</td>\n      <td>PoW/PoS</td>\n      <td>0</td>\n      <td>178912.59513</td>\n      <td>0</td>\n    </tr>\n    <tr>\n      <th>EMC</th>\n      <td>Emercoin</td>\n      <td>SHA-256</td>\n      <td>PoW/PoS</td>\n      <td>-1</td>\n      <td>47444129.697603</td>\n      <td>0</td>\n    </tr>\n    <tr>\n      <th>SAFEX</th>\n      <td>SafeExchangeCoin</td>\n      <td>Scrypt</td>\n      <td>PoC</td>\n      <td>-1</td>\n      <td>2147483647</td>\n      <td>0</td>\n    </tr>\n    <tr>\n      <th>CMTC</th>\n      <td>CometCoin</td>\n      <td>Scrypt</td>\n      <td>PoW</td>\n      <td>0</td>\n      <td>872830</td>\n      <td>2</td>\n    </tr>\n    <tr>\n      <th>XSN</th>\n      <td>Stakenet</td>\n      <td>X11</td>\n      <td>TPoS</td>\n      <td>-1</td>\n      <td>120256219.132966</td>\n      <td>0</td>\n    </tr>\n    <tr>\n      <th>CHAT</th>\n      <td>OpenChat</td>\n      <td>Scrypt</td>\n      <td>PoW/PoS</td>\n      <td>-1</td>\n      <td>1000000000</td>\n      <td>0</td>\n    </tr>\n    <tr>\n      <th>QRL</th>\n      <td>Quantum Resistant Ledger</td>\n      <td>RandomX</td>\n      <td>PoW</td>\n      <td>105000000</td>\n      <td>74003580.75201</td>\n      <td>2</td>\n    </tr>\n    <tr>\n      <th>AMB</th>\n      <td>Amber</td>\n      <td>Dagger</td>\n      <td>PoA</td>\n      <td>-1</td>\n      <td>720594084</td>\n      <td>3</td>\n    </tr>\n    <tr>\n      <th>BTCZ</th>\n      <td>BitcoinZ</td>\n      <td>Equihash</td>\n      <td>PoW</td>\n      <td>21000000000</td>\n      <td>9431921862.742201</td>\n      <td>2</td>\n    </tr>\n    <tr>\n      <th>PURA</th>\n      <td>Pura</td>\n      <td>X11</td>\n      <td>PoW</td>\n      <td>-1</td>\n      <td>188358976.839698</td>\n      <td>2</td>\n    </tr>\n    <tr>\n      <th>UBTC</th>\n      <td>UnitedBitcoin</td>\n      <td>SHA-256</td>\n      <td>PoW</td>\n      <td>21000000</td>\n      <td>21000000</td>\n      <td>2</td>\n    </tr>\n    <tr>\n      <th>BTCP</th>\n      <td>Bitcoin Private</td>\n      <td>Equihash</td>\n      <td>PoW</td>\n      <td>22873588</td>\n      <td>3818878.387802</td>\n      <td>2</td>\n    </tr>\n    <tr>\n      <th>CLO</th>\n      <td>Callisto Network</td>\n      <td>Ethash</td>\n      <td>PoW</td>\n      <td>6500000000</td>\n      <td>2970596149.669318</td>\n      <td>2</td>\n    </tr>\n    <tr>\n      <th>ADK</th>\n      <td>Aidos Kuneen</td>\n      <td>IMesh</td>\n      <td>PoW</td>\n      <td>0</td>\n      <td>25000000</td>\n      <td>2</td>\n    </tr>\n    <tr>\n      <th>KCASH</th>\n      <td>Kcash</td>\n      <td>SHA-512</td>\n      <td>Zero-Knowledge Proof</td>\n      <td>-1</td>\n      <td>1000000000</td>\n      <td>0</td>\n    </tr>\n    <tr>\n      <th>DAPS</th>\n      <td>DAPS Coin</td>\n      <td>Dagger</td>\n      <td>PoW/PoS/PoA</td>\n      <td>70000000000</td>\n      <td>62319462900</td>\n      <td>3</td>\n    </tr>\n    <tr>\n      <th>ABBC</th>\n      <td>ABBC Coin</td>\n      <td>X13</td>\n      <td>NaN</td>\n      <td>1502169571</td>\n      <td>1500000000</td>\n      <td>0</td>\n    </tr>\n    <tr>\n      <th>BEAM</th>\n      <td>Beam</td>\n      <td>Equihash</td>\n      <td>PoW</td>\n      <td>262800000</td>\n      <td>69527581.689015</td>\n      <td>2</td>\n    </tr>\n    <tr>\n      <th>VSYS</th>\n      <td>V Systems</td>\n      <td>SPoS</td>\n      <td>SPoS</td>\n      <td>-1</td>\n      <td>5841068200</td>\n      <td>0</td>\n    </tr>\n    <tr>\n      <th>FOIN</th>\n      <td>Foin</td>\n      <td>SHA-256</td>\n      <td>NaN</td>\n      <td>100000000</td>\n      <td>92534448.8161</td>\n      <td>2</td>\n    </tr>\n    <tr>\n      <th>BDX</th>\n      <td>Beldex</td>\n      <td>CryptoNight</td>\n      <td>PoW</td>\n      <td>-1</td>\n      <td>1400222610</td>\n      <td>2</td>\n    </tr>\n    <tr>\n      <th>CKB</th>\n      <td>Nervos Network</td>\n      <td>Eaglesong</td>\n      <td>PoW</td>\n      <td>-1</td>\n      <td>32154447717.187862</td>\n      <td>2</td>\n    </tr>\n    <tr>\n      <th>NVL</th>\n      <td>Nevula</td>\n      <td>NEP-5</td>\n      <td>NaN</td>\n      <td>40000000000</td>\n      <td>40000000000</td>\n      <td>0</td>\n    </tr>\n    <tr>\n      <th>VEIL</th>\n      <td>VEIL</td>\n      <td>X16RT</td>\n      <td>PoW/PoS</td>\n      <td>300000000</td>\n      <td>110327523.907197</td>\n      <td>0</td>\n    </tr>\n    <tr>\n      <th>HNS</th>\n      <td>Handshake</td>\n      <td>Blake2B + SHA3</td>\n      <td>PoW</td>\n      <td>2040000000</td>\n      <td>387077363.009687</td>\n      <td>2</td>\n    </tr>\n    <tr>\n      <th>MWC</th>\n      <td>MimbleWimbleCoin</td>\n      <td>C31</td>\n      <td>PoW</td>\n      <td>20000000</td>\n      <td>10734636.10694</td>\n      <td>2</td>\n    </tr>\n    <tr>\n      <th>RVC</th>\n      <td>Ravencoin Classic</td>\n      <td>X16R</td>\n      <td>PoW</td>\n      <td>21000000000</td>\n      <td>8785710000</td>\n      <td>2</td>\n    </tr>\n    <tr>\n      <th>AAC</th>\n      <td>Acute Angle Cloud</td>\n      <td>ECC 256K1</td>\n      <td>DPOS</td>\n      <td>-1</td>\n      <td>1000000000</td>\n      <td>0</td>\n    </tr>\n    <tr>\n      <th>PST</th>\n      <td>Primas</td>\n      <td>Scrypt</td>\n      <td>PoW</td>\n      <td>-1</td>\n      <td>100000000</td>\n      <td>2</td>\n    </tr>\n    <tr>\n      <th>ALPHA</th>\n      <td>Alpha Finance Lab</td>\n      <td>BEP20 Token</td>\n      <td>NaN</td>\n      <td>-1</td>\n      <td>1000000000</td>\n      <td>0</td>\n    </tr>\n    <tr>\n      <th>AUR</th>\n      <td>Auroracoin</td>\n      <td>Scrypt</td>\n      <td>PoW/PoS</td>\n      <td>21000000</td>\n      <td>19269809.992959</td>\n      <td>0</td>\n    </tr>\n    <tr>\n      <th>INT</th>\n      <td>INT</td>\n      <td>IMesh</td>\n      <td>DPoS+dBFT</td>\n      <td>1000000000</td>\n      <td>503230816.326412</td>\n      <td>2</td>\n    </tr>\n    <tr>\n      <th>XDNA</th>\n      <td>XDNA</td>\n      <td>HEX</td>\n      <td>PoW/PoS</td>\n      <td>0</td>\n      <td>8830765</td>\n      <td>0</td>\n    </tr>\n    <tr>\n      <th>SWINGBY</th>\n      <td>Swingby</td>\n      <td>BEP2 Token</td>\n      <td>NaN</td>\n      <td>-1</td>\n      <td>1000000000</td>\n      <td>0</td>\n    </tr>\n    <tr>\n      <th>WBBC</th>\n      <td>Wibcoin</td>\n      <td>SHA-256</td>\n      <td>PoW</td>\n      <td>1000016730264.435059</td>\n      <td>1000016730264.435059</td>\n      <td>2</td>\n    </tr>\n    <tr>\n      <th>REV</th>\n      <td>Revain</td>\n      <td>Multiple</td>\n      <td>NaN</td>\n      <td>-1</td>\n      <td>85056346011.834015</td>\n      <td>2</td>\n    </tr>\n    <tr>\n      <th>PHB</th>\n      <td>Red Pulse Phoenix Binance</td>\n      <td>BEP-2</td>\n      <td>NaN</td>\n      <td>-1</td>\n      <td>3492642215.13561</td>\n      <td>0</td>\n    </tr>\n    <tr>\n      <th>TPAY</th>\n      <td>TokenPay</td>\n      <td>POS 3.0</td>\n      <td>PoS</td>\n      <td>25000000</td>\n      <td>21880393</td>\n      <td>0</td>\n    </tr>\n    <tr>\n      <th>XHV</th>\n      <td>Haven Protocol</td>\n      <td>CryptoNight-Heavy</td>\n      <td>PoW</td>\n      <td>-1</td>\n      <td>15070363.436854</td>\n      <td>2</td>\n    </tr>\n    <tr>\n      <th>ETZ</th>\n      <td>EtherZero</td>\n      <td>Ethash</td>\n      <td>PoW</td>\n      <td>-1</td>\n      <td>223967918.95</td>\n      <td>2</td>\n    </tr>\n    <tr>\n      <th>BCHA</th>\n      <td>Bitcoin ABC</td>\n      <td>SHA-256</td>\n      <td>PoW</td>\n      <td>20999999.9769</td>\n      <td>18732814.646789</td>\n      <td>2</td>\n    </tr>\n    <tr>\n      <th>NAX</th>\n      <td>NextDAO</td>\n      <td>NRC20 Token</td>\n      <td>NaN</td>\n      <td>10000000000</td>\n      <td>1991703920.65442</td>\n      <td>0</td>\n    </tr>\n    <tr>\n      <th>QRK</th>\n      <td>QuarkCoin</td>\n      <td>Quark</td>\n      <td>PoW/PoS</td>\n      <td>-1</td>\n      <td>269148702.03298</td>\n      <td>0</td>\n    </tr>\n    <tr>\n      <th>UEC</th>\n      <td>United Emirates Coin</td>\n      <td>Scrypt</td>\n      <td>NaN</td>\n      <td>-1</td>\n      <td>20000000</td>\n      <td>0</td>\n    </tr>\n    <tr>\n      <th>AEON</th>\n      <td>AEON</td>\n      <td>CryptoNight-Lite</td>\n      <td>PoW</td>\n      <td>-1</td>\n      <td>17857770.884147</td>\n      <td>2</td>\n    </tr>\n    <tr>\n      <th>COVAL</th>\n      <td>Circuits of Value</td>\n      <td>Multiple</td>\n      <td>PoW</td>\n      <td>-1</td>\n      <td>1776257418.347133</td>\n      <td>2</td>\n    </tr>\n    <tr>\n      <th>TENT</th>\n      <td>TENT</td>\n      <td>Equihash</td>\n      <td>mPoW</td>\n      <td>84096000</td>\n      <td>35406500</td>\n      <td>2</td>\n    </tr>\n    <tr>\n      <th>OMI</th>\n      <td>ECOMI</td>\n      <td>GO20</td>\n      <td>NaN</td>\n      <td>-1</td>\n      <td>747243485211.362549</td>\n      <td>0</td>\n    </tr>\n    <tr>\n      <th>RISE</th>\n      <td>Rise</td>\n      <td>DPoS</td>\n      <td>PoS</td>\n      <td>-1</td>\n      <td>178144443.41</td>\n      <td>0</td>\n    </tr>\n    <tr>\n      <th>OXYC</th>\n      <td>Oxycoin</td>\n      <td>DPoS</td>\n      <td>DPoS</td>\n      <td>-1</td>\n      <td>1122382283.37</td>\n      <td>0</td>\n    </tr>\n    <tr>\n      <th>BTT</th>\n      <td>BitTorrent</td>\n      <td>TRC10</td>\n      <td>DPoS</td>\n      <td>-1</td>\n      <td>989988496319.432373</td>\n      <td>0</td>\n    </tr>\n    <tr>\n      <th>BAKE</th>\n      <td>BakeryTokeN</td>\n      <td>BEP-2</td>\n      <td>NaN</td>\n      <td>-1</td>\n      <td>672118157.822268</td>\n      <td>0</td>\n    </tr>\n    <tr>\n      <th>DBC</th>\n      <td>DeepBrain Chain</td>\n      <td>NEP-5</td>\n      <td>NaN</td>\n      <td>-1</td>\n      <td>10000000000</td>\n      <td>0</td>\n    </tr>\n    <tr>\n      <th>ANC</th>\n      <td>Anchor Protocol</td>\n      <td>PoS</td>\n      <td>PoS</td>\n      <td>-1</td>\n      <td>1000000000</td>\n      <td>0</td>\n    </tr>\n    <tr>\n      <th>YEE</th>\n      <td>Yee</td>\n      <td>Blake2b</td>\n      <td>NaN</td>\n      <td>-1</td>\n      <td>10000000000</td>\n      <td>2</td>\n    </tr>\n    <tr>\n      <th>AR</th>\n      <td>Arweave</td>\n      <td>SHA-256</td>\n      <td>PoW</td>\n      <td>66000000</td>\n      <td>64201359.69262</td>\n      <td>2</td>\n    </tr>\n    <tr>\n      <th>MAPS</th>\n      <td>MAPS</td>\n      <td>SPL Token</td>\n      <td>PoH</td>\n      <td>10000000000</td>\n      <td>75000000</td>\n      <td>0</td>\n    </tr>\n    <tr>\n      <th>10SET</th>\n      <td>Tenset</td>\n      <td>DPoS</td>\n      <td>NaN</td>\n      <td>-1</td>\n      <td>203610958.803454</td>\n      <td>0</td>\n    </tr>\n    <tr>\n      <th>MEC</th>\n      <td>MegaCoin</td>\n      <td>Scrypt</td>\n      <td>PoW</td>\n      <td>42000000</td>\n      <td>39500766.8681</td>\n      <td>2</td>\n    </tr>\n    <tr>\n      <th>ARRR</th>\n      <td>Pirate Chain</td>\n      <td>Equihash</td>\n      <td>dPoW</td>\n      <td>200000000</td>\n      <td>181585327.64477</td>\n      <td>2</td>\n    </tr>\n    <tr>\n      <th>BTH</th>\n      <td>Bithereum</td>\n      <td>Equihash</td>\n      <td>PoW</td>\n      <td>0</td>\n      <td>30886000</td>\n      <td>2</td>\n    </tr>\n    <tr>\n      <th>WAVES</th>\n      <td>Waves</td>\n      <td>Leased POS</td>\n      <td>LPoS</td>\n      <td>-1</td>\n      <td>105150250</td>\n      <td>0</td>\n    </tr>\n    <tr>\n      <th>ZEN</th>\n      <td>Horizen</td>\n      <td>Equihash</td>\n      <td>PoW</td>\n      <td>21000000</td>\n      <td>11100637.5</td>\n      <td>2</td>\n    </tr>\n    <tr>\n      <th>GRIN</th>\n      <td>Grin</td>\n      <td>C31</td>\n      <td>PoW</td>\n      <td>-1</td>\n      <td>68433315.5025</td>\n      <td>2</td>\n    </tr>\n    <tr>\n      <th>BCMC1</th>\n      <td>BeforeCoinMarketCap</td>\n      <td>Ethash</td>\n      <td>PoW/PoS</td>\n      <td>-1</td>\n      <td>10000000000</td>\n      <td>0</td>\n    </tr>\n    <tr>\n      <th>ZEL</th>\n      <td>Zelcash</td>\n      <td>Equihash</td>\n      <td>PoW/PoS</td>\n      <td>210000000</td>\n      <td>440000000</td>\n      <td>0</td>\n    </tr>\n    <tr>\n      <th>RBTC</th>\n      <td>Smart Bitcoin</td>\n      <td>SHA-256</td>\n      <td>PoW</td>\n      <td>21000000</td>\n      <td>1574.34052</td>\n      <td>2</td>\n    </tr>\n    <tr>\n      <th>WAXP</th>\n      <td>Worldwide Asset eXchange</td>\n      <td>DPoS</td>\n      <td>NaN</td>\n      <td>-1</td>\n      <td>3723328685.446701</td>\n      <td>0</td>\n    </tr>\n    <tr>\n      <th>SHIFT</th>\n      <td>Shift</td>\n      <td>DPoS</td>\n      <td>DPoS</td>\n      <td>-1</td>\n      <td>14838303</td>\n      <td>0</td>\n    </tr>\n    <tr>\n      <th>SLS</th>\n      <td>SaluS</td>\n      <td>Scrypt</td>\n      <td>PoW/PoS</td>\n      <td>-1</td>\n      <td>1032774.549811</td>\n      <td>0</td>\n    </tr>\n    <tr>\n      <th>RVN</th>\n      <td>Ravencoin</td>\n      <td>KAWPOW</td>\n      <td>NaN</td>\n      <td>21000000000</td>\n      <td>8968354397.773466</td>\n      <td>0</td>\n    </tr>\n    <tr>\n      <th>POT</th>\n      <td>PotCoin</td>\n      <td>Scrypt</td>\n      <td>PoW/PoS</td>\n      <td>420000000</td>\n      <td>226184910.634951</td>\n      <td>0</td>\n    </tr>\n    <tr>\n      <th>NXT</th>\n      <td>Nxt</td>\n      <td>PoS</td>\n      <td>PoS/LPoS</td>\n      <td>1000000000</td>\n      <td>998999927.937691</td>\n      <td>0</td>\n    </tr>\n    <tr>\n      <th>NMC</th>\n      <td>Namecoin</td>\n      <td>SHA-256</td>\n      <td>PoW</td>\n      <td>-1</td>\n      <td>17498487.5</td>\n      <td>2</td>\n    </tr>\n    <tr>\n      <th>XMR</th>\n      <td>Monero</td>\n      <td>RandomX</td>\n      <td>PoW</td>\n      <td>-1</td>\n      <td>17913482.65928</td>\n      <td>2</td>\n    </tr>\n    <tr>\n      <th>LTC</th>\n      <td>Litecoin</td>\n      <td>Scrypt</td>\n      <td>PoW</td>\n      <td>84000000</td>\n      <td>67691458.233471</td>\n      <td>2</td>\n    </tr>\n    <tr>\n      <th>ETH</th>\n      <td>Ethereum</td>\n      <td>Ethash</td>\n      <td>PoW</td>\n      <td>-1</td>\n      <td>115948713.3115</td>\n      <td>2</td>\n    </tr>\n    <tr>\n      <th>BCN</th>\n      <td>ByteCoin</td>\n      <td>CryptoNight</td>\n      <td>PoW</td>\n      <td>184470000000</td>\n      <td>184467440737.09552</td>\n      <td>2</td>\n    </tr>\n    <tr>\n      <th>BLOCK</th>\n      <td>BlockNet</td>\n      <td>Quark</td>\n      <td>PoW/PoS</td>\n      <td>-1</td>\n      <td>7699952.865311</td>\n      <td>0</td>\n    </tr>\n    <tr>\n      <th>BTC</th>\n      <td>Bitcoin</td>\n      <td>SHA-256</td>\n      <td>PoW</td>\n      <td>20999999.9769</td>\n      <td>18713700</td>\n      <td>2</td>\n    </tr>\n    <tr>\n      <th>BNB</th>\n      <td>Binance Coin</td>\n      <td>BEP-2</td>\n      <td>PoSA</td>\n      <td>-1</td>\n      <td>169433763.9</td>\n      <td>0</td>\n    </tr>\n    <tr>\n      <th>WAR</th>\n      <td>WeStarter</td>\n      <td>HRC-20 Token</td>\n      <td>NaN</td>\n      <td>-1</td>\n      <td>100000000</td>\n      <td>0</td>\n    </tr>\n    <tr>\n      <th>ZEC</th>\n      <td>ZCash</td>\n      <td>Equihash</td>\n      <td>PoW</td>\n      <td>21000000</td>\n      <td>11112917.908429</td>\n      <td>2</td>\n    </tr>\n    <tr>\n      <th>XWC</th>\n      <td>WhiteCoin</td>\n      <td>Scrypt</td>\n      <td>PoW/PoS</td>\n      <td>1000000000</td>\n      <td>923975800</td>\n      <td>0</td>\n    </tr>\n    <tr>\n      <th>WTC</th>\n      <td>Waltonchain</td>\n      <td>Ethash</td>\n      <td>NaN</td>\n      <td>-1</td>\n      <td>26878827.15519</td>\n      <td>2</td>\n    </tr>\n    <tr>\n      <th>VIA</th>\n      <td>ViaCoin</td>\n      <td>Scrypt</td>\n      <td>PoW</td>\n      <td>-1</td>\n      <td>23174187.873363</td>\n      <td>2</td>\n    </tr>\n    <tr>\n      <th>VTC</th>\n      <td>Vertcoin</td>\n      <td>Lyra2REv2</td>\n      <td>PoW</td>\n      <td>84000000</td>\n      <td>60093898.816635</td>\n      <td>2</td>\n    </tr>\n    <tr>\n      <th>XVG</th>\n      <td>Verge</td>\n      <td>Multiple</td>\n      <td>PoW</td>\n      <td>16555000000</td>\n      <td>16453906744.459188</td>\n      <td>2</td>\n    </tr>\n    <tr>\n      <th>VET</th>\n      <td>VeChain</td>\n      <td>VeChainThor Authority</td>\n      <td>Proof of Authority</td>\n      <td>86712634466</td>\n      <td>85985041177</td>\n      <td>1</td>\n    </tr>\n    <tr>\n      <th>UBQ</th>\n      <td>Ubiq</td>\n      <td>Dagger-Hashimoto</td>\n      <td>PoW</td>\n      <td>-1</td>\n      <td>50909516.603966</td>\n      <td>2</td>\n    </tr>\n    <tr>\n      <th>SYS</th>\n      <td>SysCoin</td>\n      <td>SHA-256</td>\n      <td>PoW</td>\n      <td>888000000</td>\n      <td>612271296.428913</td>\n      <td>2</td>\n    </tr>\n    <tr>\n      <th>STRAX</th>\n      <td>Stratis</td>\n      <td>X13</td>\n      <td>PoS</td>\n      <td>-1</td>\n      <td>131416802</td>\n      <td>0</td>\n    </tr>\n    <tr>\n      <th>STEEM</th>\n      <td>Steem</td>\n      <td>PoS</td>\n      <td>PoW</td>\n      <td>-1</td>\n      <td>383150103.988</td>\n      <td>2</td>\n    </tr>\n    <tr>\n      <th>SMART</th>\n      <td>SmartCash</td>\n      <td>KECCAK</td>\n      <td>PoW</td>\n      <td>5000000000</td>\n      <td>2662003260.561149</td>\n      <td>2</td>\n    </tr>\n    <tr>\n      <th>SIB</th>\n      <td>SibCoin</td>\n      <td>X11GOST</td>\n      <td>PoW</td>\n      <td>21000000</td>\n      <td>19173765.769361</td>\n      <td>2</td>\n    </tr>\n    <tr>\n      <th>SC</th>\n      <td>Siacoin</td>\n      <td>Blake2b</td>\n      <td>PoW</td>\n      <td>-1</td>\n      <td>47815702992</td>\n      <td>2</td>\n    </tr>\n    <tr>\n      <th>RDD</th>\n      <td>Reddcoin</td>\n      <td>Scrypt</td>\n      <td>PoW/PoS</td>\n      <td>-1</td>\n      <td>30194502072.254829</td>\n      <td>0</td>\n    </tr>\n    <tr>\n      <th>QTUM</th>\n      <td>QTUM</td>\n      <td>POS 3.0</td>\n      <td>PoS</td>\n      <td>107822402.25</td>\n      <td>103414218</td>\n      <td>0</td>\n    </tr>\n    <tr>\n      <th>POA</th>\n      <td>Poa Network</td>\n      <td>Proof-of-Authority</td>\n      <td>PoA</td>\n      <td>-1</td>\n      <td>287710731.241438</td>\n      <td>3</td>\n    </tr>\n    <tr>\n      <th>PIVX</th>\n      <td>Private Instant Verified Transaction</td>\n      <td>Quark</td>\n      <td>PoW/PoS</td>\n      <td>-1</td>\n      <td>66061930.242437</td>\n      <td>0</td>\n    </tr>\n    <tr>\n      <th>ONT</th>\n      <td>Ontology</td>\n      <td>VBFT</td>\n      <td>PoS</td>\n      <td>-1</td>\n      <td>1000000000</td>\n      <td>0</td>\n    </tr>\n    <tr>\n      <th>NXS</th>\n      <td>Nexus</td>\n      <td>SHA3</td>\n      <td>PoW/nPoS</td>\n      <td>78000000</td>\n      <td>70576516.887703</td>\n      <td>0</td>\n    </tr>\n    <tr>\n      <th>NEO</th>\n      <td>NEO</td>\n      <td>dBFT2.0</td>\n      <td>NaN</td>\n      <td>100000000</td>\n      <td>100000000</td>\n      <td>0</td>\n    </tr>\n    <tr>\n      <th>NEBL</th>\n      <td>Neblio</td>\n      <td>PoS</td>\n      <td>NaN</td>\n      <td>-1</td>\n      <td>17886325.805877</td>\n      <td>0</td>\n    </tr>\n    <tr>\n      <th>NAV</th>\n      <td>NavCoin</td>\n      <td>X13</td>\n      <td>PoW/PoS</td>\n      <td>-1</td>\n      <td>71717748.827445</td>\n      <td>0</td>\n    </tr>\n    <tr>\n      <th>NANO</th>\n      <td>Nano</td>\n      <td>Blake2b</td>\n      <td>PoW</td>\n      <td>133248290</td>\n      <td>133248290</td>\n      <td>2</td>\n    </tr>\n    <tr>\n      <th>ETP</th>\n      <td>Metaverse</td>\n      <td>Ethash</td>\n      <td>NaN</td>\n      <td>100000000</td>\n      <td>80352601.486749</td>\n      <td>2</td>\n    </tr>\n    <tr>\n      <th>LSK</th>\n      <td>Lisk</td>\n      <td>DPoS</td>\n      <td>DPoS</td>\n      <td>-1</td>\n      <td>144021692</td>\n      <td>0</td>\n    </tr>\n    <tr>\n      <th>KMD</th>\n      <td>Komodo</td>\n      <td>Equihash</td>\n      <td>dPoW/PoW</td>\n      <td>200000000</td>\n      <td>127845633.905734</td>\n      <td>2</td>\n    </tr>\n    <tr>\n      <th>IOC</th>\n      <td>IOCoin</td>\n      <td>X11</td>\n      <td>PoW/PoS</td>\n      <td>22000000</td>\n      <td>18877343.974346</td>\n      <td>0</td>\n    </tr>\n    <tr>\n      <th>HC</th>\n      <td>HyperCash</td>\n      <td>BLAKE256</td>\n      <td>PoW/PoS</td>\n      <td>84000000</td>\n      <td>45071909.329052</td>\n      <td>0</td>\n    </tr>\n    <tr>\n      <th>HPB</th>\n      <td>High Performance Blockchain</td>\n      <td>DPoS</td>\n      <td>NaN</td>\n      <td>100000000</td>\n      <td>88904754.718499</td>\n      <td>0</td>\n    </tr>\n    <tr>\n      <th>NLG</th>\n      <td>Gulden</td>\n      <td>Scrypt</td>\n      <td>PoW</td>\n      <td>1680000000</td>\n      <td>537044745.466513</td>\n      <td>2</td>\n    </tr>\n    <tr>\n      <th>GRS</th>\n      <td>Groestlcoin</td>\n      <td>Groestl</td>\n      <td>PoW</td>\n      <td>105000000</td>\n      <td>77584958.887389</td>\n      <td>2</td>\n    </tr>\n    <tr>\n      <th>FIRO</th>\n      <td>Firo</td>\n      <td>MTP</td>\n      <td>PoW</td>\n      <td>21400000</td>\n      <td>11879475.705893</td>\n      <td>2</td>\n    </tr>\n    <tr>\n      <th>FTC</th>\n      <td>FeatherCoin</td>\n      <td>NeoScrypt</td>\n      <td>PoW</td>\n      <td>336000000</td>\n      <td>243224038.00773</td>\n      <td>2</td>\n    </tr>\n    <tr>\n      <th>EXP</th>\n      <td>Expanse</td>\n      <td>Ethash</td>\n      <td>PoW</td>\n      <td>100000000</td>\n      <td>34700351.97</td>\n      <td>2</td>\n    </tr>\n    <tr>\n      <th>ETC</th>\n      <td>Ethereum Classic</td>\n      <td>Ethash</td>\n      <td>PoW</td>\n      <td>210700000</td>\n      <td>127667335.428771</td>\n      <td>2</td>\n    </tr>\n    <tr>\n      <th>EOS</th>\n      <td>EOS</td>\n      <td>DPoS</td>\n      <td>DPoS</td>\n      <td>-1</td>\n      <td>1029701801.1791</td>\n      <td>0</td>\n    </tr>\n    <tr>\n      <th>EMC2</th>\n      <td>Einsteinium</td>\n      <td>Scrypt</td>\n      <td>PoW</td>\n      <td>-1</td>\n      <td>221659866.499999</td>\n      <td>2</td>\n    </tr>\n    <tr>\n      <th>DOGE</th>\n      <td>Dogecoin</td>\n      <td>Scrypt</td>\n      <td>PoW</td>\n      <td>-1</td>\n      <td>129539506383.704224</td>\n      <td>2</td>\n    </tr>\n    <tr>\n      <th>XDN</th>\n      <td>DigitalNote</td>\n      <td>BMW512 / Echo512</td>\n      <td>PoW/PoS</td>\n      <td>-1</td>\n      <td>5042066640.365834</td>\n      <td>0</td>\n    </tr>\n    <tr>\n      <th>DCR</th>\n      <td>Decred</td>\n      <td>BLAKE256</td>\n      <td>PoW/PoS</td>\n      <td>21000000</td>\n      <td>12943046.686888</td>\n      <td>0</td>\n    </tr>\n    <tr>\n      <th>DASH</th>\n      <td>Dash</td>\n      <td>X11</td>\n      <td>PoW/PoSe</td>\n      <td>18900000</td>\n      <td>10144063.42558</td>\n      <td>0</td>\n    </tr>\n    <tr>\n      <th>CLOAK</th>\n      <td>CloakCoin</td>\n      <td>X13</td>\n      <td>PoW/PoS</td>\n      <td>-1</td>\n      <td>5644364.707312</td>\n      <td>0</td>\n    </tr>\n    <tr>\n      <th>ADA</th>\n      <td>Cardano</td>\n      <td>Ouroboros</td>\n      <td>PoS</td>\n      <td>45000000000</td>\n      <td>32109714760.12439</td>\n      <td>0</td>\n    </tr>\n    <tr>\n      <th>BTM</th>\n      <td>Bytom</td>\n      <td>Tensority</td>\n      <td>PoW</td>\n      <td>210000000</td>\n      <td>1678342912.5</td>\n      <td>2</td>\n    </tr>\n    <tr>\n      <th>BURST</th>\n      <td>BurstCoin</td>\n      <td>Shabal256</td>\n      <td>PoC</td>\n      <td>2158812800</td>\n      <td>2111830238</td>\n      <td>0</td>\n    </tr>\n    <tr>\n      <th>BLK</th>\n      <td>BlackCoin</td>\n      <td>Scrypt</td>\n      <td>PoS</td>\n      <td>100000000</td>\n      <td>60669291.346478</td>\n      <td>0</td>\n    </tr>\n    <tr>\n      <th>BTS</th>\n      <td>Bitshares</td>\n      <td>SHA-512</td>\n      <td>DPoS</td>\n      <td>3600570502</td>\n      <td>2994900734.38869</td>\n      <td>0</td>\n    </tr>\n    <tr>\n      <th>BSV</th>\n      <td>Bitcoin SV</td>\n      <td>SHA-256</td>\n      <td>PoW</td>\n      <td>20999999.9769</td>\n      <td>18737545.394239</td>\n      <td>2</td>\n    </tr>\n    <tr>\n      <th>BCD</th>\n      <td>Bitcoin Diamond</td>\n      <td>X13</td>\n      <td>PoW/PoS</td>\n      <td>210000000</td>\n      <td>200224750</td>\n      <td>0</td>\n    </tr>\n    <tr>\n      <th>BCH</th>\n      <td>Bitcoin Cash</td>\n      <td>SHA-256</td>\n      <td>PoW</td>\n      <td>20999999.9769</td>\n      <td>18741649.896789</td>\n      <td>2</td>\n    </tr>\n    <tr>\n      <th>ARK</th>\n      <td>ARK</td>\n      <td>DPoS</td>\n      <td>DPoS</td>\n      <td>-1</td>\n      <td>157389470.0</td>\n      <td>0</td>\n    </tr>\n    <tr>\n      <th>AION</th>\n      <td>Aion</td>\n      <td>Equihash210,9</td>\n      <td>PoW/PoS</td>\n      <td>-1</td>\n      <td>492427074</td>\n      <td>0</td>\n    </tr>\n    <tr>\n      <th>ACT</th>\n      <td>Achain</td>\n      <td>DPoS</td>\n      <td>DPoS</td>\n      <td>0</td>\n      <td>1000000000</td>\n      <td>0</td>\n    </tr>\n    <tr>\n      <th>BTG</th>\n      <td>Bitcoin Gold</td>\n      <td>Equihash</td>\n      <td>PoW</td>\n      <td>21000000</td>\n      <td>18729704.860885</td>\n      <td>2</td>\n    </tr>\n    <tr>\n      <th>ICX</th>\n      <td>ICON Project</td>\n      <td>Loopchain</td>\n      <td>PoS</td>\n      <td>-1</td>\n      <td>889168519.418303</td>\n      <td>0</td>\n    </tr>\n    <tr>\n      <th>DGB</th>\n      <td>DigiByte</td>\n      <td>Multiple</td>\n      <td>PoW</td>\n      <td>21000000000</td>\n      <td>14324667000.795696</td>\n      <td>2</td>\n    </tr>\n    <tr>\n      <th>YOOSHI</th>\n      <td>YooShi</td>\n      <td>BEP-20 Token</td>\n      <td>NaN</td>\n      <td>-1</td>\n      <td>443435939231077.1875</td>\n      <td>0</td>\n    </tr>\n  </tbody>\n</table>\n</div>"
     },
     "metadata": {}
    }
   ],
   "source": [
    "with pd.option_context(\"display.max_rows\", None, \"display.max_columns\", None):\n",
    "    display(\n",
    "        df_crypto_predict[[\n",
    "            \"CoinName\",\"Algorithm\",\"ProofType\", \"MaxSupply\",          \"TotalCoinsMined\",\"Class\",\n",
    "            ]]\n",
    "    )"
   ]
  },
  {
   "cell_type": "code",
   "execution_count": null,
   "metadata": {},
   "outputs": [],
   "source": []
  }
 ],
 "metadata": {
  "file_extension": ".py",
  "kernelspec": {
   "name": "python3710jvsc74a57bd02ec7e618890eaf650adabfc87b1462639950bbddc6236b16416d157c24e8754c",
   "display_name": "Python 3.7.10 64-bit ('mlenv': conda)"
  },
  "language_info": {
   "codemirror_mode": {
    "name": "ipython",
    "version": 3
   },
   "file_extension": ".py",
   "mimetype": "text/x-python",
   "name": "python",
   "nbconvert_exporter": "python",
   "pygments_lexer": "ipython3",
   "version": "3.7.10"
  },
  "mimetype": "text/x-python",
  "name": "python",
  "npconvert_exporter": "python",
  "pygments_lexer": "ipython3",
  "version": 3
 },
 "nbformat": 4,
 "nbformat_minor": 4
}